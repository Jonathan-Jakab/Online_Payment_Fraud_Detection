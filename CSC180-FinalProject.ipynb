{
 "cells": [
  {
   "cell_type": "markdown",
   "id": "bd6b1a31",
   "metadata": {},
   "source": [
    "#### CSC 180-01 Intelligent Systems (Fall 2022)\n",
    "##### Group: Jonathan Jakab,  Jacob Hallum, Mahdi Noureddine\n",
    "##### California State University, Sacramento"
   ]
  },
  {
   "cell_type": "markdown",
   "id": "d6908852",
   "metadata": {},
   "source": [
    "# Project 4: It's My Money!\n",
    "## The Defence Against Online Payment Fraud"
   ]
  },
  {
   "cell_type": "markdown",
   "id": "a5e37e74",
   "metadata": {},
   "source": [
    "# \n",
    "### GPU Memory Allocation."
   ]
  },
  {
   "cell_type": "code",
   "execution_count": 1,
   "id": "7dcc3bd5",
   "metadata": {},
   "outputs": [
    {
     "name": "stdout",
     "output_type": "stream",
     "text": [
      "1 Physical GPUs, 1 Logical GPUs\n"
     ]
    }
   ],
   "source": [
    "import tensorflow as tf\n",
    "\n",
    "# Sets max GPU memory usage\n",
    "gpus = tf.config.list_physical_devices('GPU')\n",
    "if gpus:\n",
    "    # Restrict TensorFlow to only allocate 10GB of memory on the first GPU\n",
    "    try:\n",
    "        tf.config.set_logical_device_configuration(gpus[0], [tf.config.LogicalDeviceConfiguration(memory_limit=18432)])\n",
    "        logical_gpus = tf.config.list_logical_devices('GPU')\n",
    "        print(len(gpus), \"Physical GPUs,\", len(logical_gpus), \"Logical GPUs\")\n",
    "    except RuntimeError as e:\n",
    "        print(e)"
   ]
  },
  {
   "cell_type": "code",
   "execution_count": 1,
   "id": "6ba72b9a",
   "metadata": {},
   "outputs": [
    {
     "data": {
      "text/plain": [
       "'/device:GPU:0'"
      ]
     },
     "execution_count": 1,
     "metadata": {},
     "output_type": "execute_result"
    }
   ],
   "source": [
    "import tensorflow as tf\n",
    "\n",
    "tf.test.gpu_device_name()"
   ]
  },
  {
   "cell_type": "markdown",
   "id": "67242ee0",
   "metadata": {},
   "source": [
    "# \n",
    "# Imports\n",
    "Contains the imports for the applications. "
   ]
  },
  {
   "cell_type": "code",
   "execution_count": 2,
   "id": "b5b7d084",
   "metadata": {
    "scrolled": true
   },
   "outputs": [],
   "source": [
    "import os\n",
    "import csv\n",
    "import json\n",
    "import shutil\n",
    "import numpy as np\n",
    "import pandas as pd\n",
    "\n",
    "from collections.abc import Sequence\n",
    "\n",
    "import matplotlib.pyplot as plt\n",
    "\n",
    "from sklearn import datasets, metrics, svm\n",
    "from sklearn import preprocessing\n",
    "from sklearn.model_selection import train_test_split\n",
    "import sklearn.feature_extraction.text as sk_text\n",
    "from sklearn.metrics import confusion_matrix, classification_report\n",
    "\n",
    "from tensorflow.keras.models import Sequential, load_model\n",
    "from tensorflow.keras.layers import Dense, Activation, Dropout, Flatten, Conv2D, MaxPooling2D\n",
    "from tensorflow.keras.callbacks import EarlyStopping\n",
    "from tensorflow.keras.callbacks import ModelCheckpoint"
   ]
  },
  {
   "cell_type": "markdown",
   "id": "f86ffa3a",
   "metadata": {},
   "source": [
    "# \n",
    "# Helpful Functions for Tensorflow (from Labs)\n",
    "\n",
    "The following functions will be used with TensorFlow to help preprocess the data.  They allow you to build the feature vector for a neural network. \n",
    "\n",
    "* Predictors/Inputs \n",
    "    * Fill any missing inputs with the median for that column.  Use **missing_median**.\n",
    "    * Encode textual/categorical values with **encode_text_dummy**.\n",
    "    * Encode numeric values with **encode_numeric_zscore**.\n",
    "* Output\n",
    "    * Discard rows with missing outputs.\n",
    "    * Encode textual/categorical values with **encode_text_index**.\n",
    "    * Do not encode output numeric values.\n",
    "* Produce final feature vectors (x) and expected output (y) with **to_xy**."
   ]
  },
  {
   "cell_type": "code",
   "execution_count": 29,
   "id": "97dc45db",
   "metadata": {},
   "outputs": [],
   "source": [
    "# Encode text values to dummy variables(i.e. [1,0,0],[0,1,0],[0,0,1] for red,green,blue)\n",
    "def encode_text_dummy(df, name):\n",
    "    dummies = pd.get_dummies(df[name])\n",
    "    for x in dummies.columns:\n",
    "        dummy_name = \"{}-{}\".format(name, x)\n",
    "        df[dummy_name] = dummies[x]\n",
    "    df.drop(name, axis=1, inplace=True)\n",
    "    \n",
    "# Encode text values to indexes(i.e. [1],[2],[3] for red,green,blue).\n",
    "def encode_text_index(df, name):\n",
    "    le = preprocessing.LabelEncoder()\n",
    "    df[name] = le.fit_transform(df[name])\n",
    "    return le.classes_\n",
    "    \n",
    "# Encode a numeric column as zscores\n",
    "def encode_numeric_zscore(df, name, mean=None, sd=None):\n",
    "    if mean is None:\n",
    "        mean = df[name].mean()\n",
    "\n",
    "    if sd is None:\n",
    "        sd = df[name].std()\n",
    "\n",
    "    df[name] = (df[name] - mean) / sd\n",
    "    \n",
    "# Convert a Pandas dataframe to the x,y inputs that TensorFlow needs\n",
    "def to_xy(df, target):\n",
    "    result = []\n",
    "    for x in df.columns:\n",
    "        if x != target:\n",
    "            result.append(x)\n",
    "    # find out the type of the target column. \n",
    "    target_type = df[target].dtypes\n",
    "    target_type = target_type[0] if isinstance(target_type, Sequence) else target_type\n",
    "    # Encode to int for classification, float otherwise. TensorFlow likes 32 bits.\n",
    "    if target_type in (np.int64, np.int32):\n",
    "        # Classification\n",
    "        dummies = pd.get_dummies(df[target])\n",
    "        return df[result].values.astype(np.float32), dummies.values.astype(np.float32)\n",
    "    else:\n",
    "        # Regression\n",
    "        return df[result].values.astype(np.float32), df[target].values.astype(np.float32)\n",
    "    \n",
    "def plot_confusion_matrix(cm, names, title='Confusion matrix', cmap=plt.cm.Blues):\n",
    "    plt.imshow(cm, interpolation='nearest', cmap=cmap)\n",
    "    plt.title(title)\n",
    "    plt.colorbar()\n",
    "    tick_marks = np.arange(len(names))\n",
    "    plt.xticks(tick_marks, names, rotation=45)\n",
    "    plt.yticks(tick_marks, names)\n",
    "    plt.tight_layout()\n",
    "    plt.ylabel('True label')\n",
    "    plt.xlabel('Predicted label')"
   ]
  },
  {
   "cell_type": "markdown",
   "id": "f11c5eb2",
   "metadata": {},
   "source": [
    "# \n",
    "# Input/Output Setup\n",
    "* Checks if directories for data input and output are created/ create the directories.\n",
    "* Reads in data from the CSV file located in the data directory"
   ]
  },
  {
   "cell_type": "code",
   "execution_count": 4,
   "id": "4ee4f7e6",
   "metadata": {},
   "outputs": [
    {
     "name": "stdout",
     "output_type": "stream",
     "text": [
      "Directory Exists\n"
     ]
    }
   ],
   "source": [
    "# Get current working directory\n",
    "current_directory = os.getcwd()\n",
    "\n",
    "# Sets up input file locations for the data input.\n",
    "dataPath = \"./data/\"\n",
    "dataDirectory = os.path.join(current_directory, dataPath)\n",
    "\n",
    "# Sets up locations for the data output location.\n",
    "savePath = \"./output/\"\n",
    "saveDirectory = os.path.join(current_directory, savePath)\n",
    "\n",
    "if os.path.exists(saveDirectory):\n",
    "    print('Directory Exists')\n",
    "else:\n",
    "    os.makedirs(saveDirectory)"
   ]
  },
  {
   "cell_type": "markdown",
   "id": "d8ecc35a",
   "metadata": {},
   "source": [
    "# \n",
    "# Data Processing\n",
    "## Read in data from onlinefraud.csv\n",
    "### Columns in dataset\n",
    "\n",
    "* step: represents a unit of time where 1 step equals 1 hour.\n",
    "* type: type of online transaction\n",
    "* amount: the amount of the transaction\n",
    "* nameOrig: customer starting the transaction\n",
    "* oldbalanceOrg: balance before the transaction\n",
    "* newbalanceOrig: balance after the transaction\n",
    "* nameDest: recipient of the transaction\n",
    "* oldbalanceDest: initial balance of recipient before the transaction\n",
    "* newbalanceDest: the new balance of recipient after the transaction\n",
    "* isFraud: fraud transaction\n",
    "* isFlaggedFraud: "
   ]
  },
  {
   "cell_type": "code",
   "execution_count": 32,
   "id": "3895e8e8",
   "metadata": {
    "scrolled": false
   },
   "outputs": [
    {
     "data": {
      "text/html": [
       "<div>\n",
       "<style scoped>\n",
       "    .dataframe tbody tr th:only-of-type {\n",
       "        vertical-align: middle;\n",
       "    }\n",
       "\n",
       "    .dataframe tbody tr th {\n",
       "        vertical-align: top;\n",
       "    }\n",
       "\n",
       "    .dataframe thead th {\n",
       "        text-align: right;\n",
       "    }\n",
       "</style>\n",
       "<table border=\"1\" class=\"dataframe\">\n",
       "  <thead>\n",
       "    <tr style=\"text-align: right;\">\n",
       "      <th></th>\n",
       "      <th>step</th>\n",
       "      <th>type</th>\n",
       "      <th>amount</th>\n",
       "      <th>nameOrig</th>\n",
       "      <th>oldbalanceOrg</th>\n",
       "      <th>newbalanceOrig</th>\n",
       "      <th>nameDest</th>\n",
       "      <th>oldbalanceDest</th>\n",
       "      <th>newbalanceDest</th>\n",
       "      <th>isFraud</th>\n",
       "      <th>isFlaggedFraud</th>\n",
       "    </tr>\n",
       "  </thead>\n",
       "  <tbody>\n",
       "    <tr>\n",
       "      <th>0</th>\n",
       "      <td>1</td>\n",
       "      <td>PAYMENT</td>\n",
       "      <td>9839.64</td>\n",
       "      <td>C1231006815</td>\n",
       "      <td>170136.00</td>\n",
       "      <td>160296.36</td>\n",
       "      <td>M1979787155</td>\n",
       "      <td>0.00</td>\n",
       "      <td>0.00</td>\n",
       "      <td>0</td>\n",
       "      <td>0</td>\n",
       "    </tr>\n",
       "    <tr>\n",
       "      <th>1</th>\n",
       "      <td>1</td>\n",
       "      <td>PAYMENT</td>\n",
       "      <td>1864.28</td>\n",
       "      <td>C1666544295</td>\n",
       "      <td>21249.00</td>\n",
       "      <td>19384.72</td>\n",
       "      <td>M2044282225</td>\n",
       "      <td>0.00</td>\n",
       "      <td>0.00</td>\n",
       "      <td>0</td>\n",
       "      <td>0</td>\n",
       "    </tr>\n",
       "    <tr>\n",
       "      <th>2</th>\n",
       "      <td>1</td>\n",
       "      <td>TRANSFER</td>\n",
       "      <td>181.00</td>\n",
       "      <td>C1305486145</td>\n",
       "      <td>181.00</td>\n",
       "      <td>0.00</td>\n",
       "      <td>C553264065</td>\n",
       "      <td>0.00</td>\n",
       "      <td>0.00</td>\n",
       "      <td>1</td>\n",
       "      <td>0</td>\n",
       "    </tr>\n",
       "    <tr>\n",
       "      <th>3</th>\n",
       "      <td>1</td>\n",
       "      <td>CASH_OUT</td>\n",
       "      <td>181.00</td>\n",
       "      <td>C840083671</td>\n",
       "      <td>181.00</td>\n",
       "      <td>0.00</td>\n",
       "      <td>C38997010</td>\n",
       "      <td>21182.00</td>\n",
       "      <td>0.00</td>\n",
       "      <td>1</td>\n",
       "      <td>0</td>\n",
       "    </tr>\n",
       "    <tr>\n",
       "      <th>4</th>\n",
       "      <td>1</td>\n",
       "      <td>PAYMENT</td>\n",
       "      <td>11668.14</td>\n",
       "      <td>C2048537720</td>\n",
       "      <td>41554.00</td>\n",
       "      <td>29885.86</td>\n",
       "      <td>M1230701703</td>\n",
       "      <td>0.00</td>\n",
       "      <td>0.00</td>\n",
       "      <td>0</td>\n",
       "      <td>0</td>\n",
       "    </tr>\n",
       "    <tr>\n",
       "      <th>...</th>\n",
       "      <td>...</td>\n",
       "      <td>...</td>\n",
       "      <td>...</td>\n",
       "      <td>...</td>\n",
       "      <td>...</td>\n",
       "      <td>...</td>\n",
       "      <td>...</td>\n",
       "      <td>...</td>\n",
       "      <td>...</td>\n",
       "      <td>...</td>\n",
       "      <td>...</td>\n",
       "    </tr>\n",
       "    <tr>\n",
       "      <th>6362615</th>\n",
       "      <td>743</td>\n",
       "      <td>CASH_OUT</td>\n",
       "      <td>339682.13</td>\n",
       "      <td>C786484425</td>\n",
       "      <td>339682.13</td>\n",
       "      <td>0.00</td>\n",
       "      <td>C776919290</td>\n",
       "      <td>0.00</td>\n",
       "      <td>339682.13</td>\n",
       "      <td>1</td>\n",
       "      <td>0</td>\n",
       "    </tr>\n",
       "    <tr>\n",
       "      <th>6362616</th>\n",
       "      <td>743</td>\n",
       "      <td>TRANSFER</td>\n",
       "      <td>6311409.28</td>\n",
       "      <td>C1529008245</td>\n",
       "      <td>6311409.28</td>\n",
       "      <td>0.00</td>\n",
       "      <td>C1881841831</td>\n",
       "      <td>0.00</td>\n",
       "      <td>0.00</td>\n",
       "      <td>1</td>\n",
       "      <td>0</td>\n",
       "    </tr>\n",
       "    <tr>\n",
       "      <th>6362617</th>\n",
       "      <td>743</td>\n",
       "      <td>CASH_OUT</td>\n",
       "      <td>6311409.28</td>\n",
       "      <td>C1162922333</td>\n",
       "      <td>6311409.28</td>\n",
       "      <td>0.00</td>\n",
       "      <td>C1365125890</td>\n",
       "      <td>68488.84</td>\n",
       "      <td>6379898.11</td>\n",
       "      <td>1</td>\n",
       "      <td>0</td>\n",
       "    </tr>\n",
       "    <tr>\n",
       "      <th>6362618</th>\n",
       "      <td>743</td>\n",
       "      <td>TRANSFER</td>\n",
       "      <td>850002.52</td>\n",
       "      <td>C1685995037</td>\n",
       "      <td>850002.52</td>\n",
       "      <td>0.00</td>\n",
       "      <td>C2080388513</td>\n",
       "      <td>0.00</td>\n",
       "      <td>0.00</td>\n",
       "      <td>1</td>\n",
       "      <td>0</td>\n",
       "    </tr>\n",
       "    <tr>\n",
       "      <th>6362619</th>\n",
       "      <td>743</td>\n",
       "      <td>CASH_OUT</td>\n",
       "      <td>850002.52</td>\n",
       "      <td>C1280323807</td>\n",
       "      <td>850002.52</td>\n",
       "      <td>0.00</td>\n",
       "      <td>C873221189</td>\n",
       "      <td>6510099.11</td>\n",
       "      <td>7360101.63</td>\n",
       "      <td>1</td>\n",
       "      <td>0</td>\n",
       "    </tr>\n",
       "  </tbody>\n",
       "</table>\n",
       "<p>6362620 rows × 11 columns</p>\n",
       "</div>"
      ],
      "text/plain": [
       "         step      type      amount     nameOrig  oldbalanceOrg  \\\n",
       "0           1   PAYMENT     9839.64  C1231006815      170136.00   \n",
       "1           1   PAYMENT     1864.28  C1666544295       21249.00   \n",
       "2           1  TRANSFER      181.00  C1305486145         181.00   \n",
       "3           1  CASH_OUT      181.00   C840083671         181.00   \n",
       "4           1   PAYMENT    11668.14  C2048537720       41554.00   \n",
       "...       ...       ...         ...          ...            ...   \n",
       "6362615   743  CASH_OUT   339682.13   C786484425      339682.13   \n",
       "6362616   743  TRANSFER  6311409.28  C1529008245     6311409.28   \n",
       "6362617   743  CASH_OUT  6311409.28  C1162922333     6311409.28   \n",
       "6362618   743  TRANSFER   850002.52  C1685995037      850002.52   \n",
       "6362619   743  CASH_OUT   850002.52  C1280323807      850002.52   \n",
       "\n",
       "         newbalanceOrig     nameDest  oldbalanceDest  newbalanceDest  isFraud  \\\n",
       "0             160296.36  M1979787155            0.00            0.00        0   \n",
       "1              19384.72  M2044282225            0.00            0.00        0   \n",
       "2                  0.00   C553264065            0.00            0.00        1   \n",
       "3                  0.00    C38997010        21182.00            0.00        1   \n",
       "4              29885.86  M1230701703            0.00            0.00        0   \n",
       "...                 ...          ...             ...             ...      ...   \n",
       "6362615            0.00   C776919290            0.00       339682.13        1   \n",
       "6362616            0.00  C1881841831            0.00            0.00        1   \n",
       "6362617            0.00  C1365125890        68488.84      6379898.11        1   \n",
       "6362618            0.00  C2080388513            0.00            0.00        1   \n",
       "6362619            0.00   C873221189      6510099.11      7360101.63        1   \n",
       "\n",
       "         isFlaggedFraud  \n",
       "0                     0  \n",
       "1                     0  \n",
       "2                     0  \n",
       "3                     0  \n",
       "4                     0  \n",
       "...                 ...  \n",
       "6362615               0  \n",
       "6362616               0  \n",
       "6362617               0  \n",
       "6362618               0  \n",
       "6362619               0  \n",
       "\n",
       "[6362620 rows x 11 columns]"
      ]
     },
     "execution_count": 32,
     "metadata": {},
     "output_type": "execute_result"
    }
   ],
   "source": [
    "data = pd.read_csv(dataDirectory+'onlinefraud.csv',delimiter = ',', encoding = \"utf-8\")\n",
    "data"
   ]
  },
  {
   "cell_type": "markdown",
   "id": "7c353851",
   "metadata": {},
   "source": [
    "# \n",
    "## Missing and Null Values In Dataset\n",
    "* Check for any Missing or Null Values in the Dataset"
   ]
  },
  {
   "cell_type": "code",
   "execution_count": 33,
   "id": "9a340a06",
   "metadata": {},
   "outputs": [
    {
     "data": {
      "text/plain": [
       "step              0\n",
       "type              0\n",
       "amount            0\n",
       "nameOrig          0\n",
       "oldbalanceOrg     0\n",
       "newbalanceOrig    0\n",
       "nameDest          0\n",
       "oldbalanceDest    0\n",
       "newbalanceDest    0\n",
       "isFraud           0\n",
       "isFlaggedFraud    0\n",
       "dtype: int64"
      ]
     },
     "execution_count": 33,
     "metadata": {},
     "output_type": "execute_result"
    }
   ],
   "source": [
    "data.isnull().sum()"
   ]
  },
  {
   "cell_type": "markdown",
   "id": "5d8aa424",
   "metadata": {},
   "source": [
    "# \n",
    "## Duplicate Records In Dataset\n",
    "* Check for any Duplicate Records in the Dataset\n",
    "* Drop any Duplicate Records in the Dataset\n",
    "* Note: Use Reset_index to reindex the dataset to remove gaps created from data removal."
   ]
  },
  {
   "cell_type": "code",
   "execution_count": 34,
   "id": "feff07e1",
   "metadata": {},
   "outputs": [
    {
     "name": "stdout",
     "output_type": "stream",
     "text": [
      "Number of Duplicates: 0\n"
     ]
    }
   ],
   "source": [
    "num_duplicates = data.duplicated()\n",
    "print(\"Number of Duplicates:\", num_duplicates.sum())"
   ]
  },
  {
   "cell_type": "code",
   "execution_count": 35,
   "id": "4765af29",
   "metadata": {},
   "outputs": [
    {
     "data": {
      "text/html": [
       "<div>\n",
       "<style scoped>\n",
       "    .dataframe tbody tr th:only-of-type {\n",
       "        vertical-align: middle;\n",
       "    }\n",
       "\n",
       "    .dataframe tbody tr th {\n",
       "        vertical-align: top;\n",
       "    }\n",
       "\n",
       "    .dataframe thead th {\n",
       "        text-align: right;\n",
       "    }\n",
       "</style>\n",
       "<table border=\"1\" class=\"dataframe\">\n",
       "  <thead>\n",
       "    <tr style=\"text-align: right;\">\n",
       "      <th></th>\n",
       "      <th>step</th>\n",
       "      <th>type</th>\n",
       "      <th>amount</th>\n",
       "      <th>nameOrig</th>\n",
       "      <th>oldbalanceOrg</th>\n",
       "      <th>newbalanceOrig</th>\n",
       "      <th>nameDest</th>\n",
       "      <th>oldbalanceDest</th>\n",
       "      <th>newbalanceDest</th>\n",
       "      <th>isFraud</th>\n",
       "      <th>isFlaggedFraud</th>\n",
       "    </tr>\n",
       "  </thead>\n",
       "  <tbody>\n",
       "    <tr>\n",
       "      <th>0</th>\n",
       "      <td>1</td>\n",
       "      <td>PAYMENT</td>\n",
       "      <td>9839.64</td>\n",
       "      <td>C1231006815</td>\n",
       "      <td>170136.00</td>\n",
       "      <td>160296.36</td>\n",
       "      <td>M1979787155</td>\n",
       "      <td>0.00</td>\n",
       "      <td>0.00</td>\n",
       "      <td>0</td>\n",
       "      <td>0</td>\n",
       "    </tr>\n",
       "    <tr>\n",
       "      <th>1</th>\n",
       "      <td>1</td>\n",
       "      <td>PAYMENT</td>\n",
       "      <td>1864.28</td>\n",
       "      <td>C1666544295</td>\n",
       "      <td>21249.00</td>\n",
       "      <td>19384.72</td>\n",
       "      <td>M2044282225</td>\n",
       "      <td>0.00</td>\n",
       "      <td>0.00</td>\n",
       "      <td>0</td>\n",
       "      <td>0</td>\n",
       "    </tr>\n",
       "    <tr>\n",
       "      <th>2</th>\n",
       "      <td>1</td>\n",
       "      <td>TRANSFER</td>\n",
       "      <td>181.00</td>\n",
       "      <td>C1305486145</td>\n",
       "      <td>181.00</td>\n",
       "      <td>0.00</td>\n",
       "      <td>C553264065</td>\n",
       "      <td>0.00</td>\n",
       "      <td>0.00</td>\n",
       "      <td>1</td>\n",
       "      <td>0</td>\n",
       "    </tr>\n",
       "    <tr>\n",
       "      <th>3</th>\n",
       "      <td>1</td>\n",
       "      <td>CASH_OUT</td>\n",
       "      <td>181.00</td>\n",
       "      <td>C840083671</td>\n",
       "      <td>181.00</td>\n",
       "      <td>0.00</td>\n",
       "      <td>C38997010</td>\n",
       "      <td>21182.00</td>\n",
       "      <td>0.00</td>\n",
       "      <td>1</td>\n",
       "      <td>0</td>\n",
       "    </tr>\n",
       "    <tr>\n",
       "      <th>4</th>\n",
       "      <td>1</td>\n",
       "      <td>PAYMENT</td>\n",
       "      <td>11668.14</td>\n",
       "      <td>C2048537720</td>\n",
       "      <td>41554.00</td>\n",
       "      <td>29885.86</td>\n",
       "      <td>M1230701703</td>\n",
       "      <td>0.00</td>\n",
       "      <td>0.00</td>\n",
       "      <td>0</td>\n",
       "      <td>0</td>\n",
       "    </tr>\n",
       "    <tr>\n",
       "      <th>...</th>\n",
       "      <td>...</td>\n",
       "      <td>...</td>\n",
       "      <td>...</td>\n",
       "      <td>...</td>\n",
       "      <td>...</td>\n",
       "      <td>...</td>\n",
       "      <td>...</td>\n",
       "      <td>...</td>\n",
       "      <td>...</td>\n",
       "      <td>...</td>\n",
       "      <td>...</td>\n",
       "    </tr>\n",
       "    <tr>\n",
       "      <th>6362615</th>\n",
       "      <td>743</td>\n",
       "      <td>CASH_OUT</td>\n",
       "      <td>339682.13</td>\n",
       "      <td>C786484425</td>\n",
       "      <td>339682.13</td>\n",
       "      <td>0.00</td>\n",
       "      <td>C776919290</td>\n",
       "      <td>0.00</td>\n",
       "      <td>339682.13</td>\n",
       "      <td>1</td>\n",
       "      <td>0</td>\n",
       "    </tr>\n",
       "    <tr>\n",
       "      <th>6362616</th>\n",
       "      <td>743</td>\n",
       "      <td>TRANSFER</td>\n",
       "      <td>6311409.28</td>\n",
       "      <td>C1529008245</td>\n",
       "      <td>6311409.28</td>\n",
       "      <td>0.00</td>\n",
       "      <td>C1881841831</td>\n",
       "      <td>0.00</td>\n",
       "      <td>0.00</td>\n",
       "      <td>1</td>\n",
       "      <td>0</td>\n",
       "    </tr>\n",
       "    <tr>\n",
       "      <th>6362617</th>\n",
       "      <td>743</td>\n",
       "      <td>CASH_OUT</td>\n",
       "      <td>6311409.28</td>\n",
       "      <td>C1162922333</td>\n",
       "      <td>6311409.28</td>\n",
       "      <td>0.00</td>\n",
       "      <td>C1365125890</td>\n",
       "      <td>68488.84</td>\n",
       "      <td>6379898.11</td>\n",
       "      <td>1</td>\n",
       "      <td>0</td>\n",
       "    </tr>\n",
       "    <tr>\n",
       "      <th>6362618</th>\n",
       "      <td>743</td>\n",
       "      <td>TRANSFER</td>\n",
       "      <td>850002.52</td>\n",
       "      <td>C1685995037</td>\n",
       "      <td>850002.52</td>\n",
       "      <td>0.00</td>\n",
       "      <td>C2080388513</td>\n",
       "      <td>0.00</td>\n",
       "      <td>0.00</td>\n",
       "      <td>1</td>\n",
       "      <td>0</td>\n",
       "    </tr>\n",
       "    <tr>\n",
       "      <th>6362619</th>\n",
       "      <td>743</td>\n",
       "      <td>CASH_OUT</td>\n",
       "      <td>850002.52</td>\n",
       "      <td>C1280323807</td>\n",
       "      <td>850002.52</td>\n",
       "      <td>0.00</td>\n",
       "      <td>C873221189</td>\n",
       "      <td>6510099.11</td>\n",
       "      <td>7360101.63</td>\n",
       "      <td>1</td>\n",
       "      <td>0</td>\n",
       "    </tr>\n",
       "  </tbody>\n",
       "</table>\n",
       "<p>6362620 rows × 11 columns</p>\n",
       "</div>"
      ],
      "text/plain": [
       "         step      type      amount     nameOrig  oldbalanceOrg  \\\n",
       "0           1   PAYMENT     9839.64  C1231006815      170136.00   \n",
       "1           1   PAYMENT     1864.28  C1666544295       21249.00   \n",
       "2           1  TRANSFER      181.00  C1305486145         181.00   \n",
       "3           1  CASH_OUT      181.00   C840083671         181.00   \n",
       "4           1   PAYMENT    11668.14  C2048537720       41554.00   \n",
       "...       ...       ...         ...          ...            ...   \n",
       "6362615   743  CASH_OUT   339682.13   C786484425      339682.13   \n",
       "6362616   743  TRANSFER  6311409.28  C1529008245     6311409.28   \n",
       "6362617   743  CASH_OUT  6311409.28  C1162922333     6311409.28   \n",
       "6362618   743  TRANSFER   850002.52  C1685995037      850002.52   \n",
       "6362619   743  CASH_OUT   850002.52  C1280323807      850002.52   \n",
       "\n",
       "         newbalanceOrig     nameDest  oldbalanceDest  newbalanceDest  isFraud  \\\n",
       "0             160296.36  M1979787155            0.00            0.00        0   \n",
       "1              19384.72  M2044282225            0.00            0.00        0   \n",
       "2                  0.00   C553264065            0.00            0.00        1   \n",
       "3                  0.00    C38997010        21182.00            0.00        1   \n",
       "4              29885.86  M1230701703            0.00            0.00        0   \n",
       "...                 ...          ...             ...             ...      ...   \n",
       "6362615            0.00   C776919290            0.00       339682.13        1   \n",
       "6362616            0.00  C1881841831            0.00            0.00        1   \n",
       "6362617            0.00  C1365125890        68488.84      6379898.11        1   \n",
       "6362618            0.00  C2080388513            0.00            0.00        1   \n",
       "6362619            0.00   C873221189      6510099.11      7360101.63        1   \n",
       "\n",
       "         isFlaggedFraud  \n",
       "0                     0  \n",
       "1                     0  \n",
       "2                     0  \n",
       "3                     0  \n",
       "4                     0  \n",
       "...                 ...  \n",
       "6362615               0  \n",
       "6362616               0  \n",
       "6362617               0  \n",
       "6362618               0  \n",
       "6362619               0  \n",
       "\n",
       "[6362620 rows x 11 columns]"
      ]
     },
     "execution_count": 35,
     "metadata": {},
     "output_type": "execute_result"
    }
   ],
   "source": [
    "data.drop_duplicates(inplace = True)\n",
    "data.reset_index(inplace = True)\n",
    "data.drop('index', axis = 1, inplace = True)\n",
    "data"
   ]
  },
  {
   "cell_type": "markdown",
   "id": "63048917",
   "metadata": {},
   "source": [
    "# \n",
    "## Extra Information About Dataset"
   ]
  },
  {
   "cell_type": "code",
   "execution_count": 36,
   "id": "deec46cc",
   "metadata": {},
   "outputs": [
    {
     "name": "stdout",
     "output_type": "stream",
     "text": [
      "CASH_OUT    2237500\n",
      "PAYMENT     2151495\n",
      "CASH_IN     1399284\n",
      "TRANSFER     532909\n",
      "DEBIT         41432\n",
      "Name: type, dtype: int64\n"
     ]
    }
   ],
   "source": [
    "print(data.type.value_counts())"
   ]
  },
  {
   "cell_type": "code",
   "execution_count": 37,
   "id": "31431bdb",
   "metadata": {},
   "outputs": [
    {
     "name": "stdout",
     "output_type": "stream",
     "text": [
      "0    6354407\n",
      "1       8213\n",
      "Name: isFraud, dtype: int64\n"
     ]
    }
   ],
   "source": [
    "print(data.isFraud.value_counts())"
   ]
  },
  {
   "cell_type": "markdown",
   "id": "f2ac8a87",
   "metadata": {},
   "source": [
    "### Here we encode the results column so that attacks are 1 and normal is 0"
   ]
  },
  {
   "cell_type": "code",
   "execution_count": 38,
   "id": "3cfe5fca",
   "metadata": {},
   "outputs": [
    {
     "data": {
      "text/plain": [
       "array([0, 1], dtype=int64)"
      ]
     },
     "execution_count": 38,
     "metadata": {},
     "output_type": "execute_result"
    }
   ],
   "source": [
    "binary_intrusion_data = encode_text_index(data, 'isFraud')\n",
    "binary_intrusion_data"
   ]
  },
  {
   "cell_type": "markdown",
   "id": "18f63953",
   "metadata": {},
   "source": [
    "# \n",
    "# Data Prepping"
   ]
  },
  {
   "cell_type": "markdown",
   "id": "0dd9e3b4",
   "metadata": {},
   "source": [
    "## Encode Categorical Features\n",
    "### Selecting Features\n",
    "Using the datasets documentaiton, we selected features we feel hold information about a transaction which can be necessary for training. These features are likely non-numeric. Therfore we will encode them to be numeric using encode_text_dummy()\n",
    "* isFraud: fraud transaction"
   ]
  },
  {
   "cell_type": "code",
   "execution_count": 11,
   "id": "300f9f39",
   "metadata": {},
   "outputs": [
    {
     "data": {
      "text/html": [
       "<div>\n",
       "<style scoped>\n",
       "    .dataframe tbody tr th:only-of-type {\n",
       "        vertical-align: middle;\n",
       "    }\n",
       "\n",
       "    .dataframe tbody tr th {\n",
       "        vertical-align: top;\n",
       "    }\n",
       "\n",
       "    .dataframe thead th {\n",
       "        text-align: right;\n",
       "    }\n",
       "</style>\n",
       "<table border=\"1\" class=\"dataframe\">\n",
       "  <thead>\n",
       "    <tr style=\"text-align: right;\">\n",
       "      <th></th>\n",
       "      <th>step</th>\n",
       "      <th>amount</th>\n",
       "      <th>nameOrig</th>\n",
       "      <th>oldbalanceOrg</th>\n",
       "      <th>newbalanceOrig</th>\n",
       "      <th>nameDest</th>\n",
       "      <th>oldbalanceDest</th>\n",
       "      <th>newbalanceDest</th>\n",
       "      <th>isFraud</th>\n",
       "      <th>isFlaggedFraud</th>\n",
       "      <th>type-CASH_IN</th>\n",
       "      <th>type-CASH_OUT</th>\n",
       "      <th>type-DEBIT</th>\n",
       "      <th>type-PAYMENT</th>\n",
       "      <th>type-TRANSFER</th>\n",
       "    </tr>\n",
       "  </thead>\n",
       "  <tbody>\n",
       "    <tr>\n",
       "      <th>0</th>\n",
       "      <td>1</td>\n",
       "      <td>9839.64</td>\n",
       "      <td>C1231006815</td>\n",
       "      <td>170136.00</td>\n",
       "      <td>160296.36</td>\n",
       "      <td>M1979787155</td>\n",
       "      <td>0.00</td>\n",
       "      <td>0.00</td>\n",
       "      <td>0</td>\n",
       "      <td>0</td>\n",
       "      <td>0</td>\n",
       "      <td>0</td>\n",
       "      <td>0</td>\n",
       "      <td>1</td>\n",
       "      <td>0</td>\n",
       "    </tr>\n",
       "    <tr>\n",
       "      <th>1</th>\n",
       "      <td>1</td>\n",
       "      <td>1864.28</td>\n",
       "      <td>C1666544295</td>\n",
       "      <td>21249.00</td>\n",
       "      <td>19384.72</td>\n",
       "      <td>M2044282225</td>\n",
       "      <td>0.00</td>\n",
       "      <td>0.00</td>\n",
       "      <td>0</td>\n",
       "      <td>0</td>\n",
       "      <td>0</td>\n",
       "      <td>0</td>\n",
       "      <td>0</td>\n",
       "      <td>1</td>\n",
       "      <td>0</td>\n",
       "    </tr>\n",
       "    <tr>\n",
       "      <th>2</th>\n",
       "      <td>1</td>\n",
       "      <td>181.00</td>\n",
       "      <td>C1305486145</td>\n",
       "      <td>181.00</td>\n",
       "      <td>0.00</td>\n",
       "      <td>C553264065</td>\n",
       "      <td>0.00</td>\n",
       "      <td>0.00</td>\n",
       "      <td>1</td>\n",
       "      <td>0</td>\n",
       "      <td>0</td>\n",
       "      <td>0</td>\n",
       "      <td>0</td>\n",
       "      <td>0</td>\n",
       "      <td>1</td>\n",
       "    </tr>\n",
       "    <tr>\n",
       "      <th>3</th>\n",
       "      <td>1</td>\n",
       "      <td>181.00</td>\n",
       "      <td>C840083671</td>\n",
       "      <td>181.00</td>\n",
       "      <td>0.00</td>\n",
       "      <td>C38997010</td>\n",
       "      <td>21182.00</td>\n",
       "      <td>0.00</td>\n",
       "      <td>1</td>\n",
       "      <td>0</td>\n",
       "      <td>0</td>\n",
       "      <td>1</td>\n",
       "      <td>0</td>\n",
       "      <td>0</td>\n",
       "      <td>0</td>\n",
       "    </tr>\n",
       "    <tr>\n",
       "      <th>4</th>\n",
       "      <td>1</td>\n",
       "      <td>11668.14</td>\n",
       "      <td>C2048537720</td>\n",
       "      <td>41554.00</td>\n",
       "      <td>29885.86</td>\n",
       "      <td>M1230701703</td>\n",
       "      <td>0.00</td>\n",
       "      <td>0.00</td>\n",
       "      <td>0</td>\n",
       "      <td>0</td>\n",
       "      <td>0</td>\n",
       "      <td>0</td>\n",
       "      <td>0</td>\n",
       "      <td>1</td>\n",
       "      <td>0</td>\n",
       "    </tr>\n",
       "    <tr>\n",
       "      <th>...</th>\n",
       "      <td>...</td>\n",
       "      <td>...</td>\n",
       "      <td>...</td>\n",
       "      <td>...</td>\n",
       "      <td>...</td>\n",
       "      <td>...</td>\n",
       "      <td>...</td>\n",
       "      <td>...</td>\n",
       "      <td>...</td>\n",
       "      <td>...</td>\n",
       "      <td>...</td>\n",
       "      <td>...</td>\n",
       "      <td>...</td>\n",
       "      <td>...</td>\n",
       "      <td>...</td>\n",
       "    </tr>\n",
       "    <tr>\n",
       "      <th>6362615</th>\n",
       "      <td>743</td>\n",
       "      <td>339682.13</td>\n",
       "      <td>C786484425</td>\n",
       "      <td>339682.13</td>\n",
       "      <td>0.00</td>\n",
       "      <td>C776919290</td>\n",
       "      <td>0.00</td>\n",
       "      <td>339682.13</td>\n",
       "      <td>1</td>\n",
       "      <td>0</td>\n",
       "      <td>0</td>\n",
       "      <td>1</td>\n",
       "      <td>0</td>\n",
       "      <td>0</td>\n",
       "      <td>0</td>\n",
       "    </tr>\n",
       "    <tr>\n",
       "      <th>6362616</th>\n",
       "      <td>743</td>\n",
       "      <td>6311409.28</td>\n",
       "      <td>C1529008245</td>\n",
       "      <td>6311409.28</td>\n",
       "      <td>0.00</td>\n",
       "      <td>C1881841831</td>\n",
       "      <td>0.00</td>\n",
       "      <td>0.00</td>\n",
       "      <td>1</td>\n",
       "      <td>0</td>\n",
       "      <td>0</td>\n",
       "      <td>0</td>\n",
       "      <td>0</td>\n",
       "      <td>0</td>\n",
       "      <td>1</td>\n",
       "    </tr>\n",
       "    <tr>\n",
       "      <th>6362617</th>\n",
       "      <td>743</td>\n",
       "      <td>6311409.28</td>\n",
       "      <td>C1162922333</td>\n",
       "      <td>6311409.28</td>\n",
       "      <td>0.00</td>\n",
       "      <td>C1365125890</td>\n",
       "      <td>68488.84</td>\n",
       "      <td>6379898.11</td>\n",
       "      <td>1</td>\n",
       "      <td>0</td>\n",
       "      <td>0</td>\n",
       "      <td>1</td>\n",
       "      <td>0</td>\n",
       "      <td>0</td>\n",
       "      <td>0</td>\n",
       "    </tr>\n",
       "    <tr>\n",
       "      <th>6362618</th>\n",
       "      <td>743</td>\n",
       "      <td>850002.52</td>\n",
       "      <td>C1685995037</td>\n",
       "      <td>850002.52</td>\n",
       "      <td>0.00</td>\n",
       "      <td>C2080388513</td>\n",
       "      <td>0.00</td>\n",
       "      <td>0.00</td>\n",
       "      <td>1</td>\n",
       "      <td>0</td>\n",
       "      <td>0</td>\n",
       "      <td>0</td>\n",
       "      <td>0</td>\n",
       "      <td>0</td>\n",
       "      <td>1</td>\n",
       "    </tr>\n",
       "    <tr>\n",
       "      <th>6362619</th>\n",
       "      <td>743</td>\n",
       "      <td>850002.52</td>\n",
       "      <td>C1280323807</td>\n",
       "      <td>850002.52</td>\n",
       "      <td>0.00</td>\n",
       "      <td>C873221189</td>\n",
       "      <td>6510099.11</td>\n",
       "      <td>7360101.63</td>\n",
       "      <td>1</td>\n",
       "      <td>0</td>\n",
       "      <td>0</td>\n",
       "      <td>1</td>\n",
       "      <td>0</td>\n",
       "      <td>0</td>\n",
       "      <td>0</td>\n",
       "    </tr>\n",
       "  </tbody>\n",
       "</table>\n",
       "<p>6362620 rows × 15 columns</p>\n",
       "</div>"
      ],
      "text/plain": [
       "         step      amount     nameOrig  oldbalanceOrg  newbalanceOrig  \\\n",
       "0           1     9839.64  C1231006815      170136.00       160296.36   \n",
       "1           1     1864.28  C1666544295       21249.00        19384.72   \n",
       "2           1      181.00  C1305486145         181.00            0.00   \n",
       "3           1      181.00   C840083671         181.00            0.00   \n",
       "4           1    11668.14  C2048537720       41554.00        29885.86   \n",
       "...       ...         ...          ...            ...             ...   \n",
       "6362615   743   339682.13   C786484425      339682.13            0.00   \n",
       "6362616   743  6311409.28  C1529008245     6311409.28            0.00   \n",
       "6362617   743  6311409.28  C1162922333     6311409.28            0.00   \n",
       "6362618   743   850002.52  C1685995037      850002.52            0.00   \n",
       "6362619   743   850002.52  C1280323807      850002.52            0.00   \n",
       "\n",
       "            nameDest  oldbalanceDest  newbalanceDest  isFraud  isFlaggedFraud  \\\n",
       "0        M1979787155            0.00            0.00        0               0   \n",
       "1        M2044282225            0.00            0.00        0               0   \n",
       "2         C553264065            0.00            0.00        1               0   \n",
       "3          C38997010        21182.00            0.00        1               0   \n",
       "4        M1230701703            0.00            0.00        0               0   \n",
       "...              ...             ...             ...      ...             ...   \n",
       "6362615   C776919290            0.00       339682.13        1               0   \n",
       "6362616  C1881841831            0.00            0.00        1               0   \n",
       "6362617  C1365125890        68488.84      6379898.11        1               0   \n",
       "6362618  C2080388513            0.00            0.00        1               0   \n",
       "6362619   C873221189      6510099.11      7360101.63        1               0   \n",
       "\n",
       "         type-CASH_IN  type-CASH_OUT  type-DEBIT  type-PAYMENT  type-TRANSFER  \n",
       "0                   0              0           0             1              0  \n",
       "1                   0              0           0             1              0  \n",
       "2                   0              0           0             0              1  \n",
       "3                   0              1           0             0              0  \n",
       "4                   0              0           0             1              0  \n",
       "...               ...            ...         ...           ...            ...  \n",
       "6362615             0              1           0             0              0  \n",
       "6362616             0              0           0             0              1  \n",
       "6362617             0              1           0             0              0  \n",
       "6362618             0              0           0             0              1  \n",
       "6362619             0              1           0             0              0  \n",
       "\n",
       "[6362620 rows x 15 columns]"
      ]
     },
     "execution_count": 11,
     "metadata": {},
     "output_type": "execute_result"
    }
   ],
   "source": [
    "encode_text_dummy(data, 'type')\n",
    "data"
   ]
  },
  {
   "cell_type": "markdown",
   "id": "a8fcb823",
   "metadata": {},
   "source": [
    "# \n",
    "## Normalize Raw Values\n",
    "### Get the Types for each column and drop any unnecessary columns."
   ]
  },
  {
   "cell_type": "code",
   "execution_count": 12,
   "id": "5a413eaf",
   "metadata": {},
   "outputs": [
    {
     "data": {
      "text/plain": [
       "step                int64\n",
       "amount            float64\n",
       "nameOrig           object\n",
       "oldbalanceOrg     float64\n",
       "newbalanceOrig    float64\n",
       "nameDest           object\n",
       "oldbalanceDest    float64\n",
       "newbalanceDest    float64\n",
       "isFraud             int64\n",
       "isFlaggedFraud      int64\n",
       "type-CASH_IN        uint8\n",
       "type-CASH_OUT       uint8\n",
       "type-DEBIT          uint8\n",
       "type-PAYMENT        uint8\n",
       "type-TRANSFER       uint8\n",
       "dtype: object"
      ]
     },
     "execution_count": 12,
     "metadata": {},
     "output_type": "execute_result"
    }
   ],
   "source": [
    "data.dtypes"
   ]
  },
  {
   "cell_type": "code",
   "execution_count": 13,
   "id": "cb9bd752",
   "metadata": {},
   "outputs": [
    {
     "data": {
      "text/html": [
       "<div>\n",
       "<style scoped>\n",
       "    .dataframe tbody tr th:only-of-type {\n",
       "        vertical-align: middle;\n",
       "    }\n",
       "\n",
       "    .dataframe tbody tr th {\n",
       "        vertical-align: top;\n",
       "    }\n",
       "\n",
       "    .dataframe thead th {\n",
       "        text-align: right;\n",
       "    }\n",
       "</style>\n",
       "<table border=\"1\" class=\"dataframe\">\n",
       "  <thead>\n",
       "    <tr style=\"text-align: right;\">\n",
       "      <th></th>\n",
       "      <th>step</th>\n",
       "      <th>amount</th>\n",
       "      <th>oldbalanceOrg</th>\n",
       "      <th>newbalanceOrig</th>\n",
       "      <th>isFraud</th>\n",
       "      <th>isFlaggedFraud</th>\n",
       "      <th>type-CASH_IN</th>\n",
       "      <th>type-CASH_OUT</th>\n",
       "      <th>type-DEBIT</th>\n",
       "      <th>type-PAYMENT</th>\n",
       "      <th>type-TRANSFER</th>\n",
       "    </tr>\n",
       "  </thead>\n",
       "  <tbody>\n",
       "    <tr>\n",
       "      <th>0</th>\n",
       "      <td>1</td>\n",
       "      <td>9839.64</td>\n",
       "      <td>170136.00</td>\n",
       "      <td>160296.36</td>\n",
       "      <td>0</td>\n",
       "      <td>0</td>\n",
       "      <td>0</td>\n",
       "      <td>0</td>\n",
       "      <td>0</td>\n",
       "      <td>1</td>\n",
       "      <td>0</td>\n",
       "    </tr>\n",
       "    <tr>\n",
       "      <th>1</th>\n",
       "      <td>1</td>\n",
       "      <td>1864.28</td>\n",
       "      <td>21249.00</td>\n",
       "      <td>19384.72</td>\n",
       "      <td>0</td>\n",
       "      <td>0</td>\n",
       "      <td>0</td>\n",
       "      <td>0</td>\n",
       "      <td>0</td>\n",
       "      <td>1</td>\n",
       "      <td>0</td>\n",
       "    </tr>\n",
       "    <tr>\n",
       "      <th>2</th>\n",
       "      <td>1</td>\n",
       "      <td>181.00</td>\n",
       "      <td>181.00</td>\n",
       "      <td>0.00</td>\n",
       "      <td>1</td>\n",
       "      <td>0</td>\n",
       "      <td>0</td>\n",
       "      <td>0</td>\n",
       "      <td>0</td>\n",
       "      <td>0</td>\n",
       "      <td>1</td>\n",
       "    </tr>\n",
       "    <tr>\n",
       "      <th>3</th>\n",
       "      <td>1</td>\n",
       "      <td>181.00</td>\n",
       "      <td>181.00</td>\n",
       "      <td>0.00</td>\n",
       "      <td>1</td>\n",
       "      <td>0</td>\n",
       "      <td>0</td>\n",
       "      <td>1</td>\n",
       "      <td>0</td>\n",
       "      <td>0</td>\n",
       "      <td>0</td>\n",
       "    </tr>\n",
       "    <tr>\n",
       "      <th>4</th>\n",
       "      <td>1</td>\n",
       "      <td>11668.14</td>\n",
       "      <td>41554.00</td>\n",
       "      <td>29885.86</td>\n",
       "      <td>0</td>\n",
       "      <td>0</td>\n",
       "      <td>0</td>\n",
       "      <td>0</td>\n",
       "      <td>0</td>\n",
       "      <td>1</td>\n",
       "      <td>0</td>\n",
       "    </tr>\n",
       "    <tr>\n",
       "      <th>...</th>\n",
       "      <td>...</td>\n",
       "      <td>...</td>\n",
       "      <td>...</td>\n",
       "      <td>...</td>\n",
       "      <td>...</td>\n",
       "      <td>...</td>\n",
       "      <td>...</td>\n",
       "      <td>...</td>\n",
       "      <td>...</td>\n",
       "      <td>...</td>\n",
       "      <td>...</td>\n",
       "    </tr>\n",
       "    <tr>\n",
       "      <th>6362615</th>\n",
       "      <td>743</td>\n",
       "      <td>339682.13</td>\n",
       "      <td>339682.13</td>\n",
       "      <td>0.00</td>\n",
       "      <td>1</td>\n",
       "      <td>0</td>\n",
       "      <td>0</td>\n",
       "      <td>1</td>\n",
       "      <td>0</td>\n",
       "      <td>0</td>\n",
       "      <td>0</td>\n",
       "    </tr>\n",
       "    <tr>\n",
       "      <th>6362616</th>\n",
       "      <td>743</td>\n",
       "      <td>6311409.28</td>\n",
       "      <td>6311409.28</td>\n",
       "      <td>0.00</td>\n",
       "      <td>1</td>\n",
       "      <td>0</td>\n",
       "      <td>0</td>\n",
       "      <td>0</td>\n",
       "      <td>0</td>\n",
       "      <td>0</td>\n",
       "      <td>1</td>\n",
       "    </tr>\n",
       "    <tr>\n",
       "      <th>6362617</th>\n",
       "      <td>743</td>\n",
       "      <td>6311409.28</td>\n",
       "      <td>6311409.28</td>\n",
       "      <td>0.00</td>\n",
       "      <td>1</td>\n",
       "      <td>0</td>\n",
       "      <td>0</td>\n",
       "      <td>1</td>\n",
       "      <td>0</td>\n",
       "      <td>0</td>\n",
       "      <td>0</td>\n",
       "    </tr>\n",
       "    <tr>\n",
       "      <th>6362618</th>\n",
       "      <td>743</td>\n",
       "      <td>850002.52</td>\n",
       "      <td>850002.52</td>\n",
       "      <td>0.00</td>\n",
       "      <td>1</td>\n",
       "      <td>0</td>\n",
       "      <td>0</td>\n",
       "      <td>0</td>\n",
       "      <td>0</td>\n",
       "      <td>0</td>\n",
       "      <td>1</td>\n",
       "    </tr>\n",
       "    <tr>\n",
       "      <th>6362619</th>\n",
       "      <td>743</td>\n",
       "      <td>850002.52</td>\n",
       "      <td>850002.52</td>\n",
       "      <td>0.00</td>\n",
       "      <td>1</td>\n",
       "      <td>0</td>\n",
       "      <td>0</td>\n",
       "      <td>1</td>\n",
       "      <td>0</td>\n",
       "      <td>0</td>\n",
       "      <td>0</td>\n",
       "    </tr>\n",
       "  </tbody>\n",
       "</table>\n",
       "<p>6362620 rows × 11 columns</p>\n",
       "</div>"
      ],
      "text/plain": [
       "         step      amount  oldbalanceOrg  newbalanceOrig  isFraud  \\\n",
       "0           1     9839.64      170136.00       160296.36        0   \n",
       "1           1     1864.28       21249.00        19384.72        0   \n",
       "2           1      181.00         181.00            0.00        1   \n",
       "3           1      181.00         181.00            0.00        1   \n",
       "4           1    11668.14       41554.00        29885.86        0   \n",
       "...       ...         ...            ...             ...      ...   \n",
       "6362615   743   339682.13      339682.13            0.00        1   \n",
       "6362616   743  6311409.28     6311409.28            0.00        1   \n",
       "6362617   743  6311409.28     6311409.28            0.00        1   \n",
       "6362618   743   850002.52      850002.52            0.00        1   \n",
       "6362619   743   850002.52      850002.52            0.00        1   \n",
       "\n",
       "         isFlaggedFraud  type-CASH_IN  type-CASH_OUT  type-DEBIT  \\\n",
       "0                     0             0              0           0   \n",
       "1                     0             0              0           0   \n",
       "2                     0             0              0           0   \n",
       "3                     0             0              1           0   \n",
       "4                     0             0              0           0   \n",
       "...                 ...           ...            ...         ...   \n",
       "6362615               0             0              1           0   \n",
       "6362616               0             0              0           0   \n",
       "6362617               0             0              1           0   \n",
       "6362618               0             0              0           0   \n",
       "6362619               0             0              1           0   \n",
       "\n",
       "         type-PAYMENT  type-TRANSFER  \n",
       "0                   1              0  \n",
       "1                   1              0  \n",
       "2                   0              1  \n",
       "3                   0              0  \n",
       "4                   1              0  \n",
       "...               ...            ...  \n",
       "6362615             0              0  \n",
       "6362616             0              1  \n",
       "6362617             0              0  \n",
       "6362618             0              1  \n",
       "6362619             0              0  \n",
       "\n",
       "[6362620 rows x 11 columns]"
      ]
     },
     "execution_count": 13,
     "metadata": {},
     "output_type": "execute_result"
    }
   ],
   "source": [
    "data.drop(['nameOrig','nameDest','oldbalanceDest','newbalanceDest'], axis = 1, inplace = True)\n",
    "data"
   ]
  },
  {
   "cell_type": "code",
   "execution_count": 14,
   "id": "c5baa090",
   "metadata": {},
   "outputs": [
    {
     "data": {
      "text/plain": [
       "step                int64\n",
       "amount            float64\n",
       "oldbalanceOrg     float64\n",
       "newbalanceOrig    float64\n",
       "isFraud             int64\n",
       "isFlaggedFraud      int64\n",
       "type-CASH_IN        uint8\n",
       "type-CASH_OUT       uint8\n",
       "type-DEBIT          uint8\n",
       "type-PAYMENT        uint8\n",
       "type-TRANSFER       uint8\n",
       "dtype: object"
      ]
     },
     "execution_count": 14,
     "metadata": {},
     "output_type": "execute_result"
    }
   ],
   "source": [
    "data.dtypes"
   ]
  },
  {
   "cell_type": "code",
   "execution_count": 15,
   "id": "4efd20b5",
   "metadata": {},
   "outputs": [
    {
     "name": "stdout",
     "output_type": "stream",
     "text": [
      "The length of the dataset is:  4\n"
     ]
    }
   ],
   "source": [
    "dataset_length = data.columns.get_loc('isFraud')\n",
    "print('The length of the dataset is: ', dataset_length)"
   ]
  },
  {
   "cell_type": "markdown",
   "id": "c769aaeb",
   "metadata": {},
   "source": [
    "### Normalize every Column"
   ]
  },
  {
   "cell_type": "code",
   "execution_count": 16,
   "id": "d7f51ff8",
   "metadata": {},
   "outputs": [
    {
     "name": "stdout",
     "output_type": "stream",
     "text": [
      "0\n",
      "1\n",
      "2\n",
      "3\n"
     ]
    },
    {
     "data": {
      "text/html": [
       "<div>\n",
       "<style scoped>\n",
       "    .dataframe tbody tr th:only-of-type {\n",
       "        vertical-align: middle;\n",
       "    }\n",
       "\n",
       "    .dataframe tbody tr th {\n",
       "        vertical-align: top;\n",
       "    }\n",
       "\n",
       "    .dataframe thead th {\n",
       "        text-align: right;\n",
       "    }\n",
       "</style>\n",
       "<table border=\"1\" class=\"dataframe\">\n",
       "  <thead>\n",
       "    <tr style=\"text-align: right;\">\n",
       "      <th></th>\n",
       "      <th>step</th>\n",
       "      <th>amount</th>\n",
       "      <th>oldbalanceOrg</th>\n",
       "      <th>newbalanceOrig</th>\n",
       "      <th>isFraud</th>\n",
       "      <th>isFlaggedFraud</th>\n",
       "      <th>type-CASH_IN</th>\n",
       "      <th>type-CASH_OUT</th>\n",
       "      <th>type-DEBIT</th>\n",
       "      <th>type-PAYMENT</th>\n",
       "      <th>type-TRANSFER</th>\n",
       "    </tr>\n",
       "  </thead>\n",
       "  <tbody>\n",
       "    <tr>\n",
       "      <th>0</th>\n",
       "      <td>-1.703041</td>\n",
       "      <td>-0.281560</td>\n",
       "      <td>-0.229810</td>\n",
       "      <td>-0.237622</td>\n",
       "      <td>0</td>\n",
       "      <td>0</td>\n",
       "      <td>0</td>\n",
       "      <td>0</td>\n",
       "      <td>0</td>\n",
       "      <td>1</td>\n",
       "      <td>0</td>\n",
       "    </tr>\n",
       "    <tr>\n",
       "      <th>1</th>\n",
       "      <td>-1.703041</td>\n",
       "      <td>-0.294767</td>\n",
       "      <td>-0.281359</td>\n",
       "      <td>-0.285812</td>\n",
       "      <td>0</td>\n",
       "      <td>0</td>\n",
       "      <td>0</td>\n",
       "      <td>0</td>\n",
       "      <td>0</td>\n",
       "      <td>1</td>\n",
       "      <td>0</td>\n",
       "    </tr>\n",
       "    <tr>\n",
       "      <th>2</th>\n",
       "      <td>-1.703041</td>\n",
       "      <td>-0.297555</td>\n",
       "      <td>-0.288654</td>\n",
       "      <td>-0.292442</td>\n",
       "      <td>1</td>\n",
       "      <td>0</td>\n",
       "      <td>0</td>\n",
       "      <td>0</td>\n",
       "      <td>0</td>\n",
       "      <td>0</td>\n",
       "      <td>1</td>\n",
       "    </tr>\n",
       "    <tr>\n",
       "      <th>3</th>\n",
       "      <td>-1.703041</td>\n",
       "      <td>-0.297555</td>\n",
       "      <td>-0.288654</td>\n",
       "      <td>-0.292442</td>\n",
       "      <td>1</td>\n",
       "      <td>0</td>\n",
       "      <td>0</td>\n",
       "      <td>1</td>\n",
       "      <td>0</td>\n",
       "      <td>0</td>\n",
       "      <td>0</td>\n",
       "    </tr>\n",
       "    <tr>\n",
       "      <th>4</th>\n",
       "      <td>-1.703041</td>\n",
       "      <td>-0.278532</td>\n",
       "      <td>-0.274329</td>\n",
       "      <td>-0.282221</td>\n",
       "      <td>0</td>\n",
       "      <td>0</td>\n",
       "      <td>0</td>\n",
       "      <td>0</td>\n",
       "      <td>0</td>\n",
       "      <td>1</td>\n",
       "      <td>0</td>\n",
       "    </tr>\n",
       "    <tr>\n",
       "      <th>...</th>\n",
       "      <td>...</td>\n",
       "      <td>...</td>\n",
       "      <td>...</td>\n",
       "      <td>...</td>\n",
       "      <td>...</td>\n",
       "      <td>...</td>\n",
       "      <td>...</td>\n",
       "      <td>...</td>\n",
       "      <td>...</td>\n",
       "      <td>...</td>\n",
       "      <td>...</td>\n",
       "    </tr>\n",
       "    <tr>\n",
       "      <th>6362615</th>\n",
       "      <td>3.510123</td>\n",
       "      <td>0.264665</td>\n",
       "      <td>-0.171108</td>\n",
       "      <td>-0.292442</td>\n",
       "      <td>1</td>\n",
       "      <td>0</td>\n",
       "      <td>0</td>\n",
       "      <td>1</td>\n",
       "      <td>0</td>\n",
       "      <td>0</td>\n",
       "      <td>0</td>\n",
       "    </tr>\n",
       "    <tr>\n",
       "      <th>6362616</th>\n",
       "      <td>3.510123</td>\n",
       "      <td>10.153952</td>\n",
       "      <td>1.896491</td>\n",
       "      <td>-0.292442</td>\n",
       "      <td>1</td>\n",
       "      <td>0</td>\n",
       "      <td>0</td>\n",
       "      <td>0</td>\n",
       "      <td>0</td>\n",
       "      <td>0</td>\n",
       "      <td>1</td>\n",
       "    </tr>\n",
       "    <tr>\n",
       "      <th>6362617</th>\n",
       "      <td>3.510123</td>\n",
       "      <td>10.153952</td>\n",
       "      <td>1.896491</td>\n",
       "      <td>-0.292442</td>\n",
       "      <td>1</td>\n",
       "      <td>0</td>\n",
       "      <td>0</td>\n",
       "      <td>1</td>\n",
       "      <td>0</td>\n",
       "      <td>0</td>\n",
       "      <td>0</td>\n",
       "    </tr>\n",
       "    <tr>\n",
       "      <th>6362618</th>\n",
       "      <td>3.510123</td>\n",
       "      <td>1.109765</td>\n",
       "      <td>0.005581</td>\n",
       "      <td>-0.292442</td>\n",
       "      <td>1</td>\n",
       "      <td>0</td>\n",
       "      <td>0</td>\n",
       "      <td>0</td>\n",
       "      <td>0</td>\n",
       "      <td>0</td>\n",
       "      <td>1</td>\n",
       "    </tr>\n",
       "    <tr>\n",
       "      <th>6362619</th>\n",
       "      <td>3.510123</td>\n",
       "      <td>1.109765</td>\n",
       "      <td>0.005581</td>\n",
       "      <td>-0.292442</td>\n",
       "      <td>1</td>\n",
       "      <td>0</td>\n",
       "      <td>0</td>\n",
       "      <td>1</td>\n",
       "      <td>0</td>\n",
       "      <td>0</td>\n",
       "      <td>0</td>\n",
       "    </tr>\n",
       "  </tbody>\n",
       "</table>\n",
       "<p>6362620 rows × 11 columns</p>\n",
       "</div>"
      ],
      "text/plain": [
       "             step     amount  oldbalanceOrg  newbalanceOrig  isFraud  \\\n",
       "0       -1.703041  -0.281560      -0.229810       -0.237622        0   \n",
       "1       -1.703041  -0.294767      -0.281359       -0.285812        0   \n",
       "2       -1.703041  -0.297555      -0.288654       -0.292442        1   \n",
       "3       -1.703041  -0.297555      -0.288654       -0.292442        1   \n",
       "4       -1.703041  -0.278532      -0.274329       -0.282221        0   \n",
       "...           ...        ...            ...             ...      ...   \n",
       "6362615  3.510123   0.264665      -0.171108       -0.292442        1   \n",
       "6362616  3.510123  10.153952       1.896491       -0.292442        1   \n",
       "6362617  3.510123  10.153952       1.896491       -0.292442        1   \n",
       "6362618  3.510123   1.109765       0.005581       -0.292442        1   \n",
       "6362619  3.510123   1.109765       0.005581       -0.292442        1   \n",
       "\n",
       "         isFlaggedFraud  type-CASH_IN  type-CASH_OUT  type-DEBIT  \\\n",
       "0                     0             0              0           0   \n",
       "1                     0             0              0           0   \n",
       "2                     0             0              0           0   \n",
       "3                     0             0              1           0   \n",
       "4                     0             0              0           0   \n",
       "...                 ...           ...            ...         ...   \n",
       "6362615               0             0              1           0   \n",
       "6362616               0             0              0           0   \n",
       "6362617               0             0              1           0   \n",
       "6362618               0             0              0           0   \n",
       "6362619               0             0              1           0   \n",
       "\n",
       "         type-PAYMENT  type-TRANSFER  \n",
       "0                   1              0  \n",
       "1                   1              0  \n",
       "2                   0              1  \n",
       "3                   0              0  \n",
       "4                   1              0  \n",
       "...               ...            ...  \n",
       "6362615             0              0  \n",
       "6362616             0              1  \n",
       "6362617             0              0  \n",
       "6362618             0              1  \n",
       "6362619             0              0  \n",
       "\n",
       "[6362620 rows x 11 columns]"
      ]
     },
     "execution_count": 16,
     "metadata": {},
     "output_type": "execute_result"
    }
   ],
   "source": [
    "for i in range (dataset_length):\n",
    "    encode_numeric_zscore(data, data.columns[i])\n",
    "    print(i)\n",
    "data"
   ]
  },
  {
   "cell_type": "markdown",
   "id": "85f9ac9e",
   "metadata": {},
   "source": [
    "# \n",
    "## CHECKPOINT: Save Prepped Data To File\n",
    "#### This will make it easier for later training and testing."
   ]
  },
  {
   "cell_type": "code",
   "execution_count": 17,
   "id": "b48374c4",
   "metadata": {},
   "outputs": [
    {
     "data": {
      "text/html": [
       "<div>\n",
       "<style scoped>\n",
       "    .dataframe tbody tr th:only-of-type {\n",
       "        vertical-align: middle;\n",
       "    }\n",
       "\n",
       "    .dataframe tbody tr th {\n",
       "        vertical-align: top;\n",
       "    }\n",
       "\n",
       "    .dataframe thead th {\n",
       "        text-align: right;\n",
       "    }\n",
       "</style>\n",
       "<table border=\"1\" class=\"dataframe\">\n",
       "  <thead>\n",
       "    <tr style=\"text-align: right;\">\n",
       "      <th></th>\n",
       "      <th>step</th>\n",
       "      <th>amount</th>\n",
       "      <th>oldbalanceOrg</th>\n",
       "      <th>newbalanceOrig</th>\n",
       "      <th>isFraud</th>\n",
       "      <th>isFlaggedFraud</th>\n",
       "      <th>type-CASH_IN</th>\n",
       "      <th>type-CASH_OUT</th>\n",
       "      <th>type-DEBIT</th>\n",
       "      <th>type-PAYMENT</th>\n",
       "      <th>type-TRANSFER</th>\n",
       "    </tr>\n",
       "  </thead>\n",
       "  <tbody>\n",
       "    <tr>\n",
       "      <th>0</th>\n",
       "      <td>-1.703041</td>\n",
       "      <td>-0.281560</td>\n",
       "      <td>-0.229810</td>\n",
       "      <td>-0.237622</td>\n",
       "      <td>0</td>\n",
       "      <td>0</td>\n",
       "      <td>0</td>\n",
       "      <td>0</td>\n",
       "      <td>0</td>\n",
       "      <td>1</td>\n",
       "      <td>0</td>\n",
       "    </tr>\n",
       "    <tr>\n",
       "      <th>1</th>\n",
       "      <td>-1.703041</td>\n",
       "      <td>-0.294767</td>\n",
       "      <td>-0.281359</td>\n",
       "      <td>-0.285812</td>\n",
       "      <td>0</td>\n",
       "      <td>0</td>\n",
       "      <td>0</td>\n",
       "      <td>0</td>\n",
       "      <td>0</td>\n",
       "      <td>1</td>\n",
       "      <td>0</td>\n",
       "    </tr>\n",
       "    <tr>\n",
       "      <th>2</th>\n",
       "      <td>-1.703041</td>\n",
       "      <td>-0.297555</td>\n",
       "      <td>-0.288654</td>\n",
       "      <td>-0.292442</td>\n",
       "      <td>1</td>\n",
       "      <td>0</td>\n",
       "      <td>0</td>\n",
       "      <td>0</td>\n",
       "      <td>0</td>\n",
       "      <td>0</td>\n",
       "      <td>1</td>\n",
       "    </tr>\n",
       "    <tr>\n",
       "      <th>3</th>\n",
       "      <td>-1.703041</td>\n",
       "      <td>-0.297555</td>\n",
       "      <td>-0.288654</td>\n",
       "      <td>-0.292442</td>\n",
       "      <td>1</td>\n",
       "      <td>0</td>\n",
       "      <td>0</td>\n",
       "      <td>1</td>\n",
       "      <td>0</td>\n",
       "      <td>0</td>\n",
       "      <td>0</td>\n",
       "    </tr>\n",
       "    <tr>\n",
       "      <th>4</th>\n",
       "      <td>-1.703041</td>\n",
       "      <td>-0.278532</td>\n",
       "      <td>-0.274329</td>\n",
       "      <td>-0.282221</td>\n",
       "      <td>0</td>\n",
       "      <td>0</td>\n",
       "      <td>0</td>\n",
       "      <td>0</td>\n",
       "      <td>0</td>\n",
       "      <td>1</td>\n",
       "      <td>0</td>\n",
       "    </tr>\n",
       "    <tr>\n",
       "      <th>...</th>\n",
       "      <td>...</td>\n",
       "      <td>...</td>\n",
       "      <td>...</td>\n",
       "      <td>...</td>\n",
       "      <td>...</td>\n",
       "      <td>...</td>\n",
       "      <td>...</td>\n",
       "      <td>...</td>\n",
       "      <td>...</td>\n",
       "      <td>...</td>\n",
       "      <td>...</td>\n",
       "    </tr>\n",
       "    <tr>\n",
       "      <th>6362615</th>\n",
       "      <td>3.510123</td>\n",
       "      <td>0.264665</td>\n",
       "      <td>-0.171108</td>\n",
       "      <td>-0.292442</td>\n",
       "      <td>1</td>\n",
       "      <td>0</td>\n",
       "      <td>0</td>\n",
       "      <td>1</td>\n",
       "      <td>0</td>\n",
       "      <td>0</td>\n",
       "      <td>0</td>\n",
       "    </tr>\n",
       "    <tr>\n",
       "      <th>6362616</th>\n",
       "      <td>3.510123</td>\n",
       "      <td>10.153952</td>\n",
       "      <td>1.896491</td>\n",
       "      <td>-0.292442</td>\n",
       "      <td>1</td>\n",
       "      <td>0</td>\n",
       "      <td>0</td>\n",
       "      <td>0</td>\n",
       "      <td>0</td>\n",
       "      <td>0</td>\n",
       "      <td>1</td>\n",
       "    </tr>\n",
       "    <tr>\n",
       "      <th>6362617</th>\n",
       "      <td>3.510123</td>\n",
       "      <td>10.153952</td>\n",
       "      <td>1.896491</td>\n",
       "      <td>-0.292442</td>\n",
       "      <td>1</td>\n",
       "      <td>0</td>\n",
       "      <td>0</td>\n",
       "      <td>1</td>\n",
       "      <td>0</td>\n",
       "      <td>0</td>\n",
       "      <td>0</td>\n",
       "    </tr>\n",
       "    <tr>\n",
       "      <th>6362618</th>\n",
       "      <td>3.510123</td>\n",
       "      <td>1.109765</td>\n",
       "      <td>0.005581</td>\n",
       "      <td>-0.292442</td>\n",
       "      <td>1</td>\n",
       "      <td>0</td>\n",
       "      <td>0</td>\n",
       "      <td>0</td>\n",
       "      <td>0</td>\n",
       "      <td>0</td>\n",
       "      <td>1</td>\n",
       "    </tr>\n",
       "    <tr>\n",
       "      <th>6362619</th>\n",
       "      <td>3.510123</td>\n",
       "      <td>1.109765</td>\n",
       "      <td>0.005581</td>\n",
       "      <td>-0.292442</td>\n",
       "      <td>1</td>\n",
       "      <td>0</td>\n",
       "      <td>0</td>\n",
       "      <td>1</td>\n",
       "      <td>0</td>\n",
       "      <td>0</td>\n",
       "      <td>0</td>\n",
       "    </tr>\n",
       "  </tbody>\n",
       "</table>\n",
       "<p>6362620 rows × 11 columns</p>\n",
       "</div>"
      ],
      "text/plain": [
       "             step     amount  oldbalanceOrg  newbalanceOrig  isFraud  \\\n",
       "0       -1.703041  -0.281560      -0.229810       -0.237622        0   \n",
       "1       -1.703041  -0.294767      -0.281359       -0.285812        0   \n",
       "2       -1.703041  -0.297555      -0.288654       -0.292442        1   \n",
       "3       -1.703041  -0.297555      -0.288654       -0.292442        1   \n",
       "4       -1.703041  -0.278532      -0.274329       -0.282221        0   \n",
       "...           ...        ...            ...             ...      ...   \n",
       "6362615  3.510123   0.264665      -0.171108       -0.292442        1   \n",
       "6362616  3.510123  10.153952       1.896491       -0.292442        1   \n",
       "6362617  3.510123  10.153952       1.896491       -0.292442        1   \n",
       "6362618  3.510123   1.109765       0.005581       -0.292442        1   \n",
       "6362619  3.510123   1.109765       0.005581       -0.292442        1   \n",
       "\n",
       "         isFlaggedFraud  type-CASH_IN  type-CASH_OUT  type-DEBIT  \\\n",
       "0                     0             0              0           0   \n",
       "1                     0             0              0           0   \n",
       "2                     0             0              0           0   \n",
       "3                     0             0              1           0   \n",
       "4                     0             0              0           0   \n",
       "...                 ...           ...            ...         ...   \n",
       "6362615               0             0              1           0   \n",
       "6362616               0             0              0           0   \n",
       "6362617               0             0              1           0   \n",
       "6362618               0             0              0           0   \n",
       "6362619               0             0              1           0   \n",
       "\n",
       "         type-PAYMENT  type-TRANSFER  \n",
       "0                   1              0  \n",
       "1                   1              0  \n",
       "2                   0              1  \n",
       "3                   0              0  \n",
       "4                   1              0  \n",
       "...               ...            ...  \n",
       "6362615             0              0  \n",
       "6362616             0              1  \n",
       "6362617             0              0  \n",
       "6362618             0              1  \n",
       "6362619             0              0  \n",
       "\n",
       "[6362620 rows x 11 columns]"
      ]
     },
     "execution_count": 17,
     "metadata": {},
     "output_type": "execute_result"
    }
   ],
   "source": [
    "data.to_csv(saveDirectory + 'results.csv', index=False)\n",
    "data"
   ]
  },
  {
   "cell_type": "markdown",
   "id": "19a3fc69",
   "metadata": {},
   "source": [
    "# \n",
    "## CHECKPOINT: Load prepped data to file\n",
    "#### This will make it easier for later training and testing."
   ]
  },
  {
   "cell_type": "code",
   "execution_count": 7,
   "id": "7d1fd10b",
   "metadata": {},
   "outputs": [
    {
     "data": {
      "text/html": [
       "<div>\n",
       "<style scoped>\n",
       "    .dataframe tbody tr th:only-of-type {\n",
       "        vertical-align: middle;\n",
       "    }\n",
       "\n",
       "    .dataframe tbody tr th {\n",
       "        vertical-align: top;\n",
       "    }\n",
       "\n",
       "    .dataframe thead th {\n",
       "        text-align: right;\n",
       "    }\n",
       "</style>\n",
       "<table border=\"1\" class=\"dataframe\">\n",
       "  <thead>\n",
       "    <tr style=\"text-align: right;\">\n",
       "      <th></th>\n",
       "      <th>step</th>\n",
       "      <th>amount</th>\n",
       "      <th>oldbalanceOrg</th>\n",
       "      <th>newbalanceOrig</th>\n",
       "      <th>isFraud</th>\n",
       "      <th>isFlaggedFraud</th>\n",
       "      <th>type-CASH_IN</th>\n",
       "      <th>type-CASH_OUT</th>\n",
       "      <th>type-DEBIT</th>\n",
       "      <th>type-PAYMENT</th>\n",
       "      <th>type-TRANSFER</th>\n",
       "    </tr>\n",
       "  </thead>\n",
       "  <tbody>\n",
       "    <tr>\n",
       "      <th>0</th>\n",
       "      <td>-1.703041</td>\n",
       "      <td>-0.281560</td>\n",
       "      <td>-0.229810</td>\n",
       "      <td>-0.237622</td>\n",
       "      <td>0</td>\n",
       "      <td>0</td>\n",
       "      <td>0</td>\n",
       "      <td>0</td>\n",
       "      <td>0</td>\n",
       "      <td>1</td>\n",
       "      <td>0</td>\n",
       "    </tr>\n",
       "    <tr>\n",
       "      <th>1</th>\n",
       "      <td>-1.703041</td>\n",
       "      <td>-0.294767</td>\n",
       "      <td>-0.281359</td>\n",
       "      <td>-0.285812</td>\n",
       "      <td>0</td>\n",
       "      <td>0</td>\n",
       "      <td>0</td>\n",
       "      <td>0</td>\n",
       "      <td>0</td>\n",
       "      <td>1</td>\n",
       "      <td>0</td>\n",
       "    </tr>\n",
       "    <tr>\n",
       "      <th>2</th>\n",
       "      <td>-1.703041</td>\n",
       "      <td>-0.297555</td>\n",
       "      <td>-0.288654</td>\n",
       "      <td>-0.292442</td>\n",
       "      <td>1</td>\n",
       "      <td>0</td>\n",
       "      <td>0</td>\n",
       "      <td>0</td>\n",
       "      <td>0</td>\n",
       "      <td>0</td>\n",
       "      <td>1</td>\n",
       "    </tr>\n",
       "    <tr>\n",
       "      <th>3</th>\n",
       "      <td>-1.703041</td>\n",
       "      <td>-0.297555</td>\n",
       "      <td>-0.288654</td>\n",
       "      <td>-0.292442</td>\n",
       "      <td>1</td>\n",
       "      <td>0</td>\n",
       "      <td>0</td>\n",
       "      <td>1</td>\n",
       "      <td>0</td>\n",
       "      <td>0</td>\n",
       "      <td>0</td>\n",
       "    </tr>\n",
       "    <tr>\n",
       "      <th>4</th>\n",
       "      <td>-1.703041</td>\n",
       "      <td>-0.278532</td>\n",
       "      <td>-0.274329</td>\n",
       "      <td>-0.282221</td>\n",
       "      <td>0</td>\n",
       "      <td>0</td>\n",
       "      <td>0</td>\n",
       "      <td>0</td>\n",
       "      <td>0</td>\n",
       "      <td>1</td>\n",
       "      <td>0</td>\n",
       "    </tr>\n",
       "    <tr>\n",
       "      <th>...</th>\n",
       "      <td>...</td>\n",
       "      <td>...</td>\n",
       "      <td>...</td>\n",
       "      <td>...</td>\n",
       "      <td>...</td>\n",
       "      <td>...</td>\n",
       "      <td>...</td>\n",
       "      <td>...</td>\n",
       "      <td>...</td>\n",
       "      <td>...</td>\n",
       "      <td>...</td>\n",
       "    </tr>\n",
       "    <tr>\n",
       "      <th>6362615</th>\n",
       "      <td>3.510123</td>\n",
       "      <td>0.264665</td>\n",
       "      <td>-0.171108</td>\n",
       "      <td>-0.292442</td>\n",
       "      <td>1</td>\n",
       "      <td>0</td>\n",
       "      <td>0</td>\n",
       "      <td>1</td>\n",
       "      <td>0</td>\n",
       "      <td>0</td>\n",
       "      <td>0</td>\n",
       "    </tr>\n",
       "    <tr>\n",
       "      <th>6362616</th>\n",
       "      <td>3.510123</td>\n",
       "      <td>10.153952</td>\n",
       "      <td>1.896491</td>\n",
       "      <td>-0.292442</td>\n",
       "      <td>1</td>\n",
       "      <td>0</td>\n",
       "      <td>0</td>\n",
       "      <td>0</td>\n",
       "      <td>0</td>\n",
       "      <td>0</td>\n",
       "      <td>1</td>\n",
       "    </tr>\n",
       "    <tr>\n",
       "      <th>6362617</th>\n",
       "      <td>3.510123</td>\n",
       "      <td>10.153952</td>\n",
       "      <td>1.896491</td>\n",
       "      <td>-0.292442</td>\n",
       "      <td>1</td>\n",
       "      <td>0</td>\n",
       "      <td>0</td>\n",
       "      <td>1</td>\n",
       "      <td>0</td>\n",
       "      <td>0</td>\n",
       "      <td>0</td>\n",
       "    </tr>\n",
       "    <tr>\n",
       "      <th>6362618</th>\n",
       "      <td>3.510123</td>\n",
       "      <td>1.109765</td>\n",
       "      <td>0.005581</td>\n",
       "      <td>-0.292442</td>\n",
       "      <td>1</td>\n",
       "      <td>0</td>\n",
       "      <td>0</td>\n",
       "      <td>0</td>\n",
       "      <td>0</td>\n",
       "      <td>0</td>\n",
       "      <td>1</td>\n",
       "    </tr>\n",
       "    <tr>\n",
       "      <th>6362619</th>\n",
       "      <td>3.510123</td>\n",
       "      <td>1.109765</td>\n",
       "      <td>0.005581</td>\n",
       "      <td>-0.292442</td>\n",
       "      <td>1</td>\n",
       "      <td>0</td>\n",
       "      <td>0</td>\n",
       "      <td>1</td>\n",
       "      <td>0</td>\n",
       "      <td>0</td>\n",
       "      <td>0</td>\n",
       "    </tr>\n",
       "  </tbody>\n",
       "</table>\n",
       "<p>6362620 rows × 11 columns</p>\n",
       "</div>"
      ],
      "text/plain": [
       "             step     amount  oldbalanceOrg  newbalanceOrig  isFraud  \\\n",
       "0       -1.703041  -0.281560      -0.229810       -0.237622        0   \n",
       "1       -1.703041  -0.294767      -0.281359       -0.285812        0   \n",
       "2       -1.703041  -0.297555      -0.288654       -0.292442        1   \n",
       "3       -1.703041  -0.297555      -0.288654       -0.292442        1   \n",
       "4       -1.703041  -0.278532      -0.274329       -0.282221        0   \n",
       "...           ...        ...            ...             ...      ...   \n",
       "6362615  3.510123   0.264665      -0.171108       -0.292442        1   \n",
       "6362616  3.510123  10.153952       1.896491       -0.292442        1   \n",
       "6362617  3.510123  10.153952       1.896491       -0.292442        1   \n",
       "6362618  3.510123   1.109765       0.005581       -0.292442        1   \n",
       "6362619  3.510123   1.109765       0.005581       -0.292442        1   \n",
       "\n",
       "         isFlaggedFraud  type-CASH_IN  type-CASH_OUT  type-DEBIT  \\\n",
       "0                     0             0              0           0   \n",
       "1                     0             0              0           0   \n",
       "2                     0             0              0           0   \n",
       "3                     0             0              1           0   \n",
       "4                     0             0              0           0   \n",
       "...                 ...           ...            ...         ...   \n",
       "6362615               0             0              1           0   \n",
       "6362616               0             0              0           0   \n",
       "6362617               0             0              1           0   \n",
       "6362618               0             0              0           0   \n",
       "6362619               0             0              1           0   \n",
       "\n",
       "         type-PAYMENT  type-TRANSFER  \n",
       "0                   1              0  \n",
       "1                   1              0  \n",
       "2                   0              1  \n",
       "3                   0              0  \n",
       "4                   1              0  \n",
       "...               ...            ...  \n",
       "6362615             0              0  \n",
       "6362616             0              1  \n",
       "6362617             0              0  \n",
       "6362618             0              1  \n",
       "6362619             0              0  \n",
       "\n",
       "[6362620 rows x 11 columns]"
      ]
     },
     "execution_count": 7,
     "metadata": {},
     "output_type": "execute_result"
    }
   ],
   "source": [
    "ready_to_train = pd.read_csv(saveDirectory+'results.csv', delimiter = ',', encoding = \"utf-8\")\n",
    "ready_to_train"
   ]
  },
  {
   "cell_type": "markdown",
   "id": "5497cb65",
   "metadata": {},
   "source": [
    "# \n",
    "# Split data into Training and Test Data.\n",
    "### Alterable Values\n",
    "* Test_Size: Size of the X & Y Test dataset. (percentage as decimal)\n",
    "* random_state:\n",
    "* Dense:\n",
    "* Epochs: number of attemptsassuming model doesnt early stop on its own "
   ]
  },
  {
   "cell_type": "code",
   "execution_count": 8,
   "id": "ac8ffe77",
   "metadata": {},
   "outputs": [
    {
     "name": "stdout",
     "output_type": "stream",
     "text": [
      "(5090096, 10)\n",
      "(5090096, 2)\n",
      "(1272524, 10)\n",
      "(1272524, 2)\n"
     ]
    }
   ],
   "source": [
    "x,y = to_xy(ready_to_train,\"isFraud\")\n",
    "\n",
    "# Split into train/test\n",
    "x_train, x_test, y_train, y_test = train_test_split(x, y, test_size=0.20, random_state=42)\n",
    "\n",
    "print(x_train.shape)\n",
    "print(y_train.shape)\n",
    "print(x_test.shape)\n",
    "print(y_test.shape)"
   ]
  },
  {
   "cell_type": "markdown",
   "id": "37439907",
   "metadata": {},
   "source": [
    "# \n",
    "# Neural Network Models"
   ]
  },
  {
   "cell_type": "markdown",
   "id": "a9608209",
   "metadata": {},
   "source": [
    "# Fully-Connected Neural Network Model \n",
    "### (Relu + Adam + 2 Hidden Layers, 20, 10 Neurons)\n",
    "1. **relu_adam_model_FC.add(Dense(20, input_dim=x.shape[1], activation='relu'))   # Hidden Layer 1, 20 Neurons**\n",
    "2. **relu_adam_model_FC.add(Dense(10, activation='relu'))   # Hidden Layer 2, 10 Neurons**\n",
    "3. **relu_adam_model_FC.add(Dense(y.shape[1], activation='softmax'))**"
   ]
  },
  {
   "cell_type": "code",
   "execution_count": 7,
   "id": "9e2318d9",
   "metadata": {
    "scrolled": true
   },
   "outputs": [
    {
     "name": "stdout",
     "output_type": "stream",
     "text": [
      "\n",
      "Run:  1\n",
      "Epoch 1/600\n",
      "159066/159066 - 322s - loss: 0.0043 - val_loss: 0.0031\n",
      "Epoch 2/600\n",
      "159066/159066 - 312s - loss: 0.0032 - val_loss: 0.0025\n",
      "Epoch 3/600\n",
      "159066/159066 - 291s - loss: 0.0031 - val_loss: 0.0030\n",
      "Epoch 4/600\n",
      "159066/159066 - 305s - loss: 0.0029 - val_loss: 0.0031\n",
      "Epoch 5/600\n",
      "159066/159066 - 307s - loss: 0.0028 - val_loss: 0.0025\n",
      "Epoch 6/600\n",
      "159066/159066 - 265s - loss: 0.0028 - val_loss: 0.0031\n",
      "Epoch 00006: early stopping\n",
      "\n",
      "Run:  2\n",
      "Epoch 1/600\n",
      "159066/159066 - 285s - loss: 0.0041 - val_loss: 0.0036\n",
      "Epoch 2/600\n",
      "159066/159066 - 324s - loss: 0.0035 - val_loss: 0.0030\n",
      "Epoch 3/600\n",
      "159066/159066 - 295s - loss: 0.0033 - val_loss: 0.0029\n",
      "Epoch 4/600\n",
      "159066/159066 - 302s - loss: 0.0031 - val_loss: 0.0027\n",
      "Epoch 5/600\n",
      "159066/159066 - 277s - loss: 0.0030 - val_loss: 0.0026\n",
      "Epoch 6/600\n",
      "159066/159066 - 285s - loss: 0.0030 - val_loss: 0.0025\n",
      "Epoch 7/600\n",
      "159066/159066 - 321s - loss: 0.0028 - val_loss: 0.0026\n",
      "Epoch 8/600\n",
      "159066/159066 - 311s - loss: 0.0027 - val_loss: 0.0024\n",
      "Epoch 9/600\n",
      "159066/159066 - 328s - loss: 0.0027 - val_loss: 0.0027\n",
      "Epoch 10/600\n",
      "159066/159066 - 342s - loss: 0.0026 - val_loss: 0.0021\n",
      "Epoch 11/600\n",
      "159066/159066 - 326s - loss: 0.0027 - val_loss: 0.0024\n",
      "Epoch 00011: early stopping\n",
      "\n",
      "Run:  3\n",
      "Epoch 1/600\n",
      "159066/159066 - 320s - loss: 0.0040 - val_loss: 0.0031\n",
      "Epoch 2/600\n",
      "159066/159066 - 320s - loss: 0.0033 - val_loss: 0.0027\n",
      "Epoch 3/600\n",
      "159066/159066 - 341s - loss: 0.0033 - val_loss: 0.0030\n",
      "Epoch 4/600\n",
      "159066/159066 - 347s - loss: 0.0032 - val_loss: 0.0029\n",
      "Epoch 5/600\n",
      "159066/159066 - 345s - loss: 0.0030 - val_loss: 0.0027\n",
      "Epoch 6/600\n",
      "159066/159066 - 301s - loss: 0.0029 - val_loss: 0.0025\n",
      "Epoch 00006: early stopping\n"
     ]
    }
   ],
   "source": [
    "# MAKE SURE TO CHANGE THE FILE NAME WITH EACH ONE OR YOU'LL OVERWRITE DATA\n",
    "checkpointer = ModelCheckpoint(filepath=\"dnn/relu_adam_model_FC.hdf5\", verbose=0, save_best_only=True)\n",
    "\n",
    "# Run model training multiple times to jump out of local optimum \n",
    "for i in range(3):\n",
    "    print('\\nRun: ', i + 1)\n",
    "    \n",
    "    relu_adam_model_FC = Sequential()\n",
    "\n",
    "    relu_adam_model_FC.add(Dense(20, input_dim=x_train.shape[1], activation='relu'))\n",
    "    relu_adam_model_FC.add(Dense(10, activation='relu'))\n",
    "    relu_adam_model_FC.add(Dense(y_train.shape[1], activation='softmax'))\n",
    "\n",
    "    relu_adam_model_FC.compile(loss='categorical_crossentropy', optimizer='adam')\n",
    "\n",
    "    monitor = EarlyStopping(monitor='val_loss', min_delta=1e-3, patience=5, verbose=1, mode='auto')\n",
    "\n",
    "    relu_adam_model_FC.fit(x_train,y_train, validation_data=(x_test,y_test), callbacks=[monitor,checkpointer],verbose=2,epochs=600)"
   ]
  },
  {
   "cell_type": "code",
   "execution_count": 17,
   "id": "e756ee6f",
   "metadata": {},
   "outputs": [
    {
     "name": "stdout",
     "output_type": "stream",
     "text": [
      "Model: \"sequential_1\"\n",
      "_________________________________________________________________\n",
      "Layer (type)                 Output Shape              Param #   \n",
      "=================================================================\n",
      "dense_3 (Dense)              (None, 20)                220       \n",
      "_________________________________________________________________\n",
      "dense_4 (Dense)              (None, 10)                210       \n",
      "_________________________________________________________________\n",
      "dense_5 (Dense)              (None, 2)                 22        \n",
      "=================================================================\n",
      "Total params: 452\n",
      "Trainable params: 452\n",
      "Non-trainable params: 0\n",
      "_________________________________________________________________\n"
     ]
    }
   ],
   "source": [
    "relu_adam_model_FC.summary()"
   ]
  },
  {
   "cell_type": "markdown",
   "id": "52f252b0",
   "metadata": {},
   "source": [
    "# \n",
    "### (Sigmoid + Adam + 2 Hidden Layers, 20, 10 Neurons)\n",
    "1. **sigmoid_adam_model_FC.add(Dense(20, input_dim=x.shape[1], activation='sigmoid'))   # Hidden Layer 1, 20 Neurons**\n",
    "2. **sigmoid_adam_model_FC.add(Dense(10, activation='sigmoid'))   # Hidden Layer 2, 10 Neurons**\n",
    "3. **sigmoid_adam_model_FC.add(Dense(y.shape[1], activation='softmax'))**"
   ]
  },
  {
   "cell_type": "code",
   "execution_count": 25,
   "id": "0f8a00d1",
   "metadata": {
    "scrolled": true
   },
   "outputs": [
    {
     "name": "stdout",
     "output_type": "stream",
     "text": [
      "\n",
      "Run:  1\n",
      "Epoch 1/600\n",
      "159066/159066 - 267s - loss: 0.0047 - val_loss: 0.0036\n",
      "Epoch 2/600\n",
      "159066/159066 - 280s - loss: 0.0034 - val_loss: 0.0031\n",
      "Epoch 3/600\n",
      "159066/159066 - 284s - loss: 0.0032 - val_loss: 0.0030\n",
      "Epoch 4/600\n",
      "159066/159066 - 276s - loss: 0.0031 - val_loss: 0.0030\n",
      "Epoch 5/600\n",
      "159066/159066 - 275s - loss: 0.0030 - val_loss: 0.0026\n",
      "Epoch 6/600\n",
      "159066/159066 - 301s - loss: 0.0029 - val_loss: 0.0026\n",
      "Epoch 00006: early stopping\n",
      "\n",
      "Run:  2\n",
      "Epoch 1/600\n",
      "159066/159066 - 286s - loss: 0.0049 - val_loss: 0.0034\n",
      "Epoch 2/600\n",
      "159066/159066 - 287s - loss: 0.0034 - val_loss: 0.0031\n",
      "Epoch 3/600\n",
      "159066/159066 - 298s - loss: 0.0032 - val_loss: 0.0029\n",
      "Epoch 4/600\n",
      "159066/159066 - 291s - loss: 0.0031 - val_loss: 0.0028\n",
      "Epoch 5/600\n",
      "159066/159066 - 274s - loss: 0.0030 - val_loss: 0.0033\n",
      "Epoch 6/600\n",
      "159066/159066 - 274s - loss: 0.0029 - val_loss: 0.0027\n",
      "Epoch 00006: early stopping\n",
      "\n",
      "Run:  3\n",
      "Epoch 1/600\n",
      "159066/159066 - 284s - loss: 0.0047 - val_loss: 0.0040\n",
      "Epoch 2/600\n",
      "159066/159066 - 277s - loss: 0.0034 - val_loss: 0.0031\n",
      "Epoch 3/600\n",
      "159066/159066 - 274s - loss: 0.0032 - val_loss: 0.0030\n",
      "Epoch 4/600\n",
      "159066/159066 - 291s - loss: 0.0031 - val_loss: 0.0027\n",
      "Epoch 5/600\n",
      "159066/159066 - 274s - loss: 0.0030 - val_loss: 0.0026\n",
      "Epoch 6/600\n",
      "159066/159066 - 269s - loss: 0.0029 - val_loss: 0.0028\n",
      "Epoch 7/600\n",
      "159066/159066 - 269s - loss: 0.0028 - val_loss: 0.0025\n",
      "Epoch 8/600\n",
      "159066/159066 - 288s - loss: 0.0028 - val_loss: 0.0026\n",
      "Epoch 00008: early stopping\n"
     ]
    }
   ],
   "source": [
    "# MAKE SURE TO CHANGE THE FILE NAME WITH EACH ONE OR YOU'LL OVERWRITE DATA\n",
    "checkpointer = ModelCheckpoint(filepath=\"dnn/sigmoid_adam_model_FC.hdf5\", verbose=0, save_best_only=True)\n",
    "\n",
    "# Run model training multiple times to jump out of local optimum \n",
    "for i in range(3):\n",
    "    print('\\nRun: ', i + 1)\n",
    "    \n",
    "    sigmoid_adam_model_FC = Sequential()\n",
    "\n",
    "    sigmoid_adam_model_FC.add(Dense(20, input_dim=x_train.shape[1], activation='sigmoid'))\n",
    "    sigmoid_adam_model_FC.add(Dense(10, activation='sigmoid'))\n",
    "    sigmoid_adam_model_FC.add(Dense(y_train.shape[1], activation='softmax'))\n",
    "\n",
    "    sigmoid_adam_model_FC.compile(loss='categorical_crossentropy', optimizer='adam')\n",
    "\n",
    "    monitor = EarlyStopping(monitor='val_loss', min_delta=1e-3, patience=5, verbose=1, mode='auto')\n",
    "\n",
    "    sigmoid_adam_model_FC.fit(x_train,y_train, validation_data=(x_test,y_test), callbacks=[monitor,checkpointer],verbose=2,epochs=600)"
   ]
  },
  {
   "cell_type": "code",
   "execution_count": 26,
   "id": "97c061cf",
   "metadata": {},
   "outputs": [
    {
     "name": "stdout",
     "output_type": "stream",
     "text": [
      "Model: \"sequential_7\"\n",
      "_________________________________________________________________\n",
      "Layer (type)                 Output Shape              Param #   \n",
      "=================================================================\n",
      "dense_18 (Dense)             (None, 20)                220       \n",
      "_________________________________________________________________\n",
      "dense_19 (Dense)             (None, 10)                210       \n",
      "_________________________________________________________________\n",
      "dense_20 (Dense)             (None, 2)                 22        \n",
      "=================================================================\n",
      "Total params: 452\n",
      "Trainable params: 452\n",
      "Non-trainable params: 0\n",
      "_________________________________________________________________\n"
     ]
    }
   ],
   "source": [
    "sigmoid_adam_model_FC.summary()"
   ]
  },
  {
   "cell_type": "markdown",
   "id": "7166c72e",
   "metadata": {},
   "source": [
    "# \n",
    "### (Tanh + Adam + 2 Hidden Layers, 20, 10 Neurons)\n",
    "1. **Tanh_adam_model_FC.add(Dense(20, input_dim=x.shape[1], activation='tanh'))   # Hidden Layer 1, 20 Neurons**\n",
    "2. **Tanh_adam_model_FC.add(Dense(10, activation='tanh'))   # Hidden Layer 2, 10 Neurons**\n",
    "3. **Tanh_adam_model_FC.add(Dense(y.shape[1], activation='softmax'))**"
   ]
  },
  {
   "cell_type": "code",
   "execution_count": 14,
   "id": "aae83a19",
   "metadata": {
    "scrolled": true
   },
   "outputs": [
    {
     "name": "stdout",
     "output_type": "stream",
     "text": [
      "\n",
      "Run:  1\n",
      "Epoch 1/600\n",
      "159066/159066 - 326s - loss: 0.0043 - val_loss: 0.0033\n",
      "Epoch 2/600\n",
      "159066/159066 - 316s - loss: 0.0034 - val_loss: 0.0031\n",
      "Epoch 3/600\n",
      "159066/159066 - 299s - loss: 0.0032 - val_loss: 0.0029\n",
      "Epoch 4/600\n",
      "159066/159066 - 294s - loss: 0.0030 - val_loss: 0.0030\n",
      "Epoch 5/600\n",
      "159066/159066 - 292s - loss: 0.0029 - val_loss: 0.0029\n",
      "Epoch 6/600\n",
      "159066/159066 - 303s - loss: 0.0028 - val_loss: 0.0025\n",
      "Epoch 00006: early stopping\n",
      "\n",
      "Run:  2\n",
      "Epoch 1/600\n",
      "159066/159066 - 328s - loss: 0.0042 - val_loss: 0.0032\n",
      "Epoch 2/600\n",
      "159066/159066 - 303s - loss: 0.0033 - val_loss: 0.0029\n",
      "Epoch 3/600\n",
      "159066/159066 - 311s - loss: 0.0031 - val_loss: 0.0028\n",
      "Epoch 4/600\n",
      "159066/159066 - 298s - loss: 0.0030 - val_loss: 0.0027\n",
      "Epoch 5/600\n",
      "159066/159066 - 357s - loss: 0.0029 - val_loss: 0.0025\n",
      "Epoch 6/600\n",
      "159066/159066 - 363s - loss: 0.0028 - val_loss: 0.0027\n",
      "Epoch 00006: early stopping\n",
      "\n",
      "Run:  3\n",
      "Epoch 1/600\n",
      "159066/159066 - 364s - loss: 0.0041 - val_loss: 0.0036\n",
      "Epoch 2/600\n",
      "159066/159066 - 318s - loss: 0.0034 - val_loss: 0.0028\n",
      "Epoch 3/600\n",
      "159066/159066 - 306s - loss: 0.0032 - val_loss: 0.0028\n",
      "Epoch 4/600\n",
      "159066/159066 - 306s - loss: 0.0030 - val_loss: 0.0028\n",
      "Epoch 5/600\n",
      "159066/159066 - 326s - loss: 0.0029 - val_loss: 0.0031\n",
      "Epoch 6/600\n",
      "159066/159066 - 327s - loss: 0.0028 - val_loss: 0.0025\n",
      "Epoch 7/600\n",
      "159066/159066 - 316s - loss: 0.0028 - val_loss: 0.0026\n",
      "Epoch 8/600\n",
      "159066/159066 - 300s - loss: 0.0027 - val_loss: 0.0025\n",
      "Epoch 9/600\n",
      "159066/159066 - 307s - loss: 0.0027 - val_loss: 0.0026\n",
      "Epoch 10/600\n",
      "159066/159066 - 348s - loss: 0.0026 - val_loss: 0.0023\n",
      "Epoch 11/600\n",
      "159066/159066 - 367s - loss: 0.0026 - val_loss: 0.0024\n",
      "Epoch 00011: early stopping\n"
     ]
    }
   ],
   "source": [
    "# MAKE SURE TO CHANGE THE FILE NAME WITH EACH ONE OR YOU'LL OVERWRITE DATA\n",
    "checkpointer = ModelCheckpoint(filepath=\"dnn/tanh_adam_model_FC.hdf5\", verbose=0, save_best_only=True)\n",
    "\n",
    "# Run model training multiple times to jump out of local optimum \n",
    "for i in range(3):\n",
    "    print('\\nRun: ', i + 1)\n",
    "    \n",
    "    tanh_adam_model_FC = Sequential()\n",
    "\n",
    "    tanh_adam_model_FC.add(Dense(20, input_dim=x_train.shape[1], activation='tanh'))\n",
    "    tanh_adam_model_FC.add(Dense(10, activation='tanh'))\n",
    "    tanh_adam_model_FC.add(Dense(y_train.shape[1], activation='softmax'))\n",
    "\n",
    "    tanh_adam_model_FC.compile(loss='categorical_crossentropy', optimizer='adam')\n",
    "\n",
    "    monitor = EarlyStopping(monitor='val_loss', min_delta=1e-3, patience=5, verbose=1, mode='auto')\n",
    "\n",
    "    tanh_adam_model_FC.fit(x_train,y_train, validation_data=(x_test,y_test), callbacks=[monitor,checkpointer],verbose=2,epochs=600)"
   ]
  },
  {
   "cell_type": "code",
   "execution_count": 15,
   "id": "457233ba",
   "metadata": {},
   "outputs": [
    {
     "name": "stdout",
     "output_type": "stream",
     "text": [
      "Model: \"sequential_3\"\n",
      "_________________________________________________________________\n",
      "Layer (type)                 Output Shape              Param #   \n",
      "=================================================================\n",
      "dense_9 (Dense)              (None, 20)                220       \n",
      "_________________________________________________________________\n",
      "dense_10 (Dense)             (None, 10)                210       \n",
      "_________________________________________________________________\n",
      "dense_11 (Dense)             (None, 2)                 22        \n",
      "=================================================================\n",
      "Total params: 452\n",
      "Trainable params: 452\n",
      "Non-trainable params: 0\n",
      "_________________________________________________________________\n"
     ]
    }
   ],
   "source": [
    "tanh_adam_model_FC.summary()"
   ]
  },
  {
   "cell_type": "markdown",
   "id": "147f694c",
   "metadata": {},
   "source": [
    "# \n",
    "## Convert the X Test & Train for CNN"
   ]
  },
  {
   "cell_type": "code",
   "execution_count": 9,
   "id": "91393669",
   "metadata": {},
   "outputs": [
    {
     "name": "stdout",
     "output_type": "stream",
     "text": [
      "(5090096, 1, 10, 1) training samples\n",
      "(1272524, 1, 10, 1) testing samples\n",
      "(1, 10, 1)\n"
     ]
    }
   ],
   "source": [
    "x_train_cnn = x_train.reshape(x_train.shape[0], 1, x_train.shape[1], 1)\n",
    "x_test_cnn = x_test.reshape(x_test.shape[0], 1, x_test.shape[1], 1)\n",
    "input_shape = (1, x_train.shape[1], 1)\n",
    "\n",
    "print(x_train_cnn.shape, 'training samples')\n",
    "print(x_test_cnn.shape, 'testing samples')\n",
    "print(input_shape)"
   ]
  },
  {
   "cell_type": "markdown",
   "id": "94890ac3",
   "metadata": {},
   "source": [
    "# \n",
    "# Convolutional Neural Networks (CNN)\n",
    "For the convolutional layer, We must specify the following hyper-parameters :\n",
    "\n",
    "* Number of filters\n",
    "* Filter Size\n",
    "* Stride\n",
    "* Padding\n",
    "* Activation Function/Non-Linearity\n",
    "\n",
    "\n",
    "A filter is a square-shaped object that scans over the image. The more filters that we give to a convolutional layer, the more features it can detect.\n",
    "\n",
    "\n",
    "## Max Pooling Layers\n",
    "\n",
    "Max-pool layers downsample the data.  This technique can avoid overfitting.\n",
    "\n",
    "*** Typically, you can always place a max-pool layer immediately following convolutional layer.***\n",
    "\n",
    "\n",
    "\n",
    "# Example of Training CNNs with Tensorflow\n",
    "\n",
    "The following sections describe how to use TensorFlow/Keras with CNNs.\n",
    "\n",
    "* Hint: For CNN, find a way to view each connection as an image. Please refer to our lab tutorial on CNN for handling data types other than images. You may use either Conv2D or Conv1D.\n",
    "\n",
    "https://www.mlq.ai/convolutional-neural-network-python-keras/"
   ]
  },
  {
   "cell_type": "markdown",
   "id": "9fcba00a",
   "metadata": {},
   "source": [
    "# \n",
    "# Convolutional Neural Network Model "
   ]
  },
  {
   "cell_type": "markdown",
   "id": "045230a3",
   "metadata": {},
   "source": [
    "### (Relu + Adam + 2 Convolution Layers with 32 and 64 kernals + Kernal Size: 1x5)"
   ]
  },
  {
   "cell_type": "code",
   "execution_count": 24,
   "id": "41dbf4f5",
   "metadata": {
    "scrolled": true
   },
   "outputs": [
    {
     "name": "stdout",
     "output_type": "stream",
     "text": [
      "\n",
      "Run:  1\n",
      "Epoch 1/600\n",
      "159066/159066 - 377s - loss: 0.0049 - val_loss: 0.0034\n",
      "Epoch 2/600\n",
      "159066/159066 - 373s - loss: 0.0041 - val_loss: 0.0035\n",
      "Epoch 3/600\n",
      "159066/159066 - 368s - loss: 0.0040 - val_loss: 0.0039\n",
      "Epoch 4/600\n",
      "159066/159066 - 378s - loss: 0.0039 - val_loss: 0.0034\n",
      "Epoch 5/600\n",
      "159066/159066 - 382s - loss: 0.0041 - val_loss: 0.0054\n",
      "Epoch 6/600\n",
      "159066/159066 - 382s - loss: 0.0050 - val_loss: 0.0030\n",
      "Epoch 00006: early stopping\n",
      "\n",
      "Run:  2\n",
      "Epoch 1/600\n",
      "159066/159066 - 480s - loss: 0.0051 - val_loss: 0.0035\n",
      "Epoch 2/600\n",
      "159066/159066 - 374s - loss: 0.0041 - val_loss: 0.0031\n",
      "Epoch 3/600\n",
      "159066/159066 - 366s - loss: 0.0040 - val_loss: 0.0037\n",
      "Epoch 4/600\n",
      "159066/159066 - 385s - loss: 0.0040 - val_loss: 0.0033\n",
      "Epoch 5/600\n",
      "159066/159066 - 393s - loss: 0.0044 - val_loss: 0.0033\n",
      "Epoch 6/600\n",
      "159066/159066 - 371s - loss: 0.0038 - val_loss: 0.0033\n",
      "Epoch 00006: early stopping\n",
      "\n",
      "Run:  3\n",
      "Epoch 1/600\n",
      "159066/159066 - 388s - loss: 0.0048 - val_loss: 0.0045\n",
      "Epoch 2/600\n",
      "159066/159066 - 375s - loss: 0.0037 - val_loss: 0.0033\n",
      "Epoch 3/600\n",
      "159066/159066 - 365s - loss: 0.0038 - val_loss: 0.0043\n",
      "Epoch 4/600\n",
      "159066/159066 - 363s - loss: 0.0037 - val_loss: 0.0035\n",
      "Epoch 5/600\n",
      "159066/159066 - 363s - loss: 0.0040 - val_loss: 0.0032\n",
      "Epoch 6/600\n",
      "159066/159066 - 369s - loss: 0.0040 - val_loss: 0.0033\n",
      "Epoch 7/600\n",
      "159066/159066 - 371s - loss: 0.0038 - val_loss: 0.0039\n",
      "Epoch 00007: early stopping\n"
     ]
    }
   ],
   "source": [
    "# MAKE SURE TO CHANGE THE FILE NAME WITH EACH ONE OR YOU'LL OVERWRITE DATA\n",
    "checkpointer = ModelCheckpoint(filepath=\"dnn/relu_adam_model_CNN.hdf5\", verbose=0, save_best_only=True)\n",
    "\n",
    "# Run model training multiple times to jump out of local optimum \n",
    "for i in range(3):\n",
    "    print('\\nRun: ', i + 1)\n",
    "    \n",
    "    relu_adam_model_CNN = Sequential()\n",
    "    \n",
    "    relu_adam_model_CNN.add(Conv2D(32, kernel_size=(1, 5), strides=(1, 1), activation='relu', padding='same', input_shape=input_shape))\n",
    "    relu_adam_model_CNN.add(MaxPooling2D(pool_size=(1, 2), strides=(2, 2)))\n",
    "    relu_adam_model_CNN.add(Conv2D(64, kernel_size=(1, 5), strides=(1, 1), activation='relu', padding='same', input_shape=input_shape))\n",
    "    relu_adam_model_CNN.add(MaxPooling2D(pool_size=(1, 2), strides=(2, 2)))\n",
    "    relu_adam_model_CNN.add(Flatten())\n",
    "    relu_adam_model_CNN.add(Dense(1000, activation='relu'))\n",
    "    relu_adam_model_CNN.add(Dropout(0.25))\n",
    "    relu_adam_model_CNN.add(Dense(y_train.shape[1], activation='softmax'))\n",
    "\n",
    "    relu_adam_model_CNN.compile(loss='categorical_crossentropy', optimizer='adam')\n",
    "\n",
    "    monitor = EarlyStopping(monitor='val_loss', min_delta=1e-3, patience=5, verbose=1, mode='auto')\n",
    "\n",
    "    relu_adam_model_CNN.fit(x_train_cnn,y_train, validation_data=(x_test_cnn,y_test), callbacks=[monitor,checkpointer],verbose=2,epochs=600)"
   ]
  },
  {
   "cell_type": "code",
   "execution_count": 19,
   "id": "259ba559",
   "metadata": {},
   "outputs": [
    {
     "name": "stdout",
     "output_type": "stream",
     "text": [
      "Model: \"sequential_16\"\n",
      "_________________________________________________________________\n",
      "Layer (type)                 Output Shape              Param #   \n",
      "=================================================================\n",
      "conv2d_22 (Conv2D)           (None, 1, 10, 32)         192       \n",
      "_________________________________________________________________\n",
      "max_pooling2d_22 (MaxPooling (None, 1, 5, 32)          0         \n",
      "_________________________________________________________________\n",
      "conv2d_23 (Conv2D)           (None, 1, 5, 64)          10304     \n",
      "_________________________________________________________________\n",
      "max_pooling2d_23 (MaxPooling (None, 1, 2, 64)          0         \n",
      "_________________________________________________________________\n",
      "flatten_3 (Flatten)          (None, 128)               0         \n",
      "_________________________________________________________________\n",
      "dense_15 (Dense)             (None, 1000)              129000    \n",
      "_________________________________________________________________\n",
      "dropout_3 (Dropout)          (None, 1000)              0         \n",
      "_________________________________________________________________\n",
      "dense_16 (Dense)             (None, 2)                 2002      \n",
      "=================================================================\n",
      "Total params: 141,498\n",
      "Trainable params: 141,498\n",
      "Non-trainable params: 0\n",
      "_________________________________________________________________\n"
     ]
    }
   ],
   "source": [
    "relu_adam_model_CNN.summary()"
   ]
  },
  {
   "cell_type": "markdown",
   "id": "d6c98f1c",
   "metadata": {},
   "source": [
    "# \n",
    "### (Relu + SGD + 2 Convolution Layers with 32 and 64 kernals + Kernal Size: 1x5)"
   ]
  },
  {
   "cell_type": "code",
   "execution_count": 54,
   "id": "79ee78e0",
   "metadata": {
    "scrolled": true
   },
   "outputs": [
    {
     "name": "stdout",
     "output_type": "stream",
     "text": [
      "\n",
      "Run:  1\n",
      "Epoch 1/600\n",
      "159066/159066 - 356s - loss: 0.0071 - val_loss: 0.0052\n",
      "Epoch 2/600\n",
      "159066/159066 - 353s - loss: 0.0048 - val_loss: 0.0044\n",
      "Epoch 3/600\n",
      "159066/159066 - 363s - loss: 0.0043 - val_loss: 0.0041\n",
      "Epoch 4/600\n",
      "159066/159066 - 354s - loss: 0.0040 - val_loss: 0.0038\n",
      "Epoch 5/600\n",
      "159066/159066 - 359s - loss: 0.0038 - val_loss: 0.0035\n",
      "Epoch 6/600\n",
      "159066/159066 - 361s - loss: 0.0036 - val_loss: 0.0033\n",
      "Epoch 7/600\n",
      "159066/159066 - 362s - loss: 0.0034 - val_loss: 0.0034\n",
      "Epoch 8/600\n",
      "159066/159066 - 355s - loss: 0.0033 - val_loss: 0.0032\n",
      "Epoch 00008: early stopping\n",
      "\n",
      "Run:  2\n",
      "Epoch 1/600\n",
      "159066/159066 - 362s - loss: 0.0073 - val_loss: 0.0053\n",
      "Epoch 2/600\n",
      "159066/159066 - 351s - loss: 0.0048 - val_loss: 0.0045\n",
      "Epoch 3/600\n",
      "159066/159066 - 355s - loss: 0.0043 - val_loss: 0.0042\n",
      "Epoch 4/600\n",
      "159066/159066 - 355s - loss: 0.0040 - val_loss: 0.0037\n",
      "Epoch 5/600\n",
      "159066/159066 - 361s - loss: 0.0038 - val_loss: 0.0035\n",
      "Epoch 6/600\n",
      "159066/159066 - 356s - loss: 0.0036 - val_loss: 0.0062\n",
      "Epoch 7/600\n",
      "159066/159066 - 360s - loss: 0.0035 - val_loss: 0.0032\n",
      "Epoch 8/600\n",
      "159066/159066 - 550s - loss: 0.0033 - val_loss: 0.0033\n",
      "Epoch 00008: early stopping\n",
      "\n",
      "Run:  3\n",
      "Epoch 1/600\n",
      "159066/159066 - 367s - loss: 0.0072 - val_loss: 0.0053\n",
      "Epoch 2/600\n",
      "159066/159066 - 384s - loss: 0.0047 - val_loss: 0.0043\n",
      "Epoch 3/600\n",
      "159066/159066 - 374s - loss: 0.0042 - val_loss: 0.0040\n",
      "Epoch 4/600\n",
      "159066/159066 - 372s - loss: 0.0040 - val_loss: 0.0037\n",
      "Epoch 5/600\n",
      "159066/159066 - 366s - loss: 0.0038 - val_loss: 0.0035\n",
      "Epoch 6/600\n",
      "159066/159066 - 375s - loss: 0.0036 - val_loss: 0.0033\n",
      "Epoch 7/600\n",
      "159066/159066 - 395s - loss: 0.0035 - val_loss: 0.0031\n",
      "Epoch 8/600\n",
      "159066/159066 - 389s - loss: 0.0033 - val_loss: 0.0036\n",
      "Epoch 9/600\n",
      "159066/159066 - 364s - loss: 0.0032 - val_loss: 0.0032\n",
      "Epoch 10/600\n",
      "159066/159066 - 505s - loss: 0.0032 - val_loss: 0.0029\n",
      "Epoch 11/600\n",
      "159066/159066 - 473s - loss: 0.0031 - val_loss: 0.0029\n",
      "Epoch 00011: early stopping\n"
     ]
    }
   ],
   "source": [
    "# MAKE SURE TO CHANGE THE FILE NAME WITH EACH ONE OR YOU'LL OVERWRITE DATA\n",
    "checkpointer = ModelCheckpoint(filepath=\"dnn/relu_sgd_model_CNN.hdf5\", verbose=0, save_best_only=True)\n",
    "\n",
    "# Run model training multiple times to jump out of local optimum \n",
    "for i in range(3):\n",
    "    print('\\nRun: ', i + 1)\n",
    "    \n",
    "    relu_sgd_model_CNN = Sequential()\n",
    "    \n",
    "    relu_sgd_model_CNN.add(Conv2D(32, kernel_size=(1, 5), strides=(1, 1), activation='relu', padding='same', input_shape=input_shape))\n",
    "    relu_sgd_model_CNN.add(MaxPooling2D(pool_size=(1, 2), strides=(2, 2)))\n",
    "    relu_sgd_model_CNN.add(Conv2D(64, kernel_size=(1, 5), strides=(1, 1), activation='relu', padding='same', input_shape=input_shape))\n",
    "    relu_sgd_model_CNN.add(MaxPooling2D(pool_size=(1, 2), strides=(2, 2)))\n",
    "    relu_sgd_model_CNN.add(Flatten())\n",
    "    relu_sgd_model_CNN.add(Dense(1000, activation='relu'))\n",
    "    relu_sgd_model_CNN.add(Dropout(0.25))\n",
    "    relu_sgd_model_CNN.add(Dense(y_train.shape[1], activation='softmax'))\n",
    "\n",
    "    relu_sgd_model_CNN.compile(loss='categorical_crossentropy', optimizer='sgd')\n",
    "\n",
    "    monitor = EarlyStopping(monitor='val_loss', min_delta=1e-3, patience=5, verbose=1, mode='auto')\n",
    "\n",
    "    relu_sgd_model_CNN.fit(x_train_cnn,y_train, validation_data=(x_test_cnn,y_test), callbacks=[monitor,checkpointer],verbose=2,epochs=600)"
   ]
  },
  {
   "cell_type": "code",
   "execution_count": 20,
   "id": "8d7ba53c",
   "metadata": {},
   "outputs": [
    {
     "name": "stdout",
     "output_type": "stream",
     "text": [
      "Model: \"sequential_21\"\n",
      "_________________________________________________________________\n",
      "Layer (type)                 Output Shape              Param #   \n",
      "=================================================================\n",
      "conv2d_32 (Conv2D)           (None, 1, 10, 32)         192       \n",
      "_________________________________________________________________\n",
      "max_pooling2d_32 (MaxPooling (None, 1, 5, 32)          0         \n",
      "_________________________________________________________________\n",
      "conv2d_33 (Conv2D)           (None, 1, 5, 64)          10304     \n",
      "_________________________________________________________________\n",
      "max_pooling2d_33 (MaxPooling (None, 1, 2, 64)          0         \n",
      "_________________________________________________________________\n",
      "flatten_8 (Flatten)          (None, 128)               0         \n",
      "_________________________________________________________________\n",
      "dense_25 (Dense)             (None, 1000)              129000    \n",
      "_________________________________________________________________\n",
      "dropout_8 (Dropout)          (None, 1000)              0         \n",
      "_________________________________________________________________\n",
      "dense_26 (Dense)             (None, 2)                 2002      \n",
      "=================================================================\n",
      "Total params: 141,498\n",
      "Trainable params: 141,498\n",
      "Non-trainable params: 0\n",
      "_________________________________________________________________\n"
     ]
    }
   ],
   "source": [
    "relu_sgd_model_CNN.summary()"
   ]
  },
  {
   "cell_type": "markdown",
   "id": "2dcf4c4c",
   "metadata": {},
   "source": [
    "# \n",
    "### (Sigmoid + Adam + 2 Convolution Layers with 32 and 64 kernals + Kernal Size: 1x5)"
   ]
  },
  {
   "cell_type": "code",
   "execution_count": 8,
   "id": "fccfac33",
   "metadata": {
    "scrolled": true
   },
   "outputs": [
    {
     "name": "stdout",
     "output_type": "stream",
     "text": [
      "\n",
      "Run:  1\n",
      "Epoch 1/600\n",
      "159066/159066 - 469s - loss: 0.0050 - val_loss: 0.0037\n",
      "Epoch 2/600\n",
      "159066/159066 - 497s - loss: 0.0037 - val_loss: 0.0032\n",
      "Epoch 3/600\n",
      "159066/159066 - 498s - loss: 0.0033 - val_loss: 0.0042\n",
      "Epoch 4/600\n",
      "159066/159066 - 481s - loss: 0.0032 - val_loss: 0.0026\n",
      "Epoch 5/600\n",
      "159066/159066 - 481s - loss: 0.0032 - val_loss: 0.0025\n",
      "Epoch 6/600\n",
      "159066/159066 - 459s - loss: 0.0032 - val_loss: 0.0030\n",
      "Epoch 7/600\n",
      "159066/159066 - 401s - loss: 0.0031 - val_loss: 0.0033\n",
      "Epoch 8/600\n",
      "159066/159066 - 432s - loss: 0.0030 - val_loss: 0.0025\n",
      "Epoch 9/600\n",
      "159066/159066 - 424s - loss: 0.0030 - val_loss: 0.0029\n",
      "Epoch 00009: early stopping\n",
      "\n",
      "Run:  2\n",
      "Epoch 1/600\n",
      "159066/159066 - 382s - loss: 0.0050 - val_loss: 0.0035\n",
      "Epoch 2/600\n",
      "159066/159066 - 386s - loss: 0.0036 - val_loss: 0.0031\n",
      "Epoch 3/600\n",
      "159066/159066 - 395s - loss: 0.0033 - val_loss: 0.0035\n",
      "Epoch 4/600\n",
      "159066/159066 - 419s - loss: 0.0032 - val_loss: 0.0025\n",
      "Epoch 5/600\n",
      "159066/159066 - 383s - loss: 0.0031 - val_loss: 0.0024\n",
      "Epoch 6/600\n",
      "159066/159066 - 397s - loss: 0.0032 - val_loss: 0.0030\n",
      "Epoch 7/600\n",
      "159066/159066 - 389s - loss: 0.0032 - val_loss: 0.0025\n",
      "Epoch 8/600\n",
      "159066/159066 - 379s - loss: 0.0032 - val_loss: 0.0032\n",
      "Epoch 9/600\n",
      "159066/159066 - 379s - loss: 0.0032 - val_loss: 0.0025\n",
      "Epoch 10/600\n",
      "159066/159066 - 378s - loss: 0.0031 - val_loss: 0.0031\n",
      "Epoch 00010: early stopping\n",
      "\n",
      "Run:  3\n",
      "Epoch 1/600\n",
      "159066/159066 - 378s - loss: 0.0049 - val_loss: 0.0032\n",
      "Epoch 2/600\n",
      "159066/159066 - 372s - loss: 0.0035 - val_loss: 0.0031\n",
      "Epoch 3/600\n",
      "159066/159066 - 376s - loss: 0.0032 - val_loss: 0.0031\n",
      "Epoch 4/600\n",
      "159066/159066 - 374s - loss: 0.0030 - val_loss: 0.0025\n",
      "Epoch 5/600\n",
      "159066/159066 - 375s - loss: 0.0030 - val_loss: 0.0028\n",
      "Epoch 6/600\n",
      "159066/159066 - 375s - loss: 0.0030 - val_loss: 0.0029\n",
      "Epoch 00006: early stopping\n"
     ]
    }
   ],
   "source": [
    "# MAKE SURE TO CHANGE THE FILE NAME WITH EACH ONE OR YOU'LL OVERWRITE DATA\n",
    "checkpointer = ModelCheckpoint(filepath=\"dnn/sigmoid_adam_model_CNN.hdf5\", verbose=0, save_best_only=True)\n",
    "\n",
    "# Run model training multiple times to jump out of local optimum \n",
    "for i in range(3):\n",
    "    print('\\nRun: ', i + 1)\n",
    "    \n",
    "    sigmoid_adam_model_CNN = Sequential()\n",
    "    \n",
    "    sigmoid_adam_model_CNN.add(Conv2D(32, kernel_size=(1, 5), strides=(1, 1), activation='sigmoid', padding='same', input_shape=input_shape))\n",
    "    sigmoid_adam_model_CNN.add(MaxPooling2D(pool_size=(1, 2), strides=(2, 2)))\n",
    "    sigmoid_adam_model_CNN.add(Conv2D(64, kernel_size=(1, 5), strides=(1, 1), activation='sigmoid', padding='same', input_shape=input_shape))\n",
    "    sigmoid_adam_model_CNN.add(MaxPooling2D(pool_size=(1, 2), strides=(2, 2)))\n",
    "    sigmoid_adam_model_CNN.add(Flatten())\n",
    "    sigmoid_adam_model_CNN.add(Dense(1000, activation='sigmoid'))\n",
    "    sigmoid_adam_model_CNN.add(Dropout(0.25))\n",
    "    sigmoid_adam_model_CNN.add(Dense(y_train.shape[1], activation='softmax'))\n",
    "\n",
    "    sigmoid_adam_model_CNN.compile(loss='categorical_crossentropy', optimizer='adam')\n",
    "\n",
    "    monitor = EarlyStopping(monitor='val_loss', min_delta=1e-3, patience=5, verbose=1, mode='auto')\n",
    "\n",
    "    sigmoid_adam_model_CNN.fit(x_train_cnn,y_train, validation_data=(x_test_cnn,y_test), callbacks=[monitor,checkpointer],verbose=2,epochs=600)"
   ]
  },
  {
   "cell_type": "code",
   "execution_count": 21,
   "id": "05e42c41",
   "metadata": {},
   "outputs": [
    {
     "name": "stdout",
     "output_type": "stream",
     "text": [
      "Model: \"sequential_1\"\n",
      "_________________________________________________________________\n",
      "Layer (type)                 Output Shape              Param #   \n",
      "=================================================================\n",
      "conv2d_2 (Conv2D)            (None, 1, 10, 32)         192       \n",
      "_________________________________________________________________\n",
      "max_pooling2d_2 (MaxPooling2 (None, 1, 5, 32)          0         \n",
      "_________________________________________________________________\n",
      "conv2d_3 (Conv2D)            (None, 1, 5, 64)          10304     \n",
      "_________________________________________________________________\n",
      "max_pooling2d_3 (MaxPooling2 (None, 1, 2, 64)          0         \n",
      "_________________________________________________________________\n",
      "flatten_1 (Flatten)          (None, 128)               0         \n",
      "_________________________________________________________________\n",
      "dense_2 (Dense)              (None, 1000)              129000    \n",
      "_________________________________________________________________\n",
      "dropout_1 (Dropout)          (None, 1000)              0         \n",
      "_________________________________________________________________\n",
      "dense_3 (Dense)              (None, 2)                 2002      \n",
      "=================================================================\n",
      "Total params: 141,498\n",
      "Trainable params: 141,498\n",
      "Non-trainable params: 0\n",
      "_________________________________________________________________\n"
     ]
    }
   ],
   "source": [
    "sigmoid_adam_model_CNN.summary()"
   ]
  },
  {
   "cell_type": "markdown",
   "id": "79d7aba3",
   "metadata": {},
   "source": [
    "# \n",
    "### (Sigmoid + SGD + 2 Convolution Layers with 32 and 64 kernals + Kernal Size: 1x5)"
   ]
  },
  {
   "cell_type": "code",
   "execution_count": 21,
   "id": "19f61848",
   "metadata": {
    "scrolled": true
   },
   "outputs": [
    {
     "name": "stdout",
     "output_type": "stream",
     "text": [
      "\n",
      "Run:  1\n",
      "Epoch 1/600\n",
      "159066/159066 - 444s - loss: 0.0101 - val_loss: 0.0098\n",
      "Epoch 2/600\n",
      "159066/159066 - 421s - loss: 0.0100 - val_loss: 0.0098\n",
      "Epoch 3/600\n",
      "159066/159066 - 423s - loss: 0.0100 - val_loss: 0.0098\n",
      "Epoch 4/600\n",
      "159066/159066 - 446s - loss: 0.0100 - val_loss: 0.0098\n",
      "Epoch 5/600\n",
      "159066/159066 - 435s - loss: 0.0100 - val_loss: 0.0097\n",
      "Epoch 6/600\n",
      "159066/159066 - 423s - loss: 0.0100 - val_loss: 0.0098\n",
      "Epoch 00006: early stopping\n",
      "\n",
      "Run:  2\n",
      "Epoch 1/600\n",
      "159066/159066 - 471s - loss: 0.0101 - val_loss: 0.0099\n",
      "Epoch 2/600\n",
      "159066/159066 - 452s - loss: 0.0100 - val_loss: 0.0098\n",
      "Epoch 3/600\n",
      "159066/159066 - 435s - loss: 0.0100 - val_loss: 0.0098\n",
      "Epoch 4/600\n",
      "159066/159066 - 440s - loss: 0.0100 - val_loss: 0.0098\n",
      "Epoch 5/600\n",
      "159066/159066 - 480s - loss: 0.0100 - val_loss: 0.0099\n",
      "Epoch 6/600\n",
      "159066/159066 - 460s - loss: 0.0100 - val_loss: 0.0098\n",
      "Epoch 00006: early stopping\n",
      "\n",
      "Run:  3\n",
      "Epoch 1/600\n",
      "159066/159066 - 435s - loss: 0.0101 - val_loss: 0.0098\n",
      "Epoch 2/600\n",
      "159066/159066 - 450s - loss: 0.0100 - val_loss: 0.0098\n",
      "Epoch 3/600\n",
      "159066/159066 - 437s - loss: 0.0100 - val_loss: 0.0099\n",
      "Epoch 4/600\n",
      "159066/159066 - 407s - loss: 0.0100 - val_loss: 0.0099\n",
      "Epoch 5/600\n",
      "159066/159066 - 429s - loss: 0.0100 - val_loss: 0.0097\n",
      "Epoch 6/600\n",
      "159066/159066 - 437s - loss: 0.0100 - val_loss: 0.0098\n",
      "Epoch 00006: early stopping\n"
     ]
    }
   ],
   "source": [
    "# MAKE SURE TO CHANGE THE FILE NAME WITH EACH ONE OR YOU'LL OVERWRITE DATA\n",
    "checkpointer = ModelCheckpoint(filepath=\"dnn/sigmoid_sgd_model_CNN.hdf5\", verbose=0, save_best_only=True)\n",
    "\n",
    "# Run model training multiple times to jump out of local optimum \n",
    "for i in range(3):\n",
    "    print('\\nRun: ', i + 1)\n",
    "    \n",
    "    sigmoid_sgd_model_CNN = Sequential()\n",
    "    \n",
    "    sigmoid_sgd_model_CNN.add(Conv2D(32, kernel_size=(1, 5), strides=(1, 1), activation='sigmoid', padding='same', input_shape=input_shape))\n",
    "    sigmoid_sgd_model_CNN.add(MaxPooling2D(pool_size=(1, 2), strides=(2, 2)))\n",
    "    sigmoid_sgd_model_CNN.add(Conv2D(64, kernel_size=(1, 5), strides=(1, 1), activation='sigmoid', padding='same', input_shape=input_shape))\n",
    "    sigmoid_sgd_model_CNN.add(MaxPooling2D(pool_size=(1, 2), strides=(2, 2)))\n",
    "    sigmoid_sgd_model_CNN.add(Flatten())\n",
    "    sigmoid_sgd_model_CNN.add(Dense(1000, activation='sigmoid'))\n",
    "    sigmoid_sgd_model_CNN.add(Dropout(0.25))\n",
    "    sigmoid_sgd_model_CNN.add(Dense(y_train.shape[1], activation='softmax'))\n",
    "\n",
    "    sigmoid_sgd_model_CNN.compile(loss='categorical_crossentropy', optimizer='sgd')\n",
    "\n",
    "    monitor = EarlyStopping(monitor='val_loss', min_delta=1e-3, patience=5, verbose=1, mode='auto')\n",
    "\n",
    "    sigmoid_sgd_model_CNN.fit(x_train_cnn,y_train, validation_data=(x_test_cnn,y_test), callbacks=[monitor,checkpointer],verbose=2,epochs=600)"
   ]
  },
  {
   "cell_type": "code",
   "execution_count": 22,
   "id": "6c62793c",
   "metadata": {},
   "outputs": [
    {
     "name": "stdout",
     "output_type": "stream",
     "text": [
      "Model: \"sequential_12\"\n",
      "_________________________________________________________________\n",
      "Layer (type)                 Output Shape              Param #   \n",
      "=================================================================\n",
      "conv2d_16 (Conv2D)           (None, 1, 10, 32)         192       \n",
      "_________________________________________________________________\n",
      "max_pooling2d_16 (MaxPooling (None, 1, 5, 32)          0         \n",
      "_________________________________________________________________\n",
      "conv2d_17 (Conv2D)           (None, 1, 5, 64)          10304     \n",
      "_________________________________________________________________\n",
      "max_pooling2d_17 (MaxPooling (None, 1, 2, 64)          0         \n",
      "_________________________________________________________________\n",
      "flatten_8 (Flatten)          (None, 128)               0         \n",
      "_________________________________________________________________\n",
      "dense_28 (Dense)             (None, 1000)              129000    \n",
      "_________________________________________________________________\n",
      "dropout_8 (Dropout)          (None, 1000)              0         \n",
      "_________________________________________________________________\n",
      "dense_29 (Dense)             (None, 2)                 2002      \n",
      "=================================================================\n",
      "Total params: 141,498\n",
      "Trainable params: 141,498\n",
      "Non-trainable params: 0\n",
      "_________________________________________________________________\n"
     ]
    }
   ],
   "source": [
    "sigmoid_sgd_model_CNN.summary()"
   ]
  },
  {
   "cell_type": "markdown",
   "id": "b4bdce19",
   "metadata": {},
   "source": [
    "# \n",
    "### (Tanh + Adam + 2 Convolution Layers with 32 and 64 kernals + Kernal Size: 1x5)"
   ]
  },
  {
   "cell_type": "code",
   "execution_count": 17,
   "id": "b45f3da2",
   "metadata": {
    "scrolled": true
   },
   "outputs": [
    {
     "name": "stdout",
     "output_type": "stream",
     "text": [
      "\n",
      "Run:  1\n",
      "Epoch 1/600\n",
      "159066/159066 - 522s - loss: 0.0045 - val_loss: 0.0050\n",
      "Epoch 2/600\n",
      "159066/159066 - 503s - loss: 0.0037 - val_loss: 0.0028\n",
      "Epoch 3/600\n",
      "159066/159066 - 473s - loss: 0.0035 - val_loss: 0.0034\n",
      "Epoch 4/600\n",
      "159066/159066 - 490s - loss: 0.0034 - val_loss: 0.0033\n",
      "Epoch 5/600\n",
      "159066/159066 - 428s - loss: 0.0033 - val_loss: 0.0033\n",
      "Epoch 6/600\n",
      "159066/159066 - 485s - loss: 0.0033 - val_loss: 0.0036\n",
      "Epoch 7/600\n",
      "159066/159066 - 522s - loss: 0.0033 - val_loss: 0.0029\n",
      "Epoch 00007: early stopping\n",
      "\n",
      "Run:  2\n",
      "Epoch 1/600\n",
      "159066/159066 - 493s - loss: 0.0044 - val_loss: 0.0036\n",
      "Epoch 2/600\n",
      "159066/159066 - 426s - loss: 0.0037 - val_loss: 0.0046\n",
      "Epoch 3/600\n",
      "159066/159066 - 415s - loss: 0.0036 - val_loss: 0.0030\n",
      "Epoch 4/600\n",
      "159066/159066 - 421s - loss: 0.0035 - val_loss: 0.0031\n",
      "Epoch 5/600\n",
      "159066/159066 - 430s - loss: 0.0035 - val_loss: 0.0028\n",
      "Epoch 6/600\n",
      "159066/159066 - 449s - loss: 0.0034 - val_loss: 0.0026\n",
      "Epoch 00006: early stopping\n",
      "\n",
      "Run:  3\n",
      "Epoch 1/600\n",
      "159066/159066 - 457s - loss: 0.0044 - val_loss: 0.0033\n",
      "Epoch 2/600\n",
      "159066/159066 - 438s - loss: 0.0037 - val_loss: 0.0031\n",
      "Epoch 3/600\n",
      "159066/159066 - 444s - loss: 0.0035 - val_loss: 0.0027\n",
      "Epoch 4/600\n",
      "159066/159066 - 434s - loss: 0.0034 - val_loss: 0.0031\n",
      "Epoch 5/600\n",
      "159066/159066 - 447s - loss: 0.0034 - val_loss: 0.0033\n",
      "Epoch 6/600\n",
      "159066/159066 - 427s - loss: 0.0033 - val_loss: 0.0060\n",
      "Epoch 00006: early stopping\n"
     ]
    }
   ],
   "source": [
    "# MAKE SURE TO CHANGE THE FILE NAME WITH EACH ONE OR YOU'LL OVERWRITE DATA\n",
    "checkpointer = ModelCheckpoint(filepath=\"dnn/tanh_adam_model_CNN.hdf5\", verbose=0, save_best_only=True)\n",
    "\n",
    "# Run model training multiple times to jump out of local optimum \n",
    "for i in range(3):\n",
    "    print('\\nRun: ', i + 1)\n",
    "    \n",
    "    tanh_adam_model_CNN = Sequential()\n",
    "    \n",
    "    tanh_adam_model_CNN.add(Conv2D(32, kernel_size=(1, 5), strides=(1, 1), activation='tanh', padding='same', input_shape=input_shape))\n",
    "    tanh_adam_model_CNN.add(MaxPooling2D(pool_size=(1, 2), strides=(2, 2)))\n",
    "    tanh_adam_model_CNN.add(Conv2D(64, kernel_size=(1, 5), strides=(1, 1), activation='tanh', padding='same', input_shape=input_shape))\n",
    "    tanh_adam_model_CNN.add(MaxPooling2D(pool_size=(1, 2), strides=(2, 2)))\n",
    "    tanh_adam_model_CNN.add(Flatten())\n",
    "    tanh_adam_model_CNN.add(Dense(1000, activation='tanh'))\n",
    "    tanh_adam_model_CNN.add(Dropout(0.25))\n",
    "    tanh_adam_model_CNN.add(Dense(y_train.shape[1], activation='softmax'))\n",
    "\n",
    "    tanh_adam_model_CNN.compile(loss='categorical_crossentropy', optimizer='adam')\n",
    "\n",
    "    monitor = EarlyStopping(monitor='val_loss', min_delta=1e-3, patience=5, verbose=1, mode='auto')\n",
    "\n",
    "    tanh_adam_model_CNN.fit(x_train_cnn,y_train, validation_data=(x_test_cnn,y_test), callbacks=[monitor,checkpointer],verbose=2,epochs=600)"
   ]
  },
  {
   "cell_type": "code",
   "execution_count": 18,
   "id": "91130581",
   "metadata": {},
   "outputs": [
    {
     "name": "stdout",
     "output_type": "stream",
     "text": [
      "Model: \"sequential_6\"\n",
      "_________________________________________________________________\n",
      "Layer (type)                 Output Shape              Param #   \n",
      "=================================================================\n",
      "conv2d_4 (Conv2D)            (None, 1, 10, 32)         192       \n",
      "_________________________________________________________________\n",
      "max_pooling2d_4 (MaxPooling2 (None, 1, 5, 32)          0         \n",
      "_________________________________________________________________\n",
      "conv2d_5 (Conv2D)            (None, 1, 5, 64)          10304     \n",
      "_________________________________________________________________\n",
      "max_pooling2d_5 (MaxPooling2 (None, 1, 2, 64)          0         \n",
      "_________________________________________________________________\n",
      "flatten_2 (Flatten)          (None, 128)               0         \n",
      "_________________________________________________________________\n",
      "dense_16 (Dense)             (None, 1000)              129000    \n",
      "_________________________________________________________________\n",
      "dropout_2 (Dropout)          (None, 1000)              0         \n",
      "_________________________________________________________________\n",
      "dense_17 (Dense)             (None, 2)                 2002      \n",
      "=================================================================\n",
      "Total params: 141,498\n",
      "Trainable params: 141,498\n",
      "Non-trainable params: 0\n",
      "_________________________________________________________________\n"
     ]
    }
   ],
   "source": [
    "tanh_adam_model_CNN.summary()"
   ]
  },
  {
   "cell_type": "markdown",
   "id": "82924cb0",
   "metadata": {},
   "source": [
    "# \n",
    "### (Tanh + SGD + 2 Convolution Layers with 32 and 64 kernals + Kernal Size: 1x5)"
   ]
  },
  {
   "cell_type": "code",
   "execution_count": 19,
   "id": "4d0d1d41",
   "metadata": {
    "scrolled": true
   },
   "outputs": [
    {
     "name": "stdout",
     "output_type": "stream",
     "text": [
      "\n",
      "Run:  1\n",
      "Epoch 1/600\n",
      "159066/159066 - 414s - loss: 0.0065 - val_loss: 0.0049\n",
      "Epoch 2/600\n",
      "159066/159066 - 440s - loss: 0.0045 - val_loss: 0.0043\n",
      "Epoch 3/600\n",
      "159066/159066 - 448s - loss: 0.0041 - val_loss: 0.0038\n",
      "Epoch 4/600\n",
      "159066/159066 - 431s - loss: 0.0038 - val_loss: 0.0036\n",
      "Epoch 5/600\n",
      "159066/159066 - 426s - loss: 0.0036 - val_loss: 0.0033\n",
      "Epoch 6/600\n",
      "159066/159066 - 461s - loss: 0.0034 - val_loss: 0.0032\n",
      "Epoch 7/600\n",
      "159066/159066 - 418s - loss: 0.0033 - val_loss: 0.0030\n",
      "Epoch 8/600\n",
      "159066/159066 - 396s - loss: 0.0032 - val_loss: 0.0029\n",
      "Epoch 00008: early stopping\n",
      "\n",
      "Run:  2\n",
      "Epoch 1/600\n",
      "159066/159066 - 395s - loss: 0.0068 - val_loss: 0.0050\n",
      "Epoch 2/600\n",
      "159066/159066 - 396s - loss: 0.0046 - val_loss: 0.0042\n",
      "Epoch 3/600\n",
      "159066/159066 - 409s - loss: 0.0041 - val_loss: 0.0039\n",
      "Epoch 4/600\n",
      "159066/159066 - 497s - loss: 0.0039 - val_loss: 0.0037\n",
      "Epoch 5/600\n",
      "159066/159066 - 430s - loss: 0.0036 - val_loss: 0.0037\n",
      "Epoch 6/600\n",
      "159066/159066 - 419s - loss: 0.0035 - val_loss: 0.0034\n",
      "Epoch 7/600\n",
      "159066/159066 - 413s - loss: 0.0033 - val_loss: 0.0031\n",
      "Epoch 8/600\n",
      "159066/159066 - 406s - loss: 0.0032 - val_loss: 0.0029\n",
      "Epoch 00008: early stopping\n",
      "\n",
      "Run:  3\n",
      "Epoch 1/600\n",
      "159066/159066 - 478s - loss: 0.0066 - val_loss: 0.0049\n",
      "Epoch 2/600\n",
      "159066/159066 - 496s - loss: 0.0046 - val_loss: 0.0043\n",
      "Epoch 3/600\n",
      "159066/159066 - 507s - loss: 0.0041 - val_loss: 0.0038\n",
      "Epoch 4/600\n",
      "159066/159066 - 506s - loss: 0.0038 - val_loss: 0.0035\n",
      "Epoch 5/600\n",
      "159066/159066 - 505s - loss: 0.0036 - val_loss: 0.0033\n",
      "Epoch 6/600\n",
      "159066/159066 - 481s - loss: 0.0035 - val_loss: 0.0036\n",
      "Epoch 7/600\n",
      "159066/159066 - 477s - loss: 0.0033 - val_loss: 0.0031\n",
      "Epoch 8/600\n",
      "159066/159066 - 406s - loss: 0.0032 - val_loss: 0.0032\n",
      "Epoch 00008: early stopping\n"
     ]
    }
   ],
   "source": [
    "# MAKE SURE TO CHANGE THE FILE NAME WITH EACH ONE OR YOU'LL OVERWRITE DATA\n",
    "checkpointer = ModelCheckpoint(filepath=\"dnn/tanh_sgd_model_CNN.hdf5\", verbose=0, save_best_only=True)\n",
    "\n",
    "# Run model training multiple times to jump out of local optimum \n",
    "for i in range(3):\n",
    "    print('\\nRun: ', i + 1)\n",
    "    \n",
    "    tanh_sgd_model_CNN = Sequential()\n",
    "    \n",
    "    tanh_sgd_model_CNN.add(Conv2D(32, kernel_size=(1, 5), strides=(1, 1), activation='tanh', padding='same', input_shape=input_shape))\n",
    "    tanh_sgd_model_CNN.add(MaxPooling2D(pool_size=(1, 2), strides=(2, 2)))\n",
    "    tanh_sgd_model_CNN.add(Conv2D(64, kernel_size=(1, 5), strides=(1, 1), activation='tanh', padding='same', input_shape=input_shape))\n",
    "    tanh_sgd_model_CNN.add(MaxPooling2D(pool_size=(1, 2), strides=(2, 2)))\n",
    "    tanh_sgd_model_CNN.add(Flatten())\n",
    "    tanh_sgd_model_CNN.add(Dense(1000, activation='tanh'))\n",
    "    tanh_sgd_model_CNN.add(Dropout(0.25))\n",
    "    tanh_sgd_model_CNN.add(Dense(y_train.shape[1], activation='softmax'))\n",
    "\n",
    "    tanh_sgd_model_CNN.compile(loss='categorical_crossentropy', optimizer='sgd')\n",
    "\n",
    "    monitor = EarlyStopping(monitor='val_loss', min_delta=1e-3, patience=5, verbose=1, mode='auto')\n",
    "\n",
    "    tanh_sgd_model_CNN.fit(x_train_cnn,y_train, validation_data=(x_test_cnn,y_test), callbacks=[monitor,checkpointer],verbose=2,epochs=600)"
   ]
  },
  {
   "cell_type": "code",
   "execution_count": 20,
   "id": "5e808d99",
   "metadata": {},
   "outputs": [
    {
     "name": "stdout",
     "output_type": "stream",
     "text": [
      "Model: \"sequential_9\"\n",
      "_________________________________________________________________\n",
      "Layer (type)                 Output Shape              Param #   \n",
      "=================================================================\n",
      "conv2d_10 (Conv2D)           (None, 1, 10, 32)         192       \n",
      "_________________________________________________________________\n",
      "max_pooling2d_10 (MaxPooling (None, 1, 5, 32)          0         \n",
      "_________________________________________________________________\n",
      "conv2d_11 (Conv2D)           (None, 1, 5, 64)          10304     \n",
      "_________________________________________________________________\n",
      "max_pooling2d_11 (MaxPooling (None, 1, 2, 64)          0         \n",
      "_________________________________________________________________\n",
      "flatten_5 (Flatten)          (None, 128)               0         \n",
      "_________________________________________________________________\n",
      "dense_22 (Dense)             (None, 1000)              129000    \n",
      "_________________________________________________________________\n",
      "dropout_5 (Dropout)          (None, 1000)              0         \n",
      "_________________________________________________________________\n",
      "dense_23 (Dense)             (None, 2)                 2002      \n",
      "=================================================================\n",
      "Total params: 141,498\n",
      "Trainable params: 141,498\n",
      "Non-trainable params: 0\n",
      "_________________________________________________________________\n"
     ]
    }
   ],
   "source": [
    "tanh_sgd_model_CNN.summary()"
   ]
  },
  {
   "cell_type": "markdown",
   "id": "33c38b23",
   "metadata": {},
   "source": [
    "# \n",
    "### (Relu + Adam + 1 Convolution Layers with 64 kernals + Kernal Size: 1x3)"
   ]
  },
  {
   "cell_type": "code",
   "execution_count": 9,
   "id": "e0dbcfd0",
   "metadata": {
    "scrolled": true
   },
   "outputs": [
    {
     "name": "stdout",
     "output_type": "stream",
     "text": [
      "\n",
      "Run:  1\n",
      "Epoch 1/600\n",
      "159066/159066 - 339s - loss: 0.0039 - val_loss: 0.0027\n",
      "Epoch 2/600\n",
      "159066/159066 - 324s - loss: 0.0033 - val_loss: 0.0034\n",
      "Epoch 3/600\n",
      "159066/159066 - 322s - loss: 0.0031 - val_loss: 0.0029\n",
      "Epoch 4/600\n",
      "159066/159066 - 327s - loss: 0.0032 - val_loss: 0.0031\n",
      "Epoch 5/600\n",
      "159066/159066 - 330s - loss: 0.0031 - val_loss: 0.0025\n",
      "Epoch 6/600\n",
      "159066/159066 - 326s - loss: 0.0031 - val_loss: 0.0027\n",
      "Epoch 00006: early stopping\n",
      "\n",
      "Run:  2\n",
      "Epoch 1/600\n",
      "159066/159066 - 336s - loss: 0.0040 - val_loss: 0.0032\n",
      "Epoch 2/600\n",
      "159066/159066 - 337s - loss: 0.0033 - val_loss: 0.0029\n",
      "Epoch 3/600\n",
      "159066/159066 - 336s - loss: 0.0032 - val_loss: 0.0028\n",
      "Epoch 4/600\n",
      "159066/159066 - 331s - loss: 0.0032 - val_loss: 0.0028\n",
      "Epoch 5/600\n",
      "159066/159066 - 331s - loss: 0.0031 - val_loss: 0.0027\n",
      "Epoch 6/600\n",
      "159066/159066 - 330s - loss: 0.0031 - val_loss: 0.0031\n",
      "Epoch 00006: early stopping\n",
      "\n",
      "Run:  3\n",
      "Epoch 1/600\n",
      "159066/159066 - 323s - loss: 0.0040 - val_loss: 0.0029\n",
      "Epoch 2/600\n",
      "159066/159066 - 326s - loss: 0.0033 - val_loss: 0.0029\n",
      "Epoch 3/600\n",
      "159066/159066 - 327s - loss: 0.0032 - val_loss: 0.0044\n",
      "Epoch 4/600\n",
      "159066/159066 - 326s - loss: 0.0031 - val_loss: 0.0025\n",
      "Epoch 5/600\n",
      "159066/159066 - 323s - loss: 0.0030 - val_loss: 0.0031\n",
      "Epoch 6/600\n",
      "159066/159066 - 324s - loss: 0.0031 - val_loss: 0.0032\n",
      "Epoch 00006: early stopping\n"
     ]
    }
   ],
   "source": [
    "# MAKE SURE TO CHANGE THE FILE NAME WITH EACH ONE OR YOU'LL OVERWRITE DATA\n",
    "checkpointer = ModelCheckpoint(filepath=\"dnn/relu_adam_model_diff_CNN.hdf5\", verbose=0, save_best_only=True)\n",
    "\n",
    "# Run model training multiple times to jump out of local optimum \n",
    "for i in range(3):\n",
    "    print('\\nRun: ', i + 1)\n",
    "    \n",
    "    relu_adam_model_diff_CNN = Sequential()\n",
    "    \n",
    "    relu_adam_model_diff_CNN.add(Conv2D(64, kernel_size=(1, 3), strides=(1, 1), activation='relu', padding='same', input_shape=input_shape))\n",
    "    relu_adam_model_diff_CNN.add(MaxPooling2D(pool_size=(1, 2), strides=(2, 2)))\n",
    "    relu_adam_model_diff_CNN.add(Flatten())\n",
    "    relu_adam_model_diff_CNN.add(Dense(1000, activation='relu'))\n",
    "    relu_adam_model_diff_CNN.add(Dropout(0.25))\n",
    "    relu_adam_model_diff_CNN.add(Dense(y_train.shape[1], activation='softmax'))\n",
    "\n",
    "    relu_adam_model_diff_CNN.compile(loss='categorical_crossentropy', optimizer='adam')\n",
    "\n",
    "    monitor = EarlyStopping(monitor='val_loss', min_delta=1e-3, patience=5, verbose=1, mode='auto')\n",
    "\n",
    "    relu_adam_model_diff_CNN.fit(x_train_cnn,y_train, validation_data=(x_test_cnn,y_test), callbacks=[monitor,checkpointer],verbose=2,epochs=600)"
   ]
  },
  {
   "cell_type": "code",
   "execution_count": 22,
   "id": "642dc51c",
   "metadata": {
    "scrolled": false
   },
   "outputs": [
    {
     "name": "stdout",
     "output_type": "stream",
     "text": [
      "Model: \"sequential_3\"\n",
      "_________________________________________________________________\n",
      "Layer (type)                 Output Shape              Param #   \n",
      "=================================================================\n",
      "conv2d (Conv2D)              (None, 1, 10, 64)         256       \n",
      "_________________________________________________________________\n",
      "max_pooling2d (MaxPooling2D) (None, 1, 5, 64)          0         \n",
      "_________________________________________________________________\n",
      "flatten (Flatten)            (None, 320)               0         \n",
      "_________________________________________________________________\n",
      "dense_9 (Dense)              (None, 1000)              321000    \n",
      "_________________________________________________________________\n",
      "dropout (Dropout)            (None, 1000)              0         \n",
      "_________________________________________________________________\n",
      "dense_10 (Dense)             (None, 2)                 2002      \n",
      "=================================================================\n",
      "Total params: 323,258\n",
      "Trainable params: 323,258\n",
      "Non-trainable params: 0\n",
      "_________________________________________________________________\n"
     ]
    }
   ],
   "source": [
    "relu_adam_model_diff_CNN.summary()"
   ]
  },
  {
   "cell_type": "markdown",
   "id": "7bef3f5f",
   "metadata": {},
   "source": [
    "# \n",
    "# Precision, Recall, and F1 Scores (and Accuracy) "
   ]
  },
  {
   "cell_type": "markdown",
   "id": "0778c2bc",
   "metadata": {},
   "source": [
    "### Load Results"
   ]
  },
  {
   "cell_type": "code",
   "execution_count": 14,
   "id": "cd143aed",
   "metadata": {},
   "outputs": [],
   "source": [
    "from tensorflow.keras.models import load_model\n",
    "\n",
    "# FCC Models\n",
    "relu_adam_model_FC = load_model('dnn/relu_adam_model_FC.hdf5')\n",
    "sigmoid_adam_model_FC = load_model('dnn/sigmoid_adam_model_FC.hdf5')\n",
    "tanh_adam_model_FC = load_model('dnn/tanh_adam_model_FC.hdf5')\n",
    "\n",
    "# CNN Models\n",
    "relu_adam_model_diff_CNN = load_model('dnn/relu_adam_model_diff_CNN.hdf5')\n",
    "relu_adam_model_CNN = load_model('dnn/relu_adam_model_CNN.hdf5')\n",
    "relu_sgd_model_CNN = load_model('dnn/relu_sgd_model_CNN.hdf5')\n",
    "sigmoid_adam_model_CNN = load_model('dnn/sigmoid_adam_model_CNN.hdf5')\n",
    "sigmoid_sgd_model_CNN = load_model('dnn/sigmoid_sgd_model_CNN.hdf5')\n",
    "tanh_adam_model_CNN = load_model('dnn/tanh_adam_model_CNN.hdf5')\n",
    "tanh_sgd_model_CNN = load_model('dnn/tanh_sgd_model_CNN.hdf5')"
   ]
  },
  {
   "cell_type": "code",
   "execution_count": 15,
   "id": "4ffb5afc",
   "metadata": {},
   "outputs": [],
   "source": [
    "# y_true is used in all the calculations so its declare up here\n",
    "y_true = np.argmax(y_test, axis=1)"
   ]
  },
  {
   "cell_type": "markdown",
   "id": "9ea2f13b",
   "metadata": {},
   "source": [
    "# \n",
    "### (Relu + Adam + Fully Connected)"
   ]
  },
  {
   "cell_type": "code",
   "execution_count": 16,
   "id": "ad20c1ed",
   "metadata": {
    "scrolled": false
   },
   "outputs": [
    {
     "name": "stdout",
     "output_type": "stream",
     "text": [
      "Accuracy: 0.9994011900757864\n",
      "Precision: 0.999356814889018\n",
      "Recall: 0.9994011900757864\n",
      "F1 Score: 0.9993432243834268\n",
      "\n",
      "\n",
      "              precision    recall  f1-score   support\n",
      "\n",
      "           0       1.00      1.00      1.00   1270904\n",
      "           1       0.89      0.60      0.72      1620\n",
      "\n",
      "    accuracy                           1.00   1272524\n",
      "   macro avg       0.95      0.80      0.86   1272524\n",
      "weighted avg       1.00      1.00      1.00   1272524\n",
      "\n"
     ]
    }
   ],
   "source": [
    "relu_adam_model_FC_pred = relu_adam_model_FC.predict(x_test)\n",
    "relu_adam_model_FC_pred = np.argmax(relu_adam_model_FC_pred, axis=1)\n",
    "\n",
    "relu_adam_model_FC_acc = metrics.accuracy_score(y_true, relu_adam_model_FC_pred)\n",
    "relu_adam_model_FC_prec = metrics.precision_score(y_true, relu_adam_model_FC_pred, average= \"weighted\")\n",
    "relu_adam_model_FC_recall = metrics.recall_score(y_true, relu_adam_model_FC_pred, average= \"weighted\")\n",
    "relu_adam_model_FC_f1 = metrics.f1_score(y_true, relu_adam_model_FC_pred, average= \"weighted\")\n",
    "\n",
    "print('Accuracy: {}'.format(relu_adam_model_FC_acc))\n",
    "print('Precision: {}'.format(relu_adam_model_FC_prec))\n",
    "print('Recall: {}'.format(relu_adam_model_FC_recall))\n",
    "print('F1 Score: {}'.format(relu_adam_model_FC_f1))\n",
    "print(\"\\n\");\n",
    "print(metrics.classification_report(y_true, relu_adam_model_FC_pred))"
   ]
  },
  {
   "cell_type": "markdown",
   "id": "929a2926",
   "metadata": {},
   "source": [
    "# \n",
    "### (Sigmoid + Adam + Fully Connected)"
   ]
  },
  {
   "cell_type": "code",
   "execution_count": 17,
   "id": "2678f60f",
   "metadata": {
    "scrolled": true
   },
   "outputs": [
    {
     "name": "stdout",
     "output_type": "stream",
     "text": [
      "Accuracy: 0.9993414662513241\n",
      "Precision: 0.9992922653178324\n",
      "Recall: 0.9993414662513241\n",
      "F1 Score: 0.9992589158873172\n",
      "\n",
      "\n",
      "              precision    recall  f1-score   support\n",
      "\n",
      "           0       1.00      1.00      1.00   1270904\n",
      "           1       0.89      0.60      0.72      1620\n",
      "\n",
      "    accuracy                           1.00   1272524\n",
      "   macro avg       0.95      0.80      0.86   1272524\n",
      "weighted avg       1.00      1.00      1.00   1272524\n",
      "\n"
     ]
    }
   ],
   "source": [
    "sigmoid_adam_model_FC_pred = sigmoid_adam_model_FC.predict(x_test)\n",
    "sigmoid_adam_model_FC_pred = np.argmax(sigmoid_adam_model_FC_pred, axis=1)\n",
    "\n",
    "sigmoid_adam_model_FC_acc = metrics.accuracy_score(y_true, sigmoid_adam_model_FC_pred)\n",
    "sigmoid_adam_model_FC_prec = metrics.precision_score(y_true, sigmoid_adam_model_FC_pred, average= \"weighted\")\n",
    "sigmoid_adam_model_FC_recall = metrics.recall_score(y_true, sigmoid_adam_model_FC_pred, average= \"weighted\")\n",
    "sigmoid_adam_model_FC_f1 = metrics.f1_score(y_true, sigmoid_adam_model_FC_pred, average= \"weighted\")\n",
    "\n",
    "print('Accuracy: {}'.format(sigmoid_adam_model_FC_acc))\n",
    "print('Precision: {}'.format(sigmoid_adam_model_FC_prec))\n",
    "print('Recall: {}'.format(sigmoid_adam_model_FC_recall))\n",
    "print('F1 Score: {}'.format(sigmoid_adam_model_FC_f1))\n",
    "print(\"\\n\");\n",
    "print(metrics.classification_report(y_true, relu_adam_model_FC_pred))"
   ]
  },
  {
   "cell_type": "markdown",
   "id": "a0975ffe",
   "metadata": {},
   "source": [
    "# \n",
    "### (Tanh + Adam + Fully Connected)"
   ]
  },
  {
   "cell_type": "code",
   "execution_count": 18,
   "id": "85f10f21",
   "metadata": {
    "scrolled": true
   },
   "outputs": [
    {
     "name": "stdout",
     "output_type": "stream",
     "text": [
      "Accuracy: 0.9993713281635552\n",
      "Precision: 0.9993186199232388\n",
      "Recall: 0.9993713281635552\n",
      "F1 Score: 0.9993161853272381\n",
      "\n",
      "\n",
      "              precision    recall  f1-score   support\n",
      "\n",
      "           0       1.00      1.00      1.00   1270904\n",
      "           1       0.89      0.60      0.72      1620\n",
      "\n",
      "    accuracy                           1.00   1272524\n",
      "   macro avg       0.95      0.80      0.86   1272524\n",
      "weighted avg       1.00      1.00      1.00   1272524\n",
      "\n"
     ]
    }
   ],
   "source": [
    "tanh_adam_model_FC_pred = tanh_adam_model_FC.predict(x_test)\n",
    "tanh_adam_model_FC_pred = np.argmax(tanh_adam_model_FC_pred, axis=1)\n",
    "\n",
    "tanh_adam_model_FC_acc = metrics.accuracy_score(y_true, tanh_adam_model_FC_pred)\n",
    "tanh_adam_model_FC_prec = metrics.precision_score(y_true, tanh_adam_model_FC_pred, average= \"weighted\")\n",
    "tanh_adam_model_FC_recall = metrics.recall_score(y_true, tanh_adam_model_FC_pred, average= \"weighted\")\n",
    "tanh_adam_model_FC_f1 = metrics.f1_score(y_true, tanh_adam_model_FC_pred, average= \"weighted\")\n",
    "\n",
    "print('Accuracy: {}'.format(tanh_adam_model_FC_acc))\n",
    "print('Precision: {}'.format(tanh_adam_model_FC_prec))\n",
    "print('Recall: {}'.format(tanh_adam_model_FC_recall))\n",
    "print('F1 Score: {}'.format(tanh_adam_model_FC_f1))\n",
    "print(\"\\n\");\n",
    "print(metrics.classification_report(y_true, relu_adam_model_FC_pred))"
   ]
  },
  {
   "cell_type": "markdown",
   "id": "b9d3ea87",
   "metadata": {},
   "source": [
    "# \n",
    "### (Relu + Adam + 1 Convolution Layers with 64 kernals + Kernal Size: 1x5)"
   ]
  },
  {
   "cell_type": "code",
   "execution_count": 19,
   "id": "72cd3868",
   "metadata": {
    "scrolled": true
   },
   "outputs": [
    {
     "name": "stdout",
     "output_type": "stream",
     "text": [
      "Accuracy: 0.9993194627370485\n",
      "Precision: 0.9992914441647655\n",
      "Recall: 0.9993194627370485\n",
      "F1 Score: 0.9992098491874867\n",
      "\n",
      "\n",
      "              precision    recall  f1-score   support\n",
      "\n",
      "           0       1.00      1.00      1.00   1270904\n",
      "           1       0.95      0.49      0.65      1620\n",
      "\n",
      "    accuracy                           1.00   1272524\n",
      "   macro avg       0.98      0.74      0.82   1272524\n",
      "weighted avg       1.00      1.00      1.00   1272524\n",
      "\n"
     ]
    }
   ],
   "source": [
    "relu_adam_model_diff_CNN_pred = relu_adam_model_diff_CNN.predict(x_test_cnn)\n",
    "relu_adam_model_diff_CNN_pred = np.argmax(relu_adam_model_diff_CNN_pred, axis=1)\n",
    "\n",
    "relu_adam_model_diff_CNN_acc = metrics.accuracy_score(y_true, relu_adam_model_diff_CNN_pred)\n",
    "relu_adam_model_diff_CNN_prec = metrics.precision_score(y_true, relu_adam_model_diff_CNN_pred, average= \"weighted\")\n",
    "relu_adam_model_diff_CNN_recall = metrics.recall_score(y_true, relu_adam_model_diff_CNN_pred, average= \"weighted\")\n",
    "relu_adam_model_diff_CNN_f1 = metrics.f1_score(y_true, relu_adam_model_diff_CNN_pred, average= \"weighted\")\n",
    "\n",
    "print('Accuracy: {}'.format(relu_adam_model_diff_CNN_acc))\n",
    "print('Precision: {}'.format(relu_adam_model_diff_CNN_prec))\n",
    "print('Recall: {}'.format(relu_adam_model_diff_CNN_recall))\n",
    "print('F1 Score: {}'.format(relu_adam_model_diff_CNN_f1))\n",
    "print(\"\\n\");\n",
    "print(metrics.classification_report(y_true, relu_adam_model_diff_CNN_pred))"
   ]
  },
  {
   "cell_type": "markdown",
   "id": "859077a2",
   "metadata": {},
   "source": [
    "# \n",
    "### (Relu + Adam + 2 Convolution Layers with 32 and 64 kernals + Kernal Size: 1x5)"
   ]
  },
  {
   "cell_type": "code",
   "execution_count": 20,
   "id": "edded043",
   "metadata": {},
   "outputs": [
    {
     "name": "stdout",
     "output_type": "stream",
     "text": [
      "Accuracy: 0.9992613105921775\n",
      "Precision: 0.9992214071820857\n",
      "Recall: 0.9992613105921775\n",
      "F1 Score: 0.9991309131728321\n",
      "\n",
      "\n",
      "              precision    recall  f1-score   support\n",
      "\n",
      "           0       1.00      1.00      1.00   1270904\n",
      "           1       0.94      0.45      0.61      1620\n",
      "\n",
      "    accuracy                           1.00   1272524\n",
      "   macro avg       0.97      0.72      0.80   1272524\n",
      "weighted avg       1.00      1.00      1.00   1272524\n",
      "\n"
     ]
    }
   ],
   "source": [
    "relu_adam_model_CNN_pred = relu_adam_model_CNN.predict(x_test_cnn)\n",
    "relu_adam_model_CNN_pred = np.argmax(relu_adam_model_CNN_pred, axis=1)\n",
    "\n",
    "relu_adam_model_CNN_acc = metrics.accuracy_score(y_true, relu_adam_model_CNN_pred)\n",
    "relu_adam_model_CNN_prec = metrics.precision_score(y_true, relu_adam_model_CNN_pred, average= \"weighted\")\n",
    "relu_adam_model_CNN_recall = metrics.recall_score(y_true, relu_adam_model_CNN_pred, average= \"weighted\")\n",
    "relu_adam_model_CNN_f1 = metrics.f1_score(y_true, relu_adam_model_CNN_pred, average= \"weighted\")\n",
    "\n",
    "print('Accuracy: {}'.format(relu_adam_model_CNN_acc))\n",
    "print('Precision: {}'.format(relu_adam_model_CNN_prec))\n",
    "print('Recall: {}'.format(relu_adam_model_CNN_recall))\n",
    "print('F1 Score: {}'.format(relu_adam_model_CNN_f1))\n",
    "print(\"\\n\");\n",
    "print(metrics.classification_report(y_true, relu_adam_model_CNN_pred))"
   ]
  },
  {
   "cell_type": "markdown",
   "id": "a639b586",
   "metadata": {},
   "source": [
    "# \n",
    "### (Relu + SGD + 2 Convolution Layers with 32 and 64 kernals + Kernal Size: 1x5)"
   ]
  },
  {
   "cell_type": "code",
   "execution_count": 21,
   "id": "47046bea",
   "metadata": {},
   "outputs": [
    {
     "name": "stdout",
     "output_type": "stream",
     "text": [
      "Accuracy: 0.999304531780933\n",
      "Precision: 0.9992607995438161\n",
      "Recall: 0.999304531780933\n",
      "F1 Score: 0.9991986205231683\n",
      "\n",
      "\n",
      "              precision    recall  f1-score   support\n",
      "\n",
      "           0       1.00      1.00      1.00   1270904\n",
      "           1       0.93      0.49      0.64      1620\n",
      "\n",
      "    accuracy                           1.00   1272524\n",
      "   macro avg       0.96      0.75      0.82   1272524\n",
      "weighted avg       1.00      1.00      1.00   1272524\n",
      "\n"
     ]
    }
   ],
   "source": [
    "relu_sgd_model_CNN_pred = relu_sgd_model_CNN.predict(x_test_cnn)\n",
    "relu_sgd_model_CNN_pred = np.argmax(relu_sgd_model_CNN_pred, axis=1)\n",
    "\n",
    "relu_sgd_model_CNN_acc = metrics.accuracy_score(y_true, relu_sgd_model_CNN_pred)\n",
    "relu_sgd_model_CNN_prec = metrics.precision_score(y_true, relu_sgd_model_CNN_pred, average= \"weighted\")\n",
    "relu_sgd_model_CNN_recall = metrics.recall_score(y_true, relu_sgd_model_CNN_pred, average= \"weighted\")\n",
    "relu_sgd_model_CNN_f1 = metrics.f1_score(y_true, relu_sgd_model_CNN_pred, average= \"weighted\")\n",
    "\n",
    "print('Accuracy: {}'.format(relu_sgd_model_CNN_acc))\n",
    "print('Precision: {}'.format(relu_sgd_model_CNN_prec))\n",
    "print('Recall: {}'.format(relu_sgd_model_CNN_recall))\n",
    "print('F1 Score: {}'.format(relu_sgd_model_CNN_f1))\n",
    "print(\"\\n\");\n",
    "print(metrics.classification_report(y_true, relu_sgd_model_CNN_pred))"
   ]
  },
  {
   "cell_type": "markdown",
   "id": "9e9fa074",
   "metadata": {},
   "source": [
    "# \n",
    "### (Sigmoid + Adam + 2 Convolution Layers with 32 and 64 kernals + Kernal Size: 1x5)"
   ]
  },
  {
   "cell_type": "code",
   "execution_count": 22,
   "id": "fc13966b",
   "metadata": {},
   "outputs": [
    {
     "name": "stdout",
     "output_type": "stream",
     "text": [
      "\n",
      "\n",
      "              precision    recall  f1-score   support\n",
      "\n",
      "           0       1.00      1.00      1.00   1270904\n",
      "           1       0.86      0.59      0.70      1620\n",
      "\n",
      "    accuracy                           1.00   1272524\n",
      "   macro avg       0.93      0.79      0.85   1272524\n",
      "weighted avg       1.00      1.00      1.00   1272524\n",
      "\n"
     ]
    }
   ],
   "source": [
    "sigmoid_adam_model_CNN_pred = sigmoid_adam_model_CNN.predict(x_test_cnn)\n",
    "sigmod_adam_model_CNN_pred = np.argmax(sigmoid_adam_model_CNN_pred, axis=1)\n",
    "\n",
    "# sigmoid_adam_model_CNN_acc = metrics.accuracy_score(y_true, sigmoid_adam_model_CNN_pred)\n",
    "# sigmoid_adam_model_CNN_prec = metrics.precision_score(y_true, sigmoid_adam_model_CNN_pred, average= \"weighted\")\n",
    "# sigmoid_adam_model_CNN_recall = metrics.recall_score(y_true, sigmoid_adam_model_CNN_pred, average= \"weighted\")\n",
    "# sigmoid_adam_model_CNN_f1 = metrics.f1_score(y_true, sigmoid_adam_model_CNN_pred, average= \"weighted\")\n",
    "\n",
    "# print('Accuracy: {}'.format(sigmoid_adam_model_CNN_acc))\n",
    "# print('Precision: {}'.format(sigmoid_adam_model_CNN_prec))\n",
    "# print('Recall: {}'.format(sigmoid_adam_model_CNN_recall))\n",
    "# print('F1 Score: {}'.format(sigmoid_adam_model_CNN_f1))\n",
    "print(\"\\n\");\n",
    "print(metrics.classification_report(y_true, sigmod_adam_model_CNN_pred))"
   ]
  },
  {
   "cell_type": "markdown",
   "id": "c2e263f5",
   "metadata": {},
   "source": [
    "# \n",
    "### (Sigmoid + SGD + 2 Convolution Layers with 32 and 64 kernals + Kernal Size: 1x5)"
   ]
  },
  {
   "cell_type": "code",
   "execution_count": 23,
   "id": "79de754c",
   "metadata": {},
   "outputs": [
    {
     "name": "stderr",
     "output_type": "stream",
     "text": [
      "C:\\ProgramData\\Anaconda3\\envs\\tf\\lib\\site-packages\\sklearn\\metrics\\_classification.py:1334: UndefinedMetricWarning: Precision is ill-defined and being set to 0.0 in labels with no predicted samples. Use `zero_division` parameter to control this behavior.\n",
      "  _warn_prf(average, modifier, msg_start, len(result))\n"
     ]
    },
    {
     "name": "stdout",
     "output_type": "stream",
     "text": [
      "Accuracy: 0.9987269395311994\n",
      "Precision: 0.997455499745356\n",
      "Recall: 0.9987269395311994\n",
      "F1 Score: 0.9980908147256061\n",
      "\n",
      "\n"
     ]
    },
    {
     "name": "stderr",
     "output_type": "stream",
     "text": [
      "C:\\ProgramData\\Anaconda3\\envs\\tf\\lib\\site-packages\\sklearn\\metrics\\_classification.py:1334: UndefinedMetricWarning: Precision and F-score are ill-defined and being set to 0.0 in labels with no predicted samples. Use `zero_division` parameter to control this behavior.\n",
      "  _warn_prf(average, modifier, msg_start, len(result))\n",
      "C:\\ProgramData\\Anaconda3\\envs\\tf\\lib\\site-packages\\sklearn\\metrics\\_classification.py:1334: UndefinedMetricWarning: Precision and F-score are ill-defined and being set to 0.0 in labels with no predicted samples. Use `zero_division` parameter to control this behavior.\n",
      "  _warn_prf(average, modifier, msg_start, len(result))\n",
      "C:\\ProgramData\\Anaconda3\\envs\\tf\\lib\\site-packages\\sklearn\\metrics\\_classification.py:1334: UndefinedMetricWarning: Precision and F-score are ill-defined and being set to 0.0 in labels with no predicted samples. Use `zero_division` parameter to control this behavior.\n",
      "  _warn_prf(average, modifier, msg_start, len(result))\n"
     ]
    },
    {
     "name": "stdout",
     "output_type": "stream",
     "text": [
      "              precision    recall  f1-score   support\n",
      "\n",
      "           0       1.00      1.00      1.00   1270904\n",
      "           1       0.00      0.00      0.00      1620\n",
      "\n",
      "    accuracy                           1.00   1272524\n",
      "   macro avg       0.50      0.50      0.50   1272524\n",
      "weighted avg       1.00      1.00      1.00   1272524\n",
      "\n"
     ]
    }
   ],
   "source": [
    "sigmoid_sgd_model_CNN_pred = sigmoid_sgd_model_CNN.predict(x_test_cnn)\n",
    "sigmoid_sgd_model_CNN_pred = np.argmax(sigmoid_sgd_model_CNN_pred, axis=1)\n",
    "\n",
    "sigmoid_sgd_model_CNN_acc = metrics.accuracy_score(y_true, sigmoid_sgd_model_CNN_pred)\n",
    "sigmoid_sgd_model_CNN_prec = metrics.precision_score(y_true, sigmoid_sgd_model_CNN_pred, average= \"weighted\")\n",
    "sigmoid_sgd_model_CNN_recall = metrics.recall_score(y_true, sigmoid_sgd_model_CNN_pred, average= \"weighted\")\n",
    "sigmoid_sgd_model_CNN_f1 = metrics.f1_score(y_true, sigmoid_sgd_model_CNN_pred, average= \"weighted\")\n",
    "\n",
    "print('Accuracy: {}'.format(sigmoid_sgd_model_CNN_acc))\n",
    "print('Precision: {}'.format(sigmoid_sgd_model_CNN_prec))\n",
    "print('Recall: {}'.format(sigmoid_sgd_model_CNN_recall))\n",
    "print('F1 Score: {}'.format(sigmoid_sgd_model_CNN_f1))\n",
    "print(\"\\n\");\n",
    "print(metrics.classification_report(y_true, sigmoid_sgd_model_CNN_pred))"
   ]
  },
  {
   "cell_type": "markdown",
   "id": "7ae7411e",
   "metadata": {},
   "source": [
    "# \n",
    "### (Tanh + Adam + 2 Convolution Layers with 32 and 64 kernals + Kernal Size: 1x5)"
   ]
  },
  {
   "cell_type": "code",
   "execution_count": 24,
   "id": "2e27c320",
   "metadata": {},
   "outputs": [
    {
     "name": "stdout",
     "output_type": "stream",
     "text": [
      "Accuracy: 0.9993013884217508\n",
      "Precision: 0.9992375249401254\n",
      "Recall: 0.9993013884217508\n",
      "F1 Score: 0.9992159946529156\n",
      "\n",
      "\n",
      "              precision    recall  f1-score   support\n",
      "\n",
      "           0       1.00      1.00      1.00   1270904\n",
      "           1       0.87      0.53      0.66      1620\n",
      "\n",
      "    accuracy                           1.00   1272524\n",
      "   macro avg       0.94      0.76      0.83   1272524\n",
      "weighted avg       1.00      1.00      1.00   1272524\n",
      "\n"
     ]
    }
   ],
   "source": [
    "tanh_adam_model_CNN_pred = tanh_adam_model_CNN.predict(x_test_cnn)\n",
    "tanh_adam_model_CNN_pred = np.argmax(tanh_adam_model_CNN_pred, axis=1)\n",
    "\n",
    "tanh_adam_model_CNN_acc = metrics.accuracy_score(y_true, tanh_adam_model_CNN_pred)\n",
    "tanh_adam_model_CNN_prec = metrics.precision_score(y_true, tanh_adam_model_CNN_pred, average= \"weighted\")\n",
    "tanh_adam_model_CNN_recall = metrics.recall_score(y_true, tanh_adam_model_CNN_pred, average= \"weighted\")\n",
    "tanh_adam_model_CNN_f1 = metrics.f1_score(y_true, tanh_adam_model_CNN_pred, average= \"weighted\")\n",
    "\n",
    "print('Accuracy: {}'.format(tanh_adam_model_CNN_acc))\n",
    "print('Precision: {}'.format(tanh_adam_model_CNN_prec))\n",
    "print('Recall: {}'.format(tanh_adam_model_CNN_recall))\n",
    "print('F1 Score: {}'.format(tanh_adam_model_CNN_f1))\n",
    "print(\"\\n\");\n",
    "print(metrics.classification_report(y_true, tanh_adam_model_CNN_pred))"
   ]
  },
  {
   "cell_type": "markdown",
   "id": "2ddd0fa1",
   "metadata": {},
   "source": [
    "# \n",
    "### (Tanh + SGD + 2 Convolution Layers with 32 and 64 kernals + Kernal Size: 1x5)"
   ]
  },
  {
   "cell_type": "code",
   "execution_count": 25,
   "id": "1bc9ffc5",
   "metadata": {},
   "outputs": [
    {
     "name": "stdout",
     "output_type": "stream",
     "text": [
      "Accuracy: 0.9992966733829775\n",
      "Precision: 0.9992518441559455\n",
      "Recall: 0.9992966733829775\n",
      "F1 Score: 0.9991877112266313\n",
      "\n",
      "\n",
      "              precision    recall  f1-score   support\n",
      "\n",
      "           0       1.00      1.00      1.00   1270904\n",
      "           1       0.92      0.49      0.64      1620\n",
      "\n",
      "    accuracy                           1.00   1272524\n",
      "   macro avg       0.96      0.74      0.82   1272524\n",
      "weighted avg       1.00      1.00      1.00   1272524\n",
      "\n"
     ]
    }
   ],
   "source": [
    "tanh_sgd_model_CNN_pred = tanh_sgd_model_CNN.predict(x_test_cnn)\n",
    "tanh_sgd_model_CNN_pred = np.argmax(tanh_sgd_model_CNN_pred, axis=1)\n",
    "\n",
    "tanh_sgd_model_CNN_acc = metrics.accuracy_score(y_true, tanh_sgd_model_CNN_pred)\n",
    "tanh_sgd_model_CNN_prec = metrics.precision_score(y_true, tanh_sgd_model_CNN_pred, average= \"weighted\")\n",
    "tanh_sgd_model_CNN_recall = metrics.recall_score(y_true, tanh_sgd_model_CNN_pred, average= \"weighted\")\n",
    "tanh_sgd_model_CNN_f1 = metrics.f1_score(y_true, tanh_sgd_model_CNN_pred, average= \"weighted\")\n",
    "\n",
    "print('Accuracy: {}'.format(tanh_sgd_model_CNN_acc))\n",
    "print('Precision: {}'.format(tanh_sgd_model_CNN_prec))\n",
    "print('Recall: {}'.format(tanh_sgd_model_CNN_recall))\n",
    "print('F1 Score: {}'.format(tanh_sgd_model_CNN_f1))\n",
    "print(\"\\n\");\n",
    "print(metrics.classification_report(y_true, tanh_sgd_model_CNN_pred))"
   ]
  },
  {
   "cell_type": "markdown",
   "id": "c9925ba2",
   "metadata": {},
   "source": [
    "# \n",
    "# Plot Confusion Matrix for Each Model"
   ]
  },
  {
   "cell_type": "markdown",
   "id": "ae2d40c6",
   "metadata": {},
   "source": [
    "### FC (Relu + Adam)"
   ]
  },
  {
   "cell_type": "code",
   "execution_count": 39,
   "id": "058f6fcd",
   "metadata": {
    "scrolled": false
   },
   "outputs": [
    {
     "name": "stdout",
     "output_type": "stream",
     "text": [
      "[[1270786     118]\n",
      " [    644     976]]\n",
      "Plotting confusion matrix\n"
     ]
    },
    {
     "data": {
      "image/png": "[encoded data removed]",
      "text/plain": [
       "<Figure size 640x480 with 2 Axes>"
      ]
     },
     "metadata": {},
     "output_type": "display_data"
    },
    {
     "name": "stdout",
     "output_type": "stream",
     "text": [
      "              precision    recall  f1-score   support\n",
      "\n",
      "           0       1.00      1.00      1.00   1270904\n",
      "           1       0.89      0.60      0.72      1620\n",
      "\n",
      "    accuracy                           1.00   1272524\n",
      "   macro avg       0.95      0.80      0.86   1272524\n",
      "weighted avg       1.00      1.00      1.00   1272524\n",
      "\n"
     ]
    }
   ],
   "source": [
    "# Compute confusion matrix\n",
    "cm = confusion_matrix(y_true, relu_adam_model_FC_pred)\n",
    "print(cm)\n",
    "\n",
    "print('Plotting confusion matrix')\n",
    "\n",
    "plt.figure()\n",
    "plot_confusion_matrix(cm, binary_intrusion_data )\n",
    "plt.show()\n",
    "\n",
    "print(classification_report(y_true, relu_adam_model_FC_pred))"
   ]
  },
  {
   "cell_type": "markdown",
   "id": "abc5b4a9",
   "metadata": {},
   "source": [
    "### FC (Sigmoid + Adam)"
   ]
  },
  {
   "cell_type": "code",
   "execution_count": 40,
   "id": "aca739e8",
   "metadata": {
    "scrolled": false
   },
   "outputs": [
    {
     "name": "stdout",
     "output_type": "stream",
     "text": [
      "[[1270810      94]\n",
      " [    744     876]]\n",
      "Plotting confusion matrix\n"
     ]
    },
    {
     "data": {
      "image/png": "[encoded data removed]",
      "text/plain": [
       "<Figure size 640x480 with 2 Axes>"
      ]
     },
     "metadata": {},
     "output_type": "display_data"
    },
    {
     "name": "stdout",
     "output_type": "stream",
     "text": [
      "              precision    recall  f1-score   support\n",
      "\n",
      "           0       1.00      1.00      1.00   1270904\n",
      "           1       0.90      0.54      0.68      1620\n",
      "\n",
      "    accuracy                           1.00   1272524\n",
      "   macro avg       0.95      0.77      0.84   1272524\n",
      "weighted avg       1.00      1.00      1.00   1272524\n",
      "\n"
     ]
    }
   ],
   "source": [
    "# Compute confusion matrix\n",
    "cm = confusion_matrix(y_true, sigmoid_adam_model_FC_pred)\n",
    "print(cm)\n",
    "\n",
    "print('Plotting confusion matrix')\n",
    "\n",
    "plt.figure()\n",
    "plot_confusion_matrix(cm, binary_intrusion_data )\n",
    "plt.show()\n",
    "\n",
    "print(classification_report(y_true, sigmoid_adam_model_FC_pred))"
   ]
  },
  {
   "cell_type": "markdown",
   "id": "7e65ce6e",
   "metadata": {},
   "source": [
    "### FC (Tanh + Adam)"
   ]
  },
  {
   "cell_type": "code",
   "execution_count": 41,
   "id": "ca093407",
   "metadata": {
    "scrolled": false
   },
   "outputs": [
    {
     "name": "stdout",
     "output_type": "stream",
     "text": [
      "[[1270746     158]\n",
      " [    642     978]]\n",
      "Plotting confusion matrix\n"
     ]
    },
    {
     "data": {
      "image/png": "[encoded data removed]",
      "text/plain": [
       "<Figure size 640x480 with 2 Axes>"
      ]
     },
     "metadata": {},
     "output_type": "display_data"
    },
    {
     "name": "stdout",
     "output_type": "stream",
     "text": [
      "              precision    recall  f1-score   support\n",
      "\n",
      "           0       1.00      1.00      1.00   1270904\n",
      "           1       0.86      0.60      0.71      1620\n",
      "\n",
      "    accuracy                           1.00   1272524\n",
      "   macro avg       0.93      0.80      0.85   1272524\n",
      "weighted avg       1.00      1.00      1.00   1272524\n",
      "\n"
     ]
    }
   ],
   "source": [
    "# Compute confusion matrix\n",
    "cm = confusion_matrix(y_true, tanh_adam_model_FC_pred)\n",
    "print(cm)\n",
    "\n",
    "print('Plotting confusion matrix')\n",
    "\n",
    "plt.figure()\n",
    "plot_confusion_matrix(cm, binary_intrusion_data )\n",
    "plt.show()\n",
    "\n",
    "print(classification_report(y_true, tanh_adam_model_FC_pred))"
   ]
  },
  {
   "cell_type": "markdown",
   "id": "daf28dce",
   "metadata": {},
   "source": [
    "### (Relu + Adam + 2 Convolution Layers with 32 and 64 kernals + Kernal Size: 1x5)"
   ]
  },
  {
   "cell_type": "code",
   "execution_count": 42,
   "id": "5d2835b9",
   "metadata": {
    "scrolled": false
   },
   "outputs": [
    {
     "name": "stdout",
     "output_type": "stream",
     "text": [
      "[[1270857      47]\n",
      " [    893     727]]\n",
      "Plotting confusion matrix\n"
     ]
    },
    {
     "data": {
      "image/png": "[encoded data removed]",
      "text/plain": [
       "<Figure size 640x480 with 2 Axes>"
      ]
     },
     "metadata": {},
     "output_type": "display_data"
    },
    {
     "name": "stdout",
     "output_type": "stream",
     "text": [
      "              precision    recall  f1-score   support\n",
      "\n",
      "           0       1.00      1.00      1.00   1270904\n",
      "           1       0.94      0.45      0.61      1620\n",
      "\n",
      "    accuracy                           1.00   1272524\n",
      "   macro avg       0.97      0.72      0.80   1272524\n",
      "weighted avg       1.00      1.00      1.00   1272524\n",
      "\n"
     ]
    }
   ],
   "source": [
    "# Compute confusion matrix\n",
    "cm = confusion_matrix(y_true, relu_adam_model_CNN_pred)\n",
    "print(cm)\n",
    "\n",
    "print('Plotting confusion matrix')\n",
    "\n",
    "plt.figure()\n",
    "plot_confusion_matrix(cm, binary_intrusion_data )\n",
    "plt.show()\n",
    "\n",
    "print(classification_report(y_true, relu_adam_model_CNN_pred))"
   ]
  },
  {
   "cell_type": "markdown",
   "id": "5802dc4a",
   "metadata": {},
   "source": [
    "### (Relu + SGD + 2 Convolution Layers with 32 and 64 kernals + Kernal Size: 1x5)"
   ]
  },
  {
   "cell_type": "code",
   "execution_count": 43,
   "id": "49e01702",
   "metadata": {
    "scrolled": false
   },
   "outputs": [
    {
     "name": "stdout",
     "output_type": "stream",
     "text": [
      "[[1270840      64]\n",
      " [    821     799]]\n",
      "Plotting confusion matrix\n"
     ]
    },
    {
     "data": {
      "image/png": "[encoded data removed]",
      "text/plain": [
       "<Figure size 640x480 with 2 Axes>"
      ]
     },
     "metadata": {},
     "output_type": "display_data"
    },
    {
     "name": "stdout",
     "output_type": "stream",
     "text": [
      "              precision    recall  f1-score   support\n",
      "\n",
      "           0       1.00      1.00      1.00   1270904\n",
      "           1       0.93      0.49      0.64      1620\n",
      "\n",
      "    accuracy                           1.00   1272524\n",
      "   macro avg       0.96      0.75      0.82   1272524\n",
      "weighted avg       1.00      1.00      1.00   1272524\n",
      "\n"
     ]
    }
   ],
   "source": [
    "# Compute confusion matrix\n",
    "cm = confusion_matrix(y_true, relu_sgd_model_CNN_pred)\n",
    "print(cm)\n",
    "\n",
    "print('Plotting confusion matrix')\n",
    "\n",
    "plt.figure()\n",
    "plot_confusion_matrix(cm, binary_intrusion_data )\n",
    "plt.show()\n",
    "\n",
    "print(classification_report(y_true, relu_sgd_model_CNN_pred))"
   ]
  },
  {
   "cell_type": "markdown",
   "id": "5a3949b3",
   "metadata": {},
   "source": [
    "### (Sigmoid + Adam + 2 Convolution Layers with 32 and 64 kernals + Kernal Size: 1x5)"
   ]
  },
  {
   "cell_type": "code",
   "execution_count": 44,
   "id": "f5af8358",
   "metadata": {},
   "outputs": [
    {
     "ename": "ValueError",
     "evalue": "Classification metrics can't handle a mix of binary and continuous-multioutput targets",
     "output_type": "error",
     "traceback": [
      "\u001b[1;31m---------------------------------------------------------------------------\u001b[0m",
      "\u001b[1;31mValueError\u001b[0m                                Traceback (most recent call last)",
      "Cell \u001b[1;32mIn [44], line 2\u001b[0m\n\u001b[0;32m      1\u001b[0m \u001b[38;5;66;03m# Compute confusion matrix\u001b[39;00m\n\u001b[1;32m----> 2\u001b[0m cm \u001b[38;5;241m=\u001b[39m \u001b[43mconfusion_matrix\u001b[49m\u001b[43m(\u001b[49m\u001b[43my_true\u001b[49m\u001b[43m,\u001b[49m\u001b[43m \u001b[49m\u001b[43msigmoid_adam_model_CNN_pred\u001b[49m\u001b[43m)\u001b[49m\n\u001b[0;32m      3\u001b[0m \u001b[38;5;28mprint\u001b[39m(cm)\n\u001b[0;32m      5\u001b[0m \u001b[38;5;28mprint\u001b[39m(\u001b[38;5;124m'\u001b[39m\u001b[38;5;124mPlotting confusion matrix\u001b[39m\u001b[38;5;124m'\u001b[39m)\n",
      "File \u001b[1;32mC:\\ProgramData\\Anaconda3\\envs\\tf\\lib\\site-packages\\sklearn\\metrics\\_classification.py:307\u001b[0m, in \u001b[0;36mconfusion_matrix\u001b[1;34m(y_true, y_pred, labels, sample_weight, normalize)\u001b[0m\n\u001b[0;32m    222\u001b[0m \u001b[38;5;28;01mdef\u001b[39;00m \u001b[38;5;21mconfusion_matrix\u001b[39m(\n\u001b[0;32m    223\u001b[0m     y_true, y_pred, \u001b[38;5;241m*\u001b[39m, labels\u001b[38;5;241m=\u001b[39m\u001b[38;5;28;01mNone\u001b[39;00m, sample_weight\u001b[38;5;241m=\u001b[39m\u001b[38;5;28;01mNone\u001b[39;00m, normalize\u001b[38;5;241m=\u001b[39m\u001b[38;5;28;01mNone\u001b[39;00m\n\u001b[0;32m    224\u001b[0m ):\n\u001b[0;32m    225\u001b[0m     \u001b[38;5;124;03m\"\"\"Compute confusion matrix to evaluate the accuracy of a classification.\u001b[39;00m\n\u001b[0;32m    226\u001b[0m \n\u001b[0;32m    227\u001b[0m \u001b[38;5;124;03m    By definition a confusion matrix :math:`C` is such that :math:`C_{i, j}`\u001b[39;00m\n\u001b[1;32m   (...)\u001b[0m\n\u001b[0;32m    305\u001b[0m \u001b[38;5;124;03m    (0, 2, 1, 1)\u001b[39;00m\n\u001b[0;32m    306\u001b[0m \u001b[38;5;124;03m    \"\"\"\u001b[39;00m\n\u001b[1;32m--> 307\u001b[0m     y_type, y_true, y_pred \u001b[38;5;241m=\u001b[39m \u001b[43m_check_targets\u001b[49m\u001b[43m(\u001b[49m\u001b[43my_true\u001b[49m\u001b[43m,\u001b[49m\u001b[43m \u001b[49m\u001b[43my_pred\u001b[49m\u001b[43m)\u001b[49m\n\u001b[0;32m    308\u001b[0m     \u001b[38;5;28;01mif\u001b[39;00m y_type \u001b[38;5;129;01mnot\u001b[39;00m \u001b[38;5;129;01min\u001b[39;00m (\u001b[38;5;124m\"\u001b[39m\u001b[38;5;124mbinary\u001b[39m\u001b[38;5;124m\"\u001b[39m, \u001b[38;5;124m\"\u001b[39m\u001b[38;5;124mmulticlass\u001b[39m\u001b[38;5;124m\"\u001b[39m):\n\u001b[0;32m    309\u001b[0m         \u001b[38;5;28;01mraise\u001b[39;00m \u001b[38;5;167;01mValueError\u001b[39;00m(\u001b[38;5;124m\"\u001b[39m\u001b[38;5;132;01m%s\u001b[39;00m\u001b[38;5;124m is not supported\u001b[39m\u001b[38;5;124m\"\u001b[39m \u001b[38;5;241m%\u001b[39m y_type)\n",
      "File \u001b[1;32mC:\\ProgramData\\Anaconda3\\envs\\tf\\lib\\site-packages\\sklearn\\metrics\\_classification.py:93\u001b[0m, in \u001b[0;36m_check_targets\u001b[1;34m(y_true, y_pred)\u001b[0m\n\u001b[0;32m     90\u001b[0m     y_type \u001b[38;5;241m=\u001b[39m {\u001b[38;5;124m\"\u001b[39m\u001b[38;5;124mmulticlass\u001b[39m\u001b[38;5;124m\"\u001b[39m}\n\u001b[0;32m     92\u001b[0m \u001b[38;5;28;01mif\u001b[39;00m \u001b[38;5;28mlen\u001b[39m(y_type) \u001b[38;5;241m>\u001b[39m \u001b[38;5;241m1\u001b[39m:\n\u001b[1;32m---> 93\u001b[0m     \u001b[38;5;28;01mraise\u001b[39;00m \u001b[38;5;167;01mValueError\u001b[39;00m(\n\u001b[0;32m     94\u001b[0m         \u001b[38;5;124m\"\u001b[39m\u001b[38;5;124mClassification metrics can\u001b[39m\u001b[38;5;124m'\u001b[39m\u001b[38;5;124mt handle a mix of \u001b[39m\u001b[38;5;132;01m{0}\u001b[39;00m\u001b[38;5;124m and \u001b[39m\u001b[38;5;132;01m{1}\u001b[39;00m\u001b[38;5;124m targets\u001b[39m\u001b[38;5;124m\"\u001b[39m\u001b[38;5;241m.\u001b[39mformat(\n\u001b[0;32m     95\u001b[0m             type_true, type_pred\n\u001b[0;32m     96\u001b[0m         )\n\u001b[0;32m     97\u001b[0m     )\n\u001b[0;32m     99\u001b[0m \u001b[38;5;66;03m# We can't have more than one value on y_type => The set is no more needed\u001b[39;00m\n\u001b[0;32m    100\u001b[0m y_type \u001b[38;5;241m=\u001b[39m y_type\u001b[38;5;241m.\u001b[39mpop()\n",
      "\u001b[1;31mValueError\u001b[0m: Classification metrics can't handle a mix of binary and continuous-multioutput targets"
     ]
    }
   ],
   "source": [
    "# Compute confusion matrix\n",
    "cm = confusion_matrix(y_true, sigmoid_adam_model_CNN_pred)\n",
    "print(cm)\n",
    "\n",
    "print('Plotting confusion matrix')\n",
    "\n",
    "plt.figure()\n",
    "plot_confusion_matrix(cm, binary_intrusion_data )\n",
    "plt.show()\n",
    "\n",
    "print(classification_report(y_true, sigmoid_adam_model_CNN_pred))"
   ]
  },
  {
   "cell_type": "markdown",
   "id": "78184036",
   "metadata": {},
   "source": [
    "### (Sigmoid + SGD + 2 Convolution Layers with 32 and 64 kernals + Kernal Size: 1x5)"
   ]
  },
  {
   "cell_type": "code",
   "execution_count": 45,
   "id": "5d7b95c9",
   "metadata": {},
   "outputs": [
    {
     "name": "stdout",
     "output_type": "stream",
     "text": [
      "[[1270904       0]\n",
      " [   1620       0]]\n",
      "Plotting confusion matrix\n"
     ]
    },
    {
     "data": {
      "image/png": "[encoded data removed]",
      "text/plain": [
       "<Figure size 640x480 with 2 Axes>"
      ]
     },
     "metadata": {},
     "output_type": "display_data"
    },
    {
     "name": "stderr",
     "output_type": "stream",
     "text": [
      "C:\\ProgramData\\Anaconda3\\envs\\tf\\lib\\site-packages\\sklearn\\metrics\\_classification.py:1334: UndefinedMetricWarning: Precision and F-score are ill-defined and being set to 0.0 in labels with no predicted samples. Use `zero_division` parameter to control this behavior.\n",
      "  _warn_prf(average, modifier, msg_start, len(result))\n",
      "C:\\ProgramData\\Anaconda3\\envs\\tf\\lib\\site-packages\\sklearn\\metrics\\_classification.py:1334: UndefinedMetricWarning: Precision and F-score are ill-defined and being set to 0.0 in labels with no predicted samples. Use `zero_division` parameter to control this behavior.\n",
      "  _warn_prf(average, modifier, msg_start, len(result))\n",
      "C:\\ProgramData\\Anaconda3\\envs\\tf\\lib\\site-packages\\sklearn\\metrics\\_classification.py:1334: UndefinedMetricWarning: Precision and F-score are ill-defined and being set to 0.0 in labels with no predicted samples. Use `zero_division` parameter to control this behavior.\n",
      "  _warn_prf(average, modifier, msg_start, len(result))\n"
     ]
    },
    {
     "name": "stdout",
     "output_type": "stream",
     "text": [
      "              precision    recall  f1-score   support\n",
      "\n",
      "           0       1.00      1.00      1.00   1270904\n",
      "           1       0.00      0.00      0.00      1620\n",
      "\n",
      "    accuracy                           1.00   1272524\n",
      "   macro avg       0.50      0.50      0.50   1272524\n",
      "weighted avg       1.00      1.00      1.00   1272524\n",
      "\n"
     ]
    }
   ],
   "source": [
    "# Compute confusion matrix\n",
    "cm = confusion_matrix(y_true, sigmoid_sgd_model_CNN_pred)\n",
    "print(cm)\n",
    "\n",
    "print('Plotting confusion matrix')\n",
    "\n",
    "plt.figure()\n",
    "plot_confusion_matrix(cm, binary_intrusion_data )\n",
    "plt.show()\n",
    "\n",
    "print(classification_report(y_true, sigmoid_sgd_model_CNN_pred))"
   ]
  },
  {
   "cell_type": "markdown",
   "id": "9e8138fb",
   "metadata": {},
   "source": [
    "### (Tanh + Adam + 2 Convolution Layers with 32 and 64 kernals + Kernal Size: 1x5)"
   ]
  },
  {
   "cell_type": "code",
   "execution_count": 46,
   "id": "6526484d",
   "metadata": {},
   "outputs": [
    {
     "name": "stdout",
     "output_type": "stream",
     "text": [
      "[[1270778     126]\n",
      " [    763     857]]\n",
      "Plotting confusion matrix\n"
     ]
    },
    {
     "data": {
      "image/png": "[encoded data removed]",
      "text/plain": [
       "<Figure size 640x480 with 2 Axes>"
      ]
     },
     "metadata": {},
     "output_type": "display_data"
    },
    {
     "name": "stdout",
     "output_type": "stream",
     "text": [
      "              precision    recall  f1-score   support\n",
      "\n",
      "           0       1.00      1.00      1.00   1270904\n",
      "           1       0.87      0.53      0.66      1620\n",
      "\n",
      "    accuracy                           1.00   1272524\n",
      "   macro avg       0.94      0.76      0.83   1272524\n",
      "weighted avg       1.00      1.00      1.00   1272524\n",
      "\n"
     ]
    }
   ],
   "source": [
    "# Compute confusion matrix\n",
    "cm = confusion_matrix(y_true, tanh_adam_model_CNN_pred)\n",
    "print(cm)\n",
    "\n",
    "print('Plotting confusion matrix')\n",
    "\n",
    "plt.figure()\n",
    "plot_confusion_matrix(cm, binary_intrusion_data )\n",
    "plt.show()\n",
    "\n",
    "print(classification_report(y_true, tanh_adam_model_CNN_pred))"
   ]
  },
  {
   "cell_type": "markdown",
   "id": "aa76bcc5",
   "metadata": {},
   "source": [
    "### (Tanh + SGD + 2 Convolution Layers with 32 and 64 kernals + Kernal Size: 1x5)"
   ]
  },
  {
   "cell_type": "code",
   "execution_count": 47,
   "id": "41095e8e",
   "metadata": {},
   "outputs": [
    {
     "name": "stdout",
     "output_type": "stream",
     "text": [
      "[[1270840      64]\n",
      " [    831     789]]\n",
      "Plotting confusion matrix\n"
     ]
    },
    {
     "data": {
      "image/png": "[encoded data removed]",
      "text/plain": [
       "<Figure size 640x480 with 2 Axes>"
      ]
     },
     "metadata": {},
     "output_type": "display_data"
    },
    {
     "name": "stdout",
     "output_type": "stream",
     "text": [
      "              precision    recall  f1-score   support\n",
      "\n",
      "           0       1.00      1.00      1.00   1270904\n",
      "           1       0.92      0.49      0.64      1620\n",
      "\n",
      "    accuracy                           1.00   1272524\n",
      "   macro avg       0.96      0.74      0.82   1272524\n",
      "weighted avg       1.00      1.00      1.00   1272524\n",
      "\n"
     ]
    }
   ],
   "source": [
    "# Compute confusion matrix\n",
    "cm = confusion_matrix(y_true, tanh_sgd_model_CNN_pred)\n",
    "print(cm)\n",
    "\n",
    "print('Plotting confusion matrix')\n",
    "\n",
    "plt.figure()\n",
    "plot_confusion_matrix(cm, binary_intrusion_data )\n",
    "plt.show()\n",
    "\n",
    "print(classification_report(y_true, tanh_sgd_model_CNN_pred))"
   ]
  },
  {
   "cell_type": "markdown",
   "id": "13ccc9bc",
   "metadata": {},
   "source": [
    "### CNN (Relu + Adam + 1 Convolution Layers with 64 kernals + Kernal Size: 1x5)"
   ]
  },
  {
   "cell_type": "code",
   "execution_count": 48,
   "id": "384ff81e",
   "metadata": {
    "scrolled": false
   },
   "outputs": [
    {
     "name": "stdout",
     "output_type": "stream",
     "text": [
      "[[1270866      38]\n",
      " [    828     792]]\n",
      "Plotting confusion matrix\n"
     ]
    },
    {
     "data": {
      "image/png": "[encoded data removed]",
      "text/plain": [
       "<Figure size 640x480 with 2 Axes>"
      ]
     },
     "metadata": {},
     "output_type": "display_data"
    },
    {
     "name": "stdout",
     "output_type": "stream",
     "text": [
      "              precision    recall  f1-score   support\n",
      "\n",
      "           0       1.00      1.00      1.00   1270904\n",
      "           1       0.95      0.49      0.65      1620\n",
      "\n",
      "    accuracy                           1.00   1272524\n",
      "   macro avg       0.98      0.74      0.82   1272524\n",
      "weighted avg       1.00      1.00      1.00   1272524\n",
      "\n"
     ]
    }
   ],
   "source": [
    "# Compute confusion matrix\n",
    "cm = confusion_matrix(y_true, relu_adam_model_diff_CNN_pred)\n",
    "print(cm)\n",
    "\n",
    "print('Plotting confusion matrix')\n",
    "\n",
    "plt.figure()\n",
    "plot_confusion_matrix(cm, binary_intrusion_data )\n",
    "plt.show()\n",
    "\n",
    "print(classification_report(y_true, relu_adam_model_diff_CNN_pred))"
   ]
  }
 ],
 "metadata": {
  "kernelspec": {
   "display_name": "tensorflow",
   "language": "python",
   "name": "tensorflow"
  },
  "language_info": {
   "codemirror_mode": {
    "name": "ipython",
    "version": 3
   },
   "file_extension": ".py",
   "mimetype": "text/x-python",
   "name": "python",
   "nbconvert_exporter": "python",
   "pygments_lexer": "ipython3",
   "version": "3.8.13"
  }
 },
 "nbformat": 4,
 "nbformat_minor": 5
}
